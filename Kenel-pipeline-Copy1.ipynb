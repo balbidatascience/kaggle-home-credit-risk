{
 "cells": [
  {
   "cell_type": "markdown",
   "metadata": {},
   "source": [
    "# Home Credit Default Risk\n",
    "\n",
    "1. Introdução\n",
    "2. Descrição dos dados\n",
    "3. Carregando os dados\n",
    "4. Análise Exploratória\n",
    "5. Correlação | Correlation\n",
    "6. Feature Selection with Random Forest\n",
    "7. ...\n",
    "\n",
    "# 1. Introdução \n",
    "\n",
    "Many people struggle to get loans due to insufficient or non-existent credit histories. And, unfortunately, this population is often taken advantage of by untrustworthy lenders.\n",
    "\n",
    "[Home Credit Group](http://www.homecredit.net/) strives to broaden financial inclusion for the unbanked population by providing a positive and safe borrowing experience. In order to make sure this underserved population has a positive loan experience, Home Credit makes use of a variety of alternative data--including telco and transactional information--to predict their clients' repayment abilities.\n",
    "\n",
    "While Home Credit is currently using various statistical and machine learning methods to make these predictions, they're challenging Kagglers to help them unlock the full potential of their data. Doing so will ensure that clients capable of repayment are not rejected and that loans are given with a principal, maturity, and repayment calendar that will empower their clients to be successful.\n",
    "\n",
    "\n",
    "# 2. Descrição dos Dados\n",
    "\n",
    "\n",
    "* application_{train|test}.csv\n",
    "\n",
    "    * This is the main table, broken into two files for Train (with TARGET) and Test (without TARGET).\n",
    "    * Static data for all applications. One row represents one loan in our data sample.\n",
    "\n",
    "* bureau.csv\n",
    "\n",
    "    * All client's previous credits provided by other financial institutions that were reported to Credit Bureau (for clients who have a loan in our sample).\n",
    "    * For every loan in our sample, there are as many rows as number of credits the client had in Credit Bureau before the application date.\n",
    "\n",
    "* bureau_balance.csv\n",
    "\n",
    "    * Monthly balances of previous credits in Credit Bureau.\n",
    "    * This table has one row for each month of history of every previous credit reported to Credit Bureau – i.e the table has (#loans in sample * # of relative previous credits * # of months where we have some history observable for the previous credits) rows.\n",
    "\n",
    "* POS_CASH_balance.csv\n",
    "\n",
    "Monthly balance snapshots of previous POS (point of sales) and cash loans that the applicant had with Home Credit.\n",
    "This table has one row for each month of history of every previous credit in Home Credit (consumer credit and cash loans) related to loans in our sample – i.e. the table has (#loans in sample * # of relative previous credits * # of months in which we have some history observable for the previous credits) rows.\n",
    "credit_card_balance.csv\n",
    "\n",
    "Monthly balance snapshots of previous credit cards that the applicant has with Home Credit.\n",
    "This table has one row for each month of history of every previous credit in Home Credit (consumer credit and cash loans) related to loans in our sample – i.e. the table has (#loans in sample * # of relative previous credit cards * # of months where we have some history observable for the previous credit card) rows.\n",
    "previous_application.csv\n",
    "\n",
    "All previous applications for Home Credit loans of clients who have loans in our sample.\n",
    "There is one row for each previous application related to loans in our data sample.\n",
    "installments_payments.csv\n",
    "\n",
    "Repayment history for the previously disbursed credits in Home Credit related to the loans in our sample.\n",
    "There is a) one row for every payment that was made plus b) one row each for missed payment.\n",
    "One row is equivalent to one payment of one installment OR one installment corresponding to one payment of one previous Home Credit credit related to loans in our sample.\n",
    "HomeCredit_columns_description.csv\n",
    "\n",
    "This file contains descriptions for the columns in the various data files.\n",
    "\n",
    "![teste](home_credit.png)"
   ]
  },
  {
   "cell_type": "markdown",
   "metadata": {},
   "source": [
    "** Pacotes **"
   ]
  },
  {
   "cell_type": "code",
   "execution_count": 1,
   "metadata": {},
   "outputs": [
    {
     "data": {
      "text/html": [
       "<script>requirejs.config({paths: { 'plotly': ['https://cdn.plot.ly/plotly-latest.min']},});if(!window.Plotly) {{require(['plotly'],function(plotly) {window.Plotly=plotly;});}}</script>"
      ],
      "text/vnd.plotly.v1+html": [
       "<script>requirejs.config({paths: { 'plotly': ['https://cdn.plot.ly/plotly-latest.min']},});if(!window.Plotly) {{require(['plotly'],function(plotly) {window.Plotly=plotly;});}}</script>"
      ]
     },
     "metadata": {},
     "output_type": "display_data"
    },
    {
     "data": {
      "text/html": [
       "<script>requirejs.config({paths: { 'plotly': ['https://cdn.plot.ly/plotly-latest.min']},});if(!window.Plotly) {{require(['plotly'],function(plotly) {window.Plotly=plotly;});}}</script>"
      ],
      "text/vnd.plotly.v1+html": [
       "<script>requirejs.config({paths: { 'plotly': ['https://cdn.plot.ly/plotly-latest.min']},});if(!window.Plotly) {{require(['plotly'],function(plotly) {window.Plotly=plotly;});}}</script>"
      ]
     },
     "metadata": {},
     "output_type": "display_data"
    },
    {
     "name": "stderr",
     "output_type": "stream",
     "text": [
      "IOPub data rate exceeded.\n",
      "The notebook server will temporarily stop sending output\n",
      "to the client in order to avoid crashing it.\n",
      "To change this limit, set the config variable\n",
      "`--NotebookApp.iopub_data_rate_limit`.\n"
     ]
    }
   ],
   "source": [
    "# Instalação dos pacotes.\n",
    "# !pip install imblearn\n",
    "# !pip install lightgbm\n",
    "\n",
    "import time\n",
    "import pandas as pd\n",
    "import numpy as np\n",
    "\n",
    "from sklearn import preprocessing\n",
    "from sklearn.ensemble import RandomForestClassifier\n",
    "\n",
    "from sklearn.metrics import accuracy_score \n",
    "from sklearn.metrics import confusion_matrix \n",
    "from sklearn.metrics import fbeta_score\n",
    "from sklearn.metrics import classification_report\n",
    "\n",
    "# DataViz\n",
    "import matplotlib\n",
    "import matplotlib.pyplot as plt\n",
    "import seaborn as sns\n",
    "\n",
    "import plotly.offline as py\n",
    "py.init_notebook_mode(connected=True)\n",
    "from plotly.offline import init_notebook_mode, iplot\n",
    "init_notebook_mode(connected=True)\n",
    "import plotly.graph_objs as go\n",
    "import plotly.offline as offline\n",
    "offline.init_notebook_mode()\n",
    "\n",
    "# import cufflinks and offline mode\n",
    "import cufflinks as cf\n",
    "cf.go_offline()\n",
    "\n",
    "# Suppress warnings from pandas\n",
    "import warnings\n",
    "warnings.filterwarnings('ignore')\n",
    "\n",
    "%matplotlib inline\n",
    "# plt.style.use('fivethirtyeight')\n",
    "# plt.style.use('ggplot')\n",
    "plt.style.use('seaborn')\n",
    "# sns.set_style('whitegrid')\n",
    "\n",
    "# Memory management\n",
    "import gc "
   ]
  },
  {
   "cell_type": "markdown",
   "metadata": {},
   "source": [
    "# 3. Carregando os dados\n",
    "\n",
    "1. Baixe os datasets através deste link: https://www.kaggle.com/c/9120/download-all\n",
    "2. Descompacte na raiz do projeto e se necessário altere o paramêtro com o caminho dos datasets. "
   ]
  },
  {
   "cell_type": "code",
   "execution_count": 2,
   "metadata": {},
   "outputs": [
    {
     "name": "stdout",
     "output_type": "stream",
     "text": [
      "Train and test tables loaded.\n",
      "Bureau data loaded.\n",
      "Previous applications data loaded.\n",
      "Credit card balance loaded.\n",
      "POS cash balance loaded.\n",
      "Installments data loaded.\n",
      "Time it took to load all the data: 73.7691s\n",
      "\n"
     ]
    }
   ],
   "source": [
    "def load_data(data_src):\n",
    "    \n",
    "    start_time = time.time()\n",
    "    \n",
    "    train = pd.read_csv('{}application_train.csv'.format(data_src))\n",
    "    test = pd.read_csv('{}application_test.csv'.format(data_src))\n",
    "    print('Train and test tables loaded.')\n",
    "    \n",
    "    bureau = pd.read_csv('{}bureau.csv'.format(data_src))\n",
    "    bureau_bal = pd.read_csv('{}bureau_balance.csv'.format(data_src))\n",
    "    print('Bureau data loaded.')\n",
    "    \n",
    "    prev = pd.read_csv('{}previous_application.csv'.format(data_src))\n",
    "    print('Previous applications data loaded.')\n",
    "    \n",
    "    cred_card_bal = pd.read_csv('{}credit_card_balance.csv'.format(data_src))\n",
    "    print('Credit card balance loaded.')\n",
    "    \n",
    "    pos_cash_bal = pd.read_csv('{}POS_CASH_balance.csv'.format(data_src))\n",
    "    print('POS cash balance loaded.')\n",
    "    \n",
    "    ins = pd.read_csv('{}installments_payments.csv'.format(data_src))\n",
    "    print('Installments data loaded.')\n",
    "    \n",
    "    # error if using engine c - 'utf-8' codec can't decode byte 0x85\n",
    "    data_description = pd.read_csv('{}HomeCredit_columns_description.csv'.format(data_src), engine='python')\n",
    "    \n",
    "    print('Time it took to load all the data: {:.4f}s\\n'.format(time.time() - start_time))\n",
    "    \n",
    "    return train, test, bureau, bureau_bal, prev, cred_card_bal, pos_cash_bal, ins, data_description\n",
    "\n",
    "train, test, bureau, bureau_bal, prev, cred_card_bal, pos_cash_bal, ins, data_description = load_data('data/all/')\n",
    "\n",
    "# Copia \n",
    "df_train = train.copy()\n",
    "df_test = test.copy()"
   ]
  },
  {
   "cell_type": "markdown",
   "metadata": {},
   "source": [
    "## Join entre as tabelas dos dados\n",
    "\n",
    "Juntando os dados e criando novas colunas que podem ser úteis para o modelo. "
   ]
  },
  {
   "cell_type": "code",
   "execution_count": 3,
   "metadata": {},
   "outputs": [
    {
     "name": "stdout",
     "output_type": "stream",
     "text": [
      "(307511, 187)\n",
      "(48744, 186)\n"
     ]
    }
   ],
   "source": [
    "def join_tables(train, test, bureau):\n",
    "\n",
    "    train['CREDIT_INCOME_PERCENT'] = train['AMT_CREDIT'] / train['AMT_INCOME_TOTAL']\n",
    "    train['ANNUITY_INCOME_PERCENT'] = train['AMT_ANNUITY'] / train['AMT_INCOME_TOTAL']\n",
    "    train['CREDIT_TERM'] = train['AMT_ANNUITY'] / train['AMT_CREDIT']\n",
    "    train['DAYS_EMPLOYED_PERCENT'] = train['DAYS_EMPLOYED'] / train['DAYS_BIRTH']\n",
    "\n",
    "    test['CREDIT_INCOME_PERCENT'] = test['AMT_CREDIT'] / test['AMT_INCOME_TOTAL']\n",
    "    test['ANNUITY_INCOME_PERCENT'] = test['AMT_ANNUITY'] / test['AMT_INCOME_TOTAL']\n",
    "    test['CREDIT_TERM'] = test['AMT_ANNUITY'] / test['AMT_CREDIT']\n",
    "    test['DAYS_EMPLOYED_PERCENT'] = test['DAYS_EMPLOYED'] / test['DAYS_BIRTH']\n",
    "\n",
    "    # Groupby the client id (SK_ID_CURR), count the number of previous loans, and rename the column\n",
    "    previous_loan_counts = bureau.groupby('SK_ID_CURR', \n",
    "                                          as_index=False)['SK_ID_BUREAU']. \\\n",
    "                                            count().rename(columns = \n",
    "                                                           {'SK_ID_BUREAU': \n",
    "                                                            'previous_loan_counts'})\n",
    "\n",
    "    previous_loan_counts.head()\n",
    "\n",
    "    ## Qtde de emprestimos em outras entidades. ESTOU AQUI!!!\n",
    "\n",
    "    # Groupby the client id (SK_ID_CURR), count the number of previous loans, and rename the column\n",
    "    previous_loan_counts = bureau.groupby('SK_ID_CURR', \n",
    "                                          as_index=False)['SK_ID_BUREAU'].count().rename(columns = \n",
    "                                                            {'SK_ID_BUREAU': \n",
    "                                                             'previous_loan_counts'}\n",
    "                                                           )\n",
    "\n",
    "    train = train.merge(previous_loan_counts, on = 'SK_ID_CURR', how = 'left')\n",
    "    test = test.merge(previous_loan_counts, on = 'SK_ID_CURR', how = 'left')\n",
    "    # Fill the missing values with 0 \n",
    "    train['previous_loan_counts'] = train['previous_loan_counts'].fillna(0)\n",
    "    test['previous_loan_counts'] = test['previous_loan_counts'].fillna(0)\n",
    "\n",
    "\n",
    "    # Group by the client id, calculate aggregation statistics\n",
    "    bureau_agg = bureau.drop(['SK_ID_BUREAU'], \n",
    "                             axis=1).groupby('SK_ID_CURR', \n",
    "                                             as_index = False).agg( \\\n",
    "                                                ['count', 'mean', \n",
    "                                                 'max', 'min', 'sum']).reset_index()\n",
    "    # bureau_agg.head()\n",
    "\n",
    "    # List of column names\n",
    "    columns = ['SK_ID_CURR']\n",
    "\n",
    "    # Iterate through the variables names\n",
    "    for var in bureau_agg.columns.levels[0]:\n",
    "        # Skip the id name\n",
    "        if var != 'SK_ID_CURR':\n",
    "\n",
    "            # Iterate through the stat names\n",
    "            for stat in bureau_agg.columns.levels[1][:-1]:\n",
    "                # Make a new column name for the variable and stat\n",
    "                columns.append('bureau_%s_%s' % (var, stat))\n",
    "\n",
    "    # Assign the list of columns names as the dataframe column names\n",
    "    bureau_agg.columns = columns\n",
    "    bureau_agg.head()\n",
    "\n",
    "    # Now we simply merge with the training data as we did before.\n",
    "\n",
    "    # Merge with the training data\n",
    "    train = train.merge(bureau_agg, on = 'SK_ID_CURR', how = 'left')\n",
    "    test = test.merge(bureau_agg, on = 'SK_ID_CURR', how = 'left')\n",
    "    \n",
    "    return train, test\n",
    "# df_train.head()\n",
    "\n",
    "df_train_join, df_test_join = join_tables(df_train.copy(), df_test.copy(), bureau)\n",
    "\n",
    "print(df_train_join.shape)\n",
    "print(df_test_join.shape)\n"
   ]
  },
  {
   "cell_type": "markdown",
   "metadata": {},
   "source": [
    "# 4. Análise Exploratória"
   ]
  },
  {
   "cell_type": "code",
   "execution_count": 5,
   "metadata": {},
   "outputs": [
    {
     "name": "stdout",
     "output_type": "stream",
     "text": [
      "Distribuição da variável - Good(0) e Bad(1): \n",
      "0    282686\n",
      "1     24825\n",
      "Name: TARGET, dtype: int64\n"
     ]
    },
    {
     "data": {
      "image/png": "[encoded data removed]",
      "text/plain": [
       "<matplotlib.figure.Figure at 0x1694119e8>"
      ]
     },
     "metadata": {},
     "output_type": "display_data"
    }
   ],
   "source": [
    "print(\"Distribuição da variável - Good(0) e Bad(1): \")\n",
    "print(df_train[\"TARGET\"].value_counts())\n",
    "\n",
    "sns.factorplot(x =\"TARGET\", kind='count', data=df_train, size=4)\n",
    "plt.title(\"Distribuição dos Empréstimos\", fontsize=16)\n",
    "plt.xlabel(\"Com atraso?\", fontsize=14)\n",
    "plt.ylabel(\"Qtde\", fontsize=14)\n",
    "plt.show()"
   ]
  },
  {
   "cell_type": "code",
   "execution_count": 6,
   "metadata": {},
   "outputs": [
    {
     "data": {
      "text/plain": [
       "(array([ 0,  1,  2,  3,  4,  5,  6,  7,  8,  9, 10, 11, 12, 13, 14, 15, 16,\n",
       "        17]), <a list of 18 Text xticklabel objects>)"
      ]
     },
     "execution_count": 6,
     "metadata": {},
     "output_type": "execute_result"
    },
    {
     "data": {
      "image/png": "[encoded data removed]",
      "text/plain": [
       "<matplotlib.figure.Figure at 0x2292d7d30>"
      ]
     },
     "metadata": {},
     "output_type": "display_data"
    }
   ],
   "source": [
    "f, ax = plt.subplots(figsize=(20, 8))\n",
    "\n",
    "df_train['AMT_CREDIT_LOG'] = np.log(df_train['AMT_CREDIT'])\n",
    "\n",
    "sns.boxplot(data=df_train, x='OCCUPATION_TYPE', y='AMT_CREDIT_LOG', hue='TARGET')\n",
    "plt.xticks(rotation=45)\n"
   ]
  },
  {
   "cell_type": "code",
   "execution_count": 5,
   "metadata": {},
   "outputs": [
    {
     "data": {
      "image/png": "[encoded data removed]",
      "text/plain": [
       "<matplotlib.figure.Figure at 0x118f4a320>"
      ]
     },
     "metadata": {},
     "output_type": "display_data"
    },
    {
     "data": {
      "image/png": "[encoded data removed]",
      "text/plain": [
       "<matplotlib.figure.Figure at 0x1086f11d0>"
      ]
     },
     "metadata": {},
     "output_type": "display_data"
    }
   ],
   "source": [
    "def plot_distribution(df, feature):\n",
    "\n",
    "    #Feature engineering to a better visualization of the values\n",
    "    df['{}_log'.format(feature)] = np.log(df.AMT_CREDIT + 0.01)\n",
    "\n",
    "    plt.figure(figsize=(14,6))\n",
    "    #I will explore the Amount by Class and see the distribuition of Amount transactions\n",
    "    plt.subplot(121)\n",
    "    ax = sns.boxplot(x =\"TARGET\",y=feature,\n",
    "                     data=df)\n",
    "    ax.set_title(\"TARGET x {}\".format(feature), fontsize=16)\n",
    "    ax.set_xlabel(\"TARGET\", fontsize=12)\n",
    "    ax.set_ylabel(feature, fontsize = 12)\n",
    "\n",
    "    plt.subplot(122)\n",
    "    ax1 = sns.boxplot(x =\"TARGET\", y='{}_log'.format(feature), data=df)\n",
    "    ax1.set_title(\"TARGET x {}\".format(feature), fontsize=16)\n",
    "    ax1.set_xlabel(\"TARGET\", fontsize=12)\n",
    "    ax1.set_ylabel(\"{} (Log)\".format(feature), fontsize = 12)\n",
    "\n",
    "    plt.subplots_adjust(hspace = 0.6, top = 0.8)\n",
    "\n",
    "    plt.show()\n",
    "    \n",
    "    \n",
    "plot_distribution(train, 'AMT_CREDIT')\n",
    "plot_distribution(train, 'AMT_ANNUITY')"
   ]
  },
  {
   "cell_type": "markdown",
   "metadata": {},
   "source": [
    "### Missing values"
   ]
  },
  {
   "cell_type": "code",
   "execution_count": 7,
   "metadata": {},
   "outputs": [
    {
     "name": "stdout",
     "output_type": "stream",
     "text": [
      "Your selected dataframe has 187 columns.\n",
      "There are 129 columns that have missing values.\n"
     ]
    },
    {
     "data": {
      "text/html": [
       "<div>\n",
       "<style>\n",
       "    .dataframe thead tr:only-child th {\n",
       "        text-align: right;\n",
       "    }\n",
       "\n",
       "    .dataframe thead th {\n",
       "        text-align: left;\n",
       "    }\n",
       "\n",
       "    .dataframe tbody tr th {\n",
       "        vertical-align: top;\n",
       "    }\n",
       "</style>\n",
       "<table border=\"1\" class=\"dataframe\">\n",
       "  <thead>\n",
       "    <tr style=\"text-align: right;\">\n",
       "      <th></th>\n",
       "      <th>Missing Values</th>\n",
       "      <th>% of Total Values</th>\n",
       "    </tr>\n",
       "  </thead>\n",
       "  <tbody>\n",
       "    <tr>\n",
       "      <th>bureau_AMT_ANNUITY_sum</th>\n",
       "      <td>227502</td>\n",
       "      <td>74.0</td>\n",
       "    </tr>\n",
       "    <tr>\n",
       "      <th>bureau_AMT_ANNUITY_min</th>\n",
       "      <td>227502</td>\n",
       "      <td>74.0</td>\n",
       "    </tr>\n",
       "    <tr>\n",
       "      <th>bureau_AMT_ANNUITY_max</th>\n",
       "      <td>227502</td>\n",
       "      <td>74.0</td>\n",
       "    </tr>\n",
       "    <tr>\n",
       "      <th>bureau_AMT_ANNUITY_mean</th>\n",
       "      <td>227502</td>\n",
       "      <td>74.0</td>\n",
       "    </tr>\n",
       "    <tr>\n",
       "      <th>COMMONAREA_AVG</th>\n",
       "      <td>214865</td>\n",
       "      <td>69.9</td>\n",
       "    </tr>\n",
       "    <tr>\n",
       "      <th>COMMONAREA_MEDI</th>\n",
       "      <td>214865</td>\n",
       "      <td>69.9</td>\n",
       "    </tr>\n",
       "    <tr>\n",
       "      <th>COMMONAREA_MODE</th>\n",
       "      <td>214865</td>\n",
       "      <td>69.9</td>\n",
       "    </tr>\n",
       "    <tr>\n",
       "      <th>NONLIVINGAPARTMENTS_MEDI</th>\n",
       "      <td>213514</td>\n",
       "      <td>69.4</td>\n",
       "    </tr>\n",
       "    <tr>\n",
       "      <th>NONLIVINGAPARTMENTS_MODE</th>\n",
       "      <td>213514</td>\n",
       "      <td>69.4</td>\n",
       "    </tr>\n",
       "    <tr>\n",
       "      <th>NONLIVINGAPARTMENTS_AVG</th>\n",
       "      <td>213514</td>\n",
       "      <td>69.4</td>\n",
       "    </tr>\n",
       "  </tbody>\n",
       "</table>\n",
       "</div>"
      ],
      "text/plain": [
       "                          Missing Values  % of Total Values\n",
       "bureau_AMT_ANNUITY_sum            227502               74.0\n",
       "bureau_AMT_ANNUITY_min            227502               74.0\n",
       "bureau_AMT_ANNUITY_max            227502               74.0\n",
       "bureau_AMT_ANNUITY_mean           227502               74.0\n",
       "COMMONAREA_AVG                    214865               69.9\n",
       "COMMONAREA_MEDI                   214865               69.9\n",
       "COMMONAREA_MODE                   214865               69.9\n",
       "NONLIVINGAPARTMENTS_MEDI          213514               69.4\n",
       "NONLIVINGAPARTMENTS_MODE          213514               69.4\n",
       "NONLIVINGAPARTMENTS_AVG           213514               69.4"
      ]
     },
     "execution_count": 7,
     "metadata": {},
     "output_type": "execute_result"
    }
   ],
   "source": [
    "# utilizar o exemplo do print no cel\n",
    "\n",
    "# Function to calculate missing values by column# Funct \n",
    "def missing_values_table(df):\n",
    "        # Total missing values\n",
    "        mis_val = df.isnull().sum()\n",
    "        \n",
    "        # Percentage of missing values\n",
    "        mis_val_percent = 100 * df.isnull().sum() / len(df)\n",
    "        \n",
    "        # Make a table with the results\n",
    "        mis_val_table = pd.concat([mis_val, mis_val_percent], axis=1)\n",
    "        \n",
    "        # Rename the columns\n",
    "        mis_val_table_ren_columns = mis_val_table.rename(\n",
    "        columns = {0 : 'Missing Values', 1 : '% of Total Values'})\n",
    "        \n",
    "        # Sort the table by percentage of missing descending\n",
    "        mis_val_table_ren_columns = mis_val_table_ren_columns[\n",
    "            mis_val_table_ren_columns.iloc[:,1] != 0].sort_values(\n",
    "        '% of Total Values', ascending=False).round(1)\n",
    "        \n",
    "        # Print some summary information\n",
    "        print (\"Your selected dataframe has \" + str(df.shape[1]) + \" columns.\\n\"      \n",
    "            \"There are \" + str(mis_val_table_ren_columns.shape[0]) +\n",
    "              \" columns that have missing values.\")\n",
    "        \n",
    "        # Return the dataframe with missing information\n",
    "        return mis_val_table_ren_columns\n",
    "\n",
    "missing_values_table(df_train_join).head(10)\n",
    "\n"
   ]
  },
  {
   "cell_type": "code",
   "execution_count": 56,
   "metadata": {},
   "outputs": [
    {
     "name": "stdout",
     "output_type": "stream",
     "text": [
      "(307511, 100)\n",
      "(48744, 100)\n"
     ]
    }
   ],
   "source": [
    "# FEATURE SELECTION\n",
    "\n",
    "# ESTOU AQUI!!! \n",
    "\n",
    "from sklearn.preprocessing import Imputer\n",
    "from sklearn.feature_selection import SelectKBest\n",
    "from sklearn.feature_selection import chi2\n",
    "from sklearn.preprocessing import MinMaxScaler\n",
    "from sklearn.preprocessing import Normalizer\n",
    "\n",
    "def feature_selection(train, test):\n",
    "    \n",
    "    categorical = []\n",
    "    numerical = []\n",
    "    \n",
    "    for col in train.columns.tolist():\n",
    "        if train[col].dtype == 'object':\n",
    "            categorical.append(col)\n",
    "        else:\n",
    "            if(col != 'TARGET' and col != 'SK_ID_CURR'):\n",
    "                numerical.append(col)\n",
    "            \n",
    "    # Missing values imputer        \n",
    "    imputer = Imputer(strategy='median').fit(train[numerical]) # parameters: missing_values='NaN', strategy='mean', axis=0\n",
    "    train[numerical] = imputer.transform(train[numerical])\n",
    "    test[numerical] = imputer.transform(test[numerical])\n",
    "    \n",
    "    \n",
    "    # Label encoder\n",
    "    for col in categorical:\n",
    "        lb = preprocessing.LabelEncoder()\n",
    "        lb.fit(list(train[col].values.astype('str')) + list(test[col].values.astype('str')))\n",
    "        train[col] = lb.transform(list(train[col].values.astype('str')))\n",
    "        test[col] = lb.transform(list(test[col].values.astype('str')))\n",
    "    \n",
    "    \n",
    "    # Feature select\n",
    "    X = train.drop(['SK_ID_CURR', 'TARGET'], axis=1)\n",
    "    y = train['TARGET']\n",
    "    feature_name = X.columns.tolist()\n",
    "    \n",
    "    X_norm = MinMaxScaler().fit_transform(X)\n",
    "    chi_selector = SelectKBest(chi2, k=100)\n",
    "    chi_selector.fit(X_norm, y)\n",
    "    \n",
    "    \n",
    "    # Normalizer\n",
    "    scaler = Normalizer().fit(train[numerical].append(test[numerical]))\n",
    "    train_num = scaler.transform(train[numerical])\n",
    "    test_num = scaler.transform(test[numerical])\n",
    "    \n",
    "    train_num = pd.DataFrame(train_num, columns=numerical)\n",
    "    test_num = pd.DataFrame(test_num, columns=numerical)\n",
    "    \n",
    "    train[numerical] = train_num[numerical]\n",
    "    test[numerical] = test_num[numerical]\n",
    "                              \n",
    "    # print(\"scores_:\",chi_selector.scores_)\n",
    "    # print(\"pvalues_:\",chi_selector.pvalues_)\n",
    "    # print(\"selected index:\",chi_selector.get_support(True))\n",
    "    # print(\"after transform:\",chi_selector.transform(X)) \n",
    "    \n",
    "    # chi_support = chi_selector.get_support()\n",
    "    chi_feature = X.iloc[:, chi_selector.get_support(True)].columns.tolist()\n",
    "    \n",
    "    train_tmp = train[['SK_ID_CURR', 'TARGET']]\n",
    "    test_tmp = test[['SK_ID_CURR']]\n",
    "    train = train.iloc[:, chi_selector.get_support(True)]\n",
    "    test = test.iloc[:, chi_selector.get_support(True)]\n",
    "    \n",
    "    train[['SK_ID_CURR', 'TARGET']] = train_tmp\n",
    "    test['SK_ID_CURR'] = test_tmp\n",
    "    \n",
    "    return chi_feature, train, test\n",
    "\n",
    "features_1, df_train_fs, df_test_fs = feature_selection(df_train_join.copy(), df_test_join.copy())\n",
    "\n",
    "print(df_train_fs.shape)\n",
    "print(df_test_fs.shape)"
   ]
  },
  {
   "cell_type": "code",
   "execution_count": 39,
   "metadata": {},
   "outputs": [
    {
     "name": "stdout",
     "output_type": "stream",
     "text": [
      "Fitting 5 folds for each of 1 candidates, totalling 5 fits\n",
      "[CV] n_estimators=1000 ...............................................\n"
     ]
    },
    {
     "name": "stderr",
     "output_type": "stream",
     "text": [
      "[Parallel(n_jobs=-1)]: Using backend SequentialBackend with 1 concurrent workers.\n"
     ]
    },
    {
     "name": "stdout",
     "output_type": "stream",
     "text": [
      "[CV] ...... n_estimators=1000, score=0.6747995610330895, total=  37.1s\n",
      "[CV] n_estimators=1000 ...............................................\n"
     ]
    },
    {
     "name": "stderr",
     "output_type": "stream",
     "text": [
      "[Parallel(n_jobs=-1)]: Done   1 out of   1 | elapsed:   40.1s remaining:    0.0s\n"
     ]
    },
    {
     "name": "stdout",
     "output_type": "stream",
     "text": [
      "[CV] ...... n_estimators=1000, score=0.6671302763389241, total=  37.6s\n",
      "[CV] n_estimators=1000 ...............................................\n"
     ]
    },
    {
     "name": "stderr",
     "output_type": "stream",
     "text": [
      "[Parallel(n_jobs=-1)]: Done   2 out of   2 | elapsed:  1.3min remaining:    0.0s\n"
     ]
    },
    {
     "name": "stdout",
     "output_type": "stream",
     "text": [
      "[CV] ...... n_estimators=1000, score=0.6682793259365427, total=  36.0s\n",
      "[CV] n_estimators=1000 ...............................................\n"
     ]
    },
    {
     "name": "stderr",
     "output_type": "stream",
     "text": [
      "[Parallel(n_jobs=-1)]: Done   3 out of   3 | elapsed:  2.0min remaining:    0.0s\n"
     ]
    },
    {
     "name": "stdout",
     "output_type": "stream",
     "text": [
      "[CV] ...... n_estimators=1000, score=0.6684094611556562, total=  37.7s\n",
      "[CV] n_estimators=1000 ...............................................\n",
      "[CV] ...... n_estimators=1000, score=0.6703491013135092, total=  37.7s\n"
     ]
    },
    {
     "name": "stderr",
     "output_type": "stream",
     "text": [
      "[Parallel(n_jobs=-1)]: Done   5 out of   5 | elapsed:  3.4min finished\n"
     ]
    },
    {
     "name": "stdout",
     "output_type": "stream",
     "text": [
      "Fitting 5 folds for each of 1 candidates, totalling 5 fits\n",
      "[CV] n_estimators=1000 ...............................................\n"
     ]
    },
    {
     "name": "stderr",
     "output_type": "stream",
     "text": [
      "[Parallel(n_jobs=-1)]: Using backend SequentialBackend with 1 concurrent workers.\n"
     ]
    },
    {
     "name": "stdout",
     "output_type": "stream",
     "text": [
      "[CV] ...... n_estimators=1000, score=0.6697843500722327, total=  37.7s\n",
      "[CV] n_estimators=1000 ...............................................\n"
     ]
    },
    {
     "name": "stderr",
     "output_type": "stream",
     "text": [
      "[Parallel(n_jobs=-1)]: Done   1 out of   1 | elapsed:   40.8s remaining:    0.0s\n"
     ]
    },
    {
     "name": "stdout",
     "output_type": "stream",
     "text": [
      "[CV] ...... n_estimators=1000, score=0.6676298509330145, total=  35.1s\n",
      "[CV] n_estimators=1000 ...............................................\n"
     ]
    },
    {
     "name": "stderr",
     "output_type": "stream",
     "text": [
      "[Parallel(n_jobs=-1)]: Done   2 out of   2 | elapsed:  1.3min remaining:    0.0s\n"
     ]
    },
    {
     "name": "stdout",
     "output_type": "stream",
     "text": [
      "[CV] ...... n_estimators=1000, score=0.6693554738734999, total=  36.3s\n",
      "[CV] n_estimators=1000 ...............................................\n"
     ]
    },
    {
     "name": "stderr",
     "output_type": "stream",
     "text": [
      "[Parallel(n_jobs=-1)]: Done   3 out of   3 | elapsed:  2.0min remaining:    0.0s\n"
     ]
    },
    {
     "name": "stdout",
     "output_type": "stream",
     "text": [
      "[CV] ....... n_estimators=1000, score=0.669799806642651, total=  37.0s\n",
      "[CV] n_estimators=1000 ...............................................\n",
      "[CV] ....... n_estimators=1000, score=0.673828228312301, total=  35.7s\n"
     ]
    },
    {
     "name": "stderr",
     "output_type": "stream",
     "text": [
      "[Parallel(n_jobs=-1)]: Done   5 out of   5 | elapsed:  3.3min finished\n"
     ]
    },
    {
     "name": "stdout",
     "output_type": "stream",
     "text": [
      "Fitting 5 folds for each of 1 candidates, totalling 5 fits\n",
      "[CV] n_estimators=1000 ...............................................\n"
     ]
    },
    {
     "name": "stderr",
     "output_type": "stream",
     "text": [
      "[Parallel(n_jobs=-1)]: Using backend SequentialBackend with 1 concurrent workers.\n"
     ]
    },
    {
     "name": "stdout",
     "output_type": "stream",
     "text": [
      "[CV] ...... n_estimators=1000, score=0.6679379397603715, total=  36.1s\n",
      "[CV] n_estimators=1000 ...............................................\n"
     ]
    },
    {
     "name": "stderr",
     "output_type": "stream",
     "text": [
      "[Parallel(n_jobs=-1)]: Done   1 out of   1 | elapsed:   39.1s remaining:    0.0s\n"
     ]
    },
    {
     "name": "stdout",
     "output_type": "stream",
     "text": [
      "[CV] ....... n_estimators=1000, score=0.667058957346674, total=  37.3s\n",
      "[CV] n_estimators=1000 ...............................................\n"
     ]
    },
    {
     "name": "stderr",
     "output_type": "stream",
     "text": [
      "[Parallel(n_jobs=-1)]: Done   2 out of   2 | elapsed:  1.3min remaining:    0.0s\n"
     ]
    },
    {
     "name": "stdout",
     "output_type": "stream",
     "text": [
      "[CV] ...... n_estimators=1000, score=0.6690222485484216, total=  37.4s\n",
      "[CV] n_estimators=1000 ...............................................\n"
     ]
    },
    {
     "name": "stderr",
     "output_type": "stream",
     "text": [
      "[Parallel(n_jobs=-1)]: Done   3 out of   3 | elapsed:  2.0min remaining:    0.0s\n"
     ]
    },
    {
     "name": "stdout",
     "output_type": "stream",
     "text": [
      "[CV] ...... n_estimators=1000, score=0.6651265478551569, total=  36.9s\n",
      "[CV] n_estimators=1000 ...............................................\n",
      "[CV] ...... n_estimators=1000, score=0.6734302363615375, total=  37.1s\n"
     ]
    },
    {
     "name": "stderr",
     "output_type": "stream",
     "text": [
      "[Parallel(n_jobs=-1)]: Done   5 out of   5 | elapsed:  3.3min finished\n"
     ]
    },
    {
     "name": "stdout",
     "output_type": "stream",
     "text": [
      "Fitting 5 folds for each of 1 candidates, totalling 5 fits\n",
      "[CV] n_estimators=1000 ...............................................\n"
     ]
    },
    {
     "name": "stderr",
     "output_type": "stream",
     "text": [
      "[Parallel(n_jobs=-1)]: Using backend SequentialBackend with 1 concurrent workers.\n"
     ]
    },
    {
     "name": "stdout",
     "output_type": "stream",
     "text": [
      "[CV] ...... n_estimators=1000, score=0.6672216939932586, total=  37.6s\n",
      "[CV] n_estimators=1000 ...............................................\n"
     ]
    },
    {
     "name": "stderr",
     "output_type": "stream",
     "text": [
      "[Parallel(n_jobs=-1)]: Done   1 out of   1 | elapsed:   40.5s remaining:    0.0s\n"
     ]
    },
    {
     "name": "stdout",
     "output_type": "stream",
     "text": [
      "[CV] ...... n_estimators=1000, score=0.6679522891507318, total=  38.9s\n",
      "[CV] n_estimators=1000 ...............................................\n"
     ]
    },
    {
     "name": "stderr",
     "output_type": "stream",
     "text": [
      "[Parallel(n_jobs=-1)]: Done   2 out of   2 | elapsed:  1.4min remaining:    0.0s\n"
     ]
    },
    {
     "name": "stdout",
     "output_type": "stream",
     "text": [
      "[CV] ...... n_estimators=1000, score=0.6661984275390651, total=  34.8s\n",
      "[CV] n_estimators=1000 ...............................................\n"
     ]
    },
    {
     "name": "stderr",
     "output_type": "stream",
     "text": [
      "[Parallel(n_jobs=-1)]: Done   3 out of   3 | elapsed:  2.0min remaining:    0.0s\n"
     ]
    },
    {
     "name": "stdout",
     "output_type": "stream",
     "text": [
      "[CV] ...... n_estimators=1000, score=0.6675702335809339, total=  33.5s\n",
      "[CV] n_estimators=1000 ...............................................\n",
      "[CV] ...... n_estimators=1000, score=0.6747611192973927, total=  37.3s\n"
     ]
    },
    {
     "name": "stderr",
     "output_type": "stream",
     "text": [
      "[Parallel(n_jobs=-1)]: Done   5 out of   5 | elapsed:  3.3min finished\n"
     ]
    },
    {
     "name": "stdout",
     "output_type": "stream",
     "text": [
      "Fitting 5 folds for each of 1 candidates, totalling 5 fits\n",
      "[CV] n_estimators=1000 ...............................................\n"
     ]
    },
    {
     "name": "stderr",
     "output_type": "stream",
     "text": [
      "[Parallel(n_jobs=-1)]: Using backend SequentialBackend with 1 concurrent workers.\n"
     ]
    },
    {
     "name": "stdout",
     "output_type": "stream",
     "text": [
      "[CV] ...... n_estimators=1000, score=0.6709632347852664, total=  37.3s\n",
      "[CV] n_estimators=1000 ...............................................\n"
     ]
    },
    {
     "name": "stderr",
     "output_type": "stream",
     "text": [
      "[Parallel(n_jobs=-1)]: Done   1 out of   1 | elapsed:   40.4s remaining:    0.0s\n"
     ]
    },
    {
     "name": "stdout",
     "output_type": "stream",
     "text": [
      "[CV] ...... n_estimators=1000, score=0.6686763089312898, total=  36.6s\n",
      "[CV] n_estimators=1000 ...............................................\n"
     ]
    },
    {
     "name": "stderr",
     "output_type": "stream",
     "text": [
      "[Parallel(n_jobs=-1)]: Done   2 out of   2 | elapsed:  1.3min remaining:    0.0s\n"
     ]
    },
    {
     "name": "stdout",
     "output_type": "stream",
     "text": [
      "[CV] ...... n_estimators=1000, score=0.6636683705227843, total=  38.5s\n",
      "[CV] n_estimators=1000 ...............................................\n"
     ]
    },
    {
     "name": "stderr",
     "output_type": "stream",
     "text": [
      "[Parallel(n_jobs=-1)]: Done   3 out of   3 | elapsed:  2.0min remaining:    0.0s\n"
     ]
    },
    {
     "name": "stdout",
     "output_type": "stream",
     "text": [
      "[CV] ...... n_estimators=1000, score=0.6701966414873065, total=  39.8s\n",
      "[CV] n_estimators=1000 ...............................................\n",
      "[CV] ...... n_estimators=1000, score=0.6702110638836135, total=  42.2s\n"
     ]
    },
    {
     "name": "stderr",
     "output_type": "stream",
     "text": [
      "[Parallel(n_jobs=-1)]: Done   5 out of   5 | elapsed:  3.5min finished\n"
     ]
    },
    {
     "name": "stdout",
     "output_type": "stream",
     "text": [
      "AUC: 0.669 (0.002)\n"
     ]
    }
   ],
   "source": [
    "# Import dos módulos\n",
    "from pandas import read_csv\n",
    "from sklearn import model_selection\n",
    "from sklearn.linear_model import LogisticRegression\n",
    "from sklearn.model_selection import GridSearchCV\n",
    "from sklearn.ensemble import GradientBoostingClassifier\n",
    "\n",
    "# Separando o array em componentes de input e output\n",
    "X = df_train_fs.drop(['TARGET', 'SK_ID_CURR'], axis=1)\n",
    "Y = df_train_fs['TARGET']\n",
    "\n",
    "# Definindo os valores para os folds\n",
    "num_folds = 5\n",
    "seed = 7\n",
    "\n",
    "# Separando os dados em folds\n",
    "kfold = model_selection.KFold(num_folds, True, random_state = seed)\n",
    "\n",
    "param_test1 = {'n_estimators': [1000]}\n",
    "gsearch1 = GridSearchCV(estimator = GradientBoostingClassifier(learning_rate=0.1, \n",
    "                                                               min_samples_split=5,\n",
    "                                                               min_samples_leaf=50,\n",
    "                                                               max_leaf_nodes=4, \n",
    "                                                               max_depth=5,\n",
    "                                                               max_features=2,\n",
    "                                                               random_state=10),\n",
    "                        param_grid = param_test1, \n",
    "                        scoring='roc_auc',\n",
    "                        n_jobs=-1,\n",
    "                        iid=False, \n",
    "                        cv=5, \n",
    "                       verbose=4)\n",
    "\n",
    "# Criando o modelo\n",
    "modelo = gsearch1 #LogisticRegression()\n",
    "resultado = model_selection.cross_val_score(modelo, X, Y, cv = kfold, scoring='roc_auc')\n",
    "\n",
    "# Usamos a média e o desvio padrão\n",
    "print(\"AUC: %.3f (%.3f)\" % (resultado.mean(), resultado.std()))"
   ]
  },
  {
   "cell_type": "code",
   "execution_count": 48,
   "metadata": {},
   "outputs": [
    {
     "name": "stdout",
     "output_type": "stream",
     "text": [
      "           0                   1                   2             3   \\\n",
      "0  SK_ID_CURR              TARGET  NAME_CONTRACT_TYPE   CODE_GENDER   \n",
      "1  SK_ID_CURR  NAME_CONTRACT_TYPE         CODE_GENDER  FLAG_OWN_CAR   \n",
      "\n",
      "                4                 5            6                7   \\\n",
      "0     FLAG_OWN_CAR      CNT_CHILDREN   AMT_CREDIT  AMT_GOODS_PRICE   \n",
      "1  FLAG_OWN_REALTY  AMT_INCOME_TOTAL  AMT_ANNUITY  NAME_TYPE_SUITE   \n",
      "\n",
      "                 8                    9                 ...                  \\\n",
      "0   NAME_TYPE_SUITE  NAME_EDUCATION_TYPE                ...                   \n",
      "1  NAME_INCOME_TYPE   NAME_FAMILY_STATUS                ...                   \n",
      "\n",
      "                                90                               91  \\\n",
      "0           bureau_DAYS_CREDIT_sum  bureau_CREDIT_DAY_OVERDUE_count   \n",
      "1  bureau_CREDIT_DAY_OVERDUE_count   bureau_CREDIT_DAY_OVERDUE_mean   \n",
      "\n",
      "                               92                                93  \\\n",
      "0  bureau_CREDIT_DAY_OVERDUE_mean  bureau_DAYS_CREDIT_ENDDATE_count   \n",
      "1   bureau_CREDIT_DAY_OVERDUE_max   bureau_DAYS_CREDIT_ENDDATE_mean   \n",
      "\n",
      "                               94                              95  \\\n",
      "0  bureau_DAYS_CREDIT_ENDDATE_min  bureau_DAYS_ENDDATE_FACT_count   \n",
      "1  bureau_DAYS_CREDIT_ENDDATE_sum   bureau_DAYS_ENDDATE_FACT_mean   \n",
      "\n",
      "                                  96                                   97  \\\n",
      "0  bureau_AMT_CREDIT_SUM_LIMIT_count      bureau_AMT_CREDIT_SUM_LIMIT_sum   \n",
      "1   bureau_AMT_CREDIT_SUM_LIMIT_mean  bureau_AMT_CREDIT_SUM_OVERDUE_count   \n",
      "\n",
      "                                    98                                 99  \n",
      "0  bureau_AMT_CREDIT_SUM_OVERDUE_count  bureau_AMT_CREDIT_SUM_OVERDUE_max  \n",
      "1   bureau_AMT_CREDIT_SUM_OVERDUE_mean  bureau_AMT_CREDIT_SUM_OVERDUE_min  \n",
      "\n",
      "[2 rows x 100 columns]\n",
      "Index(['SK_ID_CURR', 'TARGET', 'NAME_CONTRACT_TYPE', 'CODE_GENDER',\n",
      "       'FLAG_OWN_CAR', 'CNT_CHILDREN', 'AMT_CREDIT', 'AMT_GOODS_PRICE',\n",
      "       'NAME_TYPE_SUITE', 'NAME_EDUCATION_TYPE', 'NAME_FAMILY_STATUS',\n",
      "       'NAME_HOUSING_TYPE', 'REGION_POPULATION_RELATIVE', 'DAYS_BIRTH',\n",
      "       'DAYS_EMPLOYED', 'DAYS_REGISTRATION', 'OWN_CAR_AGE', 'FLAG_MOBIL',\n",
      "       'FLAG_WORK_PHONE', 'FLAG_PHONE', 'OCCUPATION_TYPE', 'CNT_FAM_MEMBERS',\n",
      "       'REGION_RATING_CLIENT_W_CITY', 'WEEKDAY_APPR_PROCESS_START',\n",
      "       'HOUR_APPR_PROCESS_START', 'REG_REGION_NOT_WORK_REGION',\n",
      "       'LIVE_REGION_NOT_WORK_REGION', 'REG_CITY_NOT_LIVE_CITY',\n",
      "       'REG_CITY_NOT_WORK_CITY', 'LIVE_CITY_NOT_WORK_CITY',\n",
      "       'ORGANIZATION_TYPE', 'EXT_SOURCE_1', 'EXT_SOURCE_2', 'EXT_SOURCE_3',\n",
      "       'YEARS_BEGINEXPLUATATION_AVG', 'YEARS_BUILD_AVG', 'COMMONAREA_AVG',\n",
      "       'ELEVATORS_AVG', 'ENTRANCES_AVG', 'FLOORSMIN_AVG', 'LANDAREA_AVG',\n",
      "       'LIVINGAPARTMENTS_AVG', 'LIVINGAREA_AVG', 'NONLIVINGAPARTMENTS_AVG',\n",
      "       'NONLIVINGAREA_AVG', 'YEARS_BEGINEXPLUATATION_MODE', 'YEARS_BUILD_MODE',\n",
      "       'ELEVATORS_MODE', 'ENTRANCES_MODE', 'FLOORSMIN_MODE', 'LANDAREA_MODE',\n",
      "       'LIVINGAREA_MODE', 'NONLIVINGAPARTMENTS_MODE', 'NONLIVINGAREA_MODE',\n",
      "       'YEARS_BEGINEXPLUATATION_MEDI', 'YEARS_BUILD_MEDI', 'ELEVATORS_MEDI',\n",
      "       'ENTRANCES_MEDI', 'FLOORSMIN_MEDI', 'LANDAREA_MEDI', 'LIVINGAREA_MEDI',\n",
      "       'NONLIVINGAPARTMENTS_MEDI', 'NONLIVINGAREA_MEDI', 'FONDKAPREMONT_MODE',\n",
      "       'HOUSETYPE_MODE', 'TOTALAREA_MODE', 'EMERGENCYSTATE_MODE',\n",
      "       'DEF_30_CNT_SOCIAL_CIRCLE', 'OBS_60_CNT_SOCIAL_CIRCLE',\n",
      "       'DEF_60_CNT_SOCIAL_CIRCLE', 'DAYS_LAST_PHONE_CHANGE', 'FLAG_DOCUMENT_4',\n",
      "       'FLAG_DOCUMENT_6', 'FLAG_DOCUMENT_7', 'FLAG_DOCUMENT_9',\n",
      "       'FLAG_DOCUMENT_11', 'FLAG_DOCUMENT_12', 'FLAG_DOCUMENT_13',\n",
      "       'FLAG_DOCUMENT_14', 'FLAG_DOCUMENT_15', 'FLAG_DOCUMENT_16',\n",
      "       'FLAG_DOCUMENT_19', 'AMT_REQ_CREDIT_BUREAU_DAY',\n",
      "       'AMT_REQ_CREDIT_BUREAU_MON', 'CREDIT_INCOME_PERCENT',\n",
      "       'ANNUITY_INCOME_PERCENT', 'previous_loan_counts',\n",
      "       'bureau_DAYS_CREDIT_count', 'bureau_DAYS_CREDIT_mean',\n",
      "       'bureau_DAYS_CREDIT_max', 'bureau_DAYS_CREDIT_sum',\n",
      "       'bureau_CREDIT_DAY_OVERDUE_count', 'bureau_CREDIT_DAY_OVERDUE_mean',\n",
      "       'bureau_DAYS_CREDIT_ENDDATE_count', 'bureau_DAYS_CREDIT_ENDDATE_min',\n",
      "       'bureau_DAYS_ENDDATE_FACT_count', 'bureau_AMT_CREDIT_SUM_LIMIT_count',\n",
      "       'bureau_AMT_CREDIT_SUM_LIMIT_sum',\n",
      "       'bureau_AMT_CREDIT_SUM_OVERDUE_count',\n",
      "       'bureau_AMT_CREDIT_SUM_OVERDUE_max'],\n",
      "      dtype='object')\n",
      "Index(['SK_ID_CURR', 'NAME_CONTRACT_TYPE', 'CODE_GENDER', 'FLAG_OWN_CAR',\n",
      "       'FLAG_OWN_REALTY', 'AMT_INCOME_TOTAL', 'AMT_ANNUITY', 'NAME_TYPE_SUITE',\n",
      "       'NAME_INCOME_TYPE', 'NAME_FAMILY_STATUS', 'NAME_HOUSING_TYPE',\n",
      "       'REGION_POPULATION_RELATIVE', 'DAYS_BIRTH', 'DAYS_EMPLOYED',\n",
      "       'DAYS_REGISTRATION', 'DAYS_ID_PUBLISH', 'FLAG_MOBIL', 'FLAG_EMP_PHONE',\n",
      "       'FLAG_CONT_MOBILE', 'FLAG_EMAIL', 'CNT_FAM_MEMBERS',\n",
      "       'REGION_RATING_CLIENT', 'WEEKDAY_APPR_PROCESS_START',\n",
      "       'HOUR_APPR_PROCESS_START', 'REG_REGION_NOT_LIVE_REGION',\n",
      "       'LIVE_REGION_NOT_WORK_REGION', 'REG_CITY_NOT_LIVE_CITY',\n",
      "       'REG_CITY_NOT_WORK_CITY', 'LIVE_CITY_NOT_WORK_CITY',\n",
      "       'ORGANIZATION_TYPE', 'EXT_SOURCE_1', 'EXT_SOURCE_2', 'EXT_SOURCE_3',\n",
      "       'APARTMENTS_AVG', 'YEARS_BUILD_AVG', 'COMMONAREA_AVG', 'ELEVATORS_AVG',\n",
      "       'ENTRANCES_AVG', 'FLOORSMAX_AVG', 'LANDAREA_AVG',\n",
      "       'LIVINGAPARTMENTS_AVG', 'LIVINGAREA_AVG', 'NONLIVINGAPARTMENTS_AVG',\n",
      "       'NONLIVINGAREA_AVG', 'APARTMENTS_MODE', 'YEARS_BUILD_MODE',\n",
      "       'COMMONAREA_MODE', 'ENTRANCES_MODE', 'FLOORSMAX_MODE', 'LANDAREA_MODE',\n",
      "       'LIVINGAPARTMENTS_MODE', 'NONLIVINGAPARTMENTS_MODE',\n",
      "       'NONLIVINGAREA_MODE', 'APARTMENTS_MEDI', 'YEARS_BUILD_MEDI',\n",
      "       'COMMONAREA_MEDI', 'ENTRANCES_MEDI', 'FLOORSMAX_MEDI', 'LANDAREA_MEDI',\n",
      "       'LIVINGAPARTMENTS_MEDI', 'NONLIVINGAPARTMENTS_MEDI',\n",
      "       'NONLIVINGAREA_MEDI', 'FONDKAPREMONT_MODE', 'HOUSETYPE_MODE',\n",
      "       'TOTALAREA_MODE', 'WALLSMATERIAL_MODE', 'OBS_30_CNT_SOCIAL_CIRCLE',\n",
      "       'OBS_60_CNT_SOCIAL_CIRCLE', 'DEF_60_CNT_SOCIAL_CIRCLE',\n",
      "       'DAYS_LAST_PHONE_CHANGE', 'FLAG_DOCUMENT_2', 'FLAG_DOCUMENT_5',\n",
      "       'FLAG_DOCUMENT_7', 'FLAG_DOCUMENT_8', 'FLAG_DOCUMENT_10',\n",
      "       'FLAG_DOCUMENT_12', 'FLAG_DOCUMENT_13', 'FLAG_DOCUMENT_14',\n",
      "       'FLAG_DOCUMENT_15', 'FLAG_DOCUMENT_16', 'FLAG_DOCUMENT_17',\n",
      "       'FLAG_DOCUMENT_20', 'AMT_REQ_CREDIT_BUREAU_WEEK',\n",
      "       'AMT_REQ_CREDIT_BUREAU_QRT', 'ANNUITY_INCOME_PERCENT', 'CREDIT_TERM',\n",
      "       'bureau_DAYS_CREDIT_count', 'bureau_DAYS_CREDIT_mean',\n",
      "       'bureau_DAYS_CREDIT_max', 'bureau_DAYS_CREDIT_min',\n",
      "       'bureau_CREDIT_DAY_OVERDUE_count', 'bureau_CREDIT_DAY_OVERDUE_mean',\n",
      "       'bureau_CREDIT_DAY_OVERDUE_max', 'bureau_DAYS_CREDIT_ENDDATE_mean',\n",
      "       'bureau_DAYS_CREDIT_ENDDATE_sum', 'bureau_DAYS_ENDDATE_FACT_mean',\n",
      "       'bureau_AMT_CREDIT_SUM_LIMIT_mean',\n",
      "       'bureau_AMT_CREDIT_SUM_OVERDUE_count',\n",
      "       'bureau_AMT_CREDIT_SUM_OVERDUE_mean',\n",
      "       'bureau_AMT_CREDIT_SUM_OVERDUE_min'],\n",
      "      dtype='object')\n",
      "Training Data Shape:  (307511, 98)\n",
      "Testing Data Shape:  (48744, 99)\n"
     ]
    },
    {
     "ename": "ValueError",
     "evalue": "Number of features of the model must match the input. Model n_features is 98 and input n_features is 99 ",
     "output_type": "error",
     "traceback": [
      "\u001b[0;31m---------------------------------------------------------------------------\u001b[0m",
      "\u001b[0;31mValueError\u001b[0m                                Traceback (most recent call last)",
      "\u001b[0;32m<ipython-input-48-f49b8377ebc2>\u001b[0m in \u001b[0;36m<module>\u001b[0;34m()\u001b[0m\n\u001b[1;32m    133\u001b[0m \u001b[0;34m\u001b[0m\u001b[0m\n\u001b[1;32m    134\u001b[0m \u001b[0;34m\u001b[0m\u001b[0m\n\u001b[0;32m--> 135\u001b[0;31m \u001b[0msubmission\u001b[0m\u001b[0;34m,\u001b[0m \u001b[0mfi\u001b[0m\u001b[0;34m,\u001b[0m \u001b[0mmetrics\u001b[0m \u001b[0;34m=\u001b[0m \u001b[0mmodel\u001b[0m\u001b[0;34m(\u001b[0m\u001b[0mdf_train_fs\u001b[0m\u001b[0;34m.\u001b[0m\u001b[0mcopy\u001b[0m\u001b[0;34m(\u001b[0m\u001b[0;34m)\u001b[0m\u001b[0;34m,\u001b[0m \u001b[0mdf_test_fs\u001b[0m\u001b[0;34m.\u001b[0m\u001b[0mcopy\u001b[0m\u001b[0;34m(\u001b[0m\u001b[0;34m)\u001b[0m\u001b[0;34m)\u001b[0m\u001b[0;34m\u001b[0m\u001b[0m\n\u001b[0m\u001b[1;32m    136\u001b[0m \u001b[0mprint\u001b[0m\u001b[0;34m(\u001b[0m\u001b[0;34m'Baseline metrics'\u001b[0m\u001b[0;34m)\u001b[0m\u001b[0;34m\u001b[0m\u001b[0m\n\u001b[1;32m    137\u001b[0m \u001b[0mprint\u001b[0m\u001b[0;34m(\u001b[0m\u001b[0mmetrics\u001b[0m\u001b[0;34m)\u001b[0m\u001b[0;34m\u001b[0m\u001b[0m\n",
      "\u001b[0;32m<ipython-input-48-f49b8377ebc2>\u001b[0m in \u001b[0;36mmodel\u001b[0;34m(features, test_features, encoding, n_folds)\u001b[0m\n\u001b[1;32m     78\u001b[0m \u001b[0;34m\u001b[0m\u001b[0m\n\u001b[1;32m     79\u001b[0m         \u001b[0;31m# Make predictions\u001b[0m\u001b[0;34m\u001b[0m\u001b[0;34m\u001b[0m\u001b[0m\n\u001b[0;32m---> 80\u001b[0;31m         \u001b[0mtest_predictions\u001b[0m \u001b[0;34m+=\u001b[0m \u001b[0mmodel\u001b[0m\u001b[0;34m.\u001b[0m\u001b[0mpredict_proba\u001b[0m\u001b[0;34m(\u001b[0m\u001b[0mtest_features\u001b[0m\u001b[0;34m)\u001b[0m\u001b[0;34m[\u001b[0m\u001b[0;34m:\u001b[0m\u001b[0;34m,\u001b[0m \u001b[0;36m1\u001b[0m\u001b[0;34m]\u001b[0m \u001b[0;34m/\u001b[0m \u001b[0mk_fold\u001b[0m\u001b[0;34m.\u001b[0m\u001b[0mn_splits\u001b[0m\u001b[0;34m\u001b[0m\u001b[0m\n\u001b[0m\u001b[1;32m     81\u001b[0m \u001b[0;34m\u001b[0m\u001b[0m\n\u001b[1;32m     82\u001b[0m         \u001b[0;31m# Record the out of fold predictions\u001b[0m\u001b[0;34m\u001b[0m\u001b[0;34m\u001b[0m\u001b[0m\n",
      "\u001b[0;32m/anaconda3/lib/python3.6/site-packages/sklearn/ensemble/gradient_boosting.py\u001b[0m in \u001b[0;36mpredict_proba\u001b[0;34m(self, X)\u001b[0m\n\u001b[1;32m   2081\u001b[0m             \u001b[0mclasses\u001b[0m \u001b[0mcorresponds\u001b[0m \u001b[0mto\u001b[0m \u001b[0mthat\u001b[0m \u001b[0;32min\u001b[0m \u001b[0mthe\u001b[0m \u001b[0mattribute\u001b[0m\u001b[0;31m \u001b[0m\u001b[0;31m`\u001b[0m\u001b[0mclasses_\u001b[0m\u001b[0;31m`\u001b[0m\u001b[0;34m.\u001b[0m\u001b[0;34m\u001b[0m\u001b[0m\n\u001b[1;32m   2082\u001b[0m         \"\"\"\n\u001b[0;32m-> 2083\u001b[0;31m         \u001b[0mscore\u001b[0m \u001b[0;34m=\u001b[0m \u001b[0mself\u001b[0m\u001b[0;34m.\u001b[0m\u001b[0mdecision_function\u001b[0m\u001b[0;34m(\u001b[0m\u001b[0mX\u001b[0m\u001b[0;34m)\u001b[0m\u001b[0;34m\u001b[0m\u001b[0m\n\u001b[0m\u001b[1;32m   2084\u001b[0m         \u001b[0;32mtry\u001b[0m\u001b[0;34m:\u001b[0m\u001b[0;34m\u001b[0m\u001b[0m\n\u001b[1;32m   2085\u001b[0m             \u001b[0;32mreturn\u001b[0m \u001b[0mself\u001b[0m\u001b[0;34m.\u001b[0m\u001b[0mloss_\u001b[0m\u001b[0;34m.\u001b[0m\u001b[0m_score_to_proba\u001b[0m\u001b[0;34m(\u001b[0m\u001b[0mscore\u001b[0m\u001b[0;34m)\u001b[0m\u001b[0;34m\u001b[0m\u001b[0m\n",
      "\u001b[0;32m/anaconda3/lib/python3.6/site-packages/sklearn/ensemble/gradient_boosting.py\u001b[0m in \u001b[0;36mdecision_function\u001b[0;34m(self, X)\u001b[0m\n\u001b[1;32m   1989\u001b[0m         \"\"\"\n\u001b[1;32m   1990\u001b[0m         \u001b[0mX\u001b[0m \u001b[0;34m=\u001b[0m \u001b[0mcheck_array\u001b[0m\u001b[0;34m(\u001b[0m\u001b[0mX\u001b[0m\u001b[0;34m,\u001b[0m \u001b[0mdtype\u001b[0m\u001b[0;34m=\u001b[0m\u001b[0mDTYPE\u001b[0m\u001b[0;34m,\u001b[0m \u001b[0morder\u001b[0m\u001b[0;34m=\u001b[0m\u001b[0;34m\"C\"\u001b[0m\u001b[0;34m,\u001b[0m  \u001b[0maccept_sparse\u001b[0m\u001b[0;34m=\u001b[0m\u001b[0;34m'csr'\u001b[0m\u001b[0;34m)\u001b[0m\u001b[0;34m\u001b[0m\u001b[0m\n\u001b[0;32m-> 1991\u001b[0;31m         \u001b[0mscore\u001b[0m \u001b[0;34m=\u001b[0m \u001b[0mself\u001b[0m\u001b[0;34m.\u001b[0m\u001b[0m_decision_function\u001b[0m\u001b[0;34m(\u001b[0m\u001b[0mX\u001b[0m\u001b[0;34m)\u001b[0m\u001b[0;34m\u001b[0m\u001b[0m\n\u001b[0m\u001b[1;32m   1992\u001b[0m         \u001b[0;32mif\u001b[0m \u001b[0mscore\u001b[0m\u001b[0;34m.\u001b[0m\u001b[0mshape\u001b[0m\u001b[0;34m[\u001b[0m\u001b[0;36m1\u001b[0m\u001b[0;34m]\u001b[0m \u001b[0;34m==\u001b[0m \u001b[0;36m1\u001b[0m\u001b[0;34m:\u001b[0m\u001b[0;34m\u001b[0m\u001b[0m\n\u001b[1;32m   1993\u001b[0m             \u001b[0;32mreturn\u001b[0m \u001b[0mscore\u001b[0m\u001b[0;34m.\u001b[0m\u001b[0mravel\u001b[0m\u001b[0;34m(\u001b[0m\u001b[0;34m)\u001b[0m\u001b[0;34m\u001b[0m\u001b[0m\n",
      "\u001b[0;32m/anaconda3/lib/python3.6/site-packages/sklearn/ensemble/gradient_boosting.py\u001b[0m in \u001b[0;36m_decision_function\u001b[0;34m(self, X)\u001b[0m\n\u001b[1;32m   1584\u001b[0m         \u001b[0;31m# for use in inner loop, not raveling the output in single-class case,\u001b[0m\u001b[0;34m\u001b[0m\u001b[0;34m\u001b[0m\u001b[0m\n\u001b[1;32m   1585\u001b[0m         \u001b[0;31m# not doing input validation.\u001b[0m\u001b[0;34m\u001b[0m\u001b[0;34m\u001b[0m\u001b[0m\n\u001b[0;32m-> 1586\u001b[0;31m         \u001b[0mscore\u001b[0m \u001b[0;34m=\u001b[0m \u001b[0mself\u001b[0m\u001b[0;34m.\u001b[0m\u001b[0m_init_decision_function\u001b[0m\u001b[0;34m(\u001b[0m\u001b[0mX\u001b[0m\u001b[0;34m)\u001b[0m\u001b[0;34m\u001b[0m\u001b[0m\n\u001b[0m\u001b[1;32m   1587\u001b[0m         \u001b[0mpredict_stages\u001b[0m\u001b[0;34m(\u001b[0m\u001b[0mself\u001b[0m\u001b[0;34m.\u001b[0m\u001b[0mestimators_\u001b[0m\u001b[0;34m,\u001b[0m \u001b[0mX\u001b[0m\u001b[0;34m,\u001b[0m \u001b[0mself\u001b[0m\u001b[0;34m.\u001b[0m\u001b[0mlearning_rate\u001b[0m\u001b[0;34m,\u001b[0m \u001b[0mscore\u001b[0m\u001b[0;34m)\u001b[0m\u001b[0;34m\u001b[0m\u001b[0m\n\u001b[1;32m   1588\u001b[0m         \u001b[0;32mreturn\u001b[0m \u001b[0mscore\u001b[0m\u001b[0;34m\u001b[0m\u001b[0m\n",
      "\u001b[0;32m/anaconda3/lib/python3.6/site-packages/sklearn/ensemble/gradient_boosting.py\u001b[0m in \u001b[0;36m_init_decision_function\u001b[0;34m(self, X)\u001b[0m\n\u001b[1;32m   1574\u001b[0m         \u001b[0;34m\"\"\"Check input and compute prediction of ``init``. \"\"\"\u001b[0m\u001b[0;34m\u001b[0m\u001b[0m\n\u001b[1;32m   1575\u001b[0m         \u001b[0mself\u001b[0m\u001b[0;34m.\u001b[0m\u001b[0m_check_initialized\u001b[0m\u001b[0;34m(\u001b[0m\u001b[0;34m)\u001b[0m\u001b[0;34m\u001b[0m\u001b[0m\n\u001b[0;32m-> 1576\u001b[0;31m         \u001b[0mX\u001b[0m \u001b[0;34m=\u001b[0m \u001b[0mself\u001b[0m\u001b[0;34m.\u001b[0m\u001b[0mestimators_\u001b[0m\u001b[0;34m[\u001b[0m\u001b[0;36m0\u001b[0m\u001b[0;34m,\u001b[0m \u001b[0;36m0\u001b[0m\u001b[0;34m]\u001b[0m\u001b[0;34m.\u001b[0m\u001b[0m_validate_X_predict\u001b[0m\u001b[0;34m(\u001b[0m\u001b[0mX\u001b[0m\u001b[0;34m,\u001b[0m \u001b[0mcheck_input\u001b[0m\u001b[0;34m=\u001b[0m\u001b[0;32mTrue\u001b[0m\u001b[0;34m)\u001b[0m\u001b[0;34m\u001b[0m\u001b[0m\n\u001b[0m\u001b[1;32m   1577\u001b[0m         \u001b[0;32mif\u001b[0m \u001b[0mX\u001b[0m\u001b[0;34m.\u001b[0m\u001b[0mshape\u001b[0m\u001b[0;34m[\u001b[0m\u001b[0;36m1\u001b[0m\u001b[0;34m]\u001b[0m \u001b[0;34m!=\u001b[0m \u001b[0mself\u001b[0m\u001b[0;34m.\u001b[0m\u001b[0mn_features_\u001b[0m\u001b[0;34m:\u001b[0m\u001b[0;34m\u001b[0m\u001b[0m\n\u001b[1;32m   1578\u001b[0m             raise ValueError(\"X.shape[1] should be {0:d}, not {1:d}.\".format(\n",
      "\u001b[0;32m/anaconda3/lib/python3.6/site-packages/sklearn/tree/tree.py\u001b[0m in \u001b[0;36m_validate_X_predict\u001b[0;34m(self, X, check_input)\u001b[0m\n\u001b[1;32m    385\u001b[0m                              \u001b[0;34m\"match the input. Model n_features is %s and \"\u001b[0m\u001b[0;34m\u001b[0m\u001b[0m\n\u001b[1;32m    386\u001b[0m                              \u001b[0;34m\"input n_features is %s \"\u001b[0m\u001b[0;34m\u001b[0m\u001b[0m\n\u001b[0;32m--> 387\u001b[0;31m                              % (self.n_features_, n_features))\n\u001b[0m\u001b[1;32m    388\u001b[0m \u001b[0;34m\u001b[0m\u001b[0m\n\u001b[1;32m    389\u001b[0m         \u001b[0;32mreturn\u001b[0m \u001b[0mX\u001b[0m\u001b[0;34m\u001b[0m\u001b[0m\n",
      "\u001b[0;31mValueError\u001b[0m: Number of features of the model must match the input. Model n_features is 98 and input n_features is 99 "
     ]
    }
   ],
   "source": [
    "### ESTOU AQUI!! \n",
    "## Todo: alterar codigo para ser a minha funcao de criar \n",
    "##       modelo usando cross_validation e minimizar a alta variancia dos\n",
    "##       dados.\n",
    "## ENTENDER TODA ESSA LOGICA - pois gerou um resultado muito melhor que o que estava conseguindo atingir antes\n",
    "# De 0.69 fui para 0.76 no Kaggle. \n",
    "\n",
    "from sklearn.preprocessing import LabelEncoder\n",
    "from sklearn.model_selection import KFold\n",
    "from sklearn.metrics import roc_auc_score\n",
    "import gc\n",
    "\n",
    "def model(features, test_features, encoding = 'le', n_folds = 5):\n",
    "    \n",
    "    # Extract the ids\n",
    "    train_ids = features['SK_ID_CURR']\n",
    "    test_ids = test_features['SK_ID_CURR']\n",
    "    \n",
    "    # Extract the labels for training\n",
    "    labels = features['TARGET']\n",
    "    \n",
    "    # Remove the ids and target\n",
    "    features = features.drop(['SK_ID_CURR', 'TARGET'], axis=1)\n",
    "    test_features = test_features.drop(['SK_ID_CURR'], axis=1)\n",
    "        \n",
    "    print('Training Data Shape: ', features.shape)\n",
    "    print('Testing Data Shape: ', test_features.shape)\n",
    "    \n",
    "    # Extract feature names\n",
    "    feature_names = list(features.columns)\n",
    "    \n",
    "    # Convert to np arrays\n",
    "    features = np.array(features)\n",
    "    test_features = np.array(test_features)\n",
    "    \n",
    "    # Create the kfold object\n",
    "    k_fold = KFold(n_splits = n_folds, shuffle = True, random_state = 50)\n",
    "    \n",
    "    # Empty array for feature importances\n",
    "    feature_importance_values = np.zeros(len(feature_names))\n",
    "    \n",
    "    # Empty array for test predictions\n",
    "    test_predictions = np.zeros(test_features.shape[0])\n",
    "    \n",
    "    # Empty array for out of fold validation predictions\n",
    "    out_of_fold = np.zeros(features.shape[0])\n",
    "    \n",
    "    # Lists for recording validation and training scores\n",
    "    valid_scores = []\n",
    "    train_scores = []\n",
    "    \n",
    "    # Iterate through each fold\n",
    "    for train_indices, valid_indices in k_fold.split(features):\n",
    "        \n",
    "        # Training data for the fold\n",
    "        train_features, train_labels = features[train_indices], labels[train_indices]\n",
    "        # Validation data for the fold\n",
    "        valid_features, valid_labels = features[valid_indices], labels[valid_indices]\n",
    "        \n",
    "        # Create the model\n",
    "        model = GradientBoostingClassifier(learning_rate=0.1, \n",
    "                                           min_samples_split=5,\n",
    "                                           min_samples_leaf=50,\n",
    "                                           max_leaf_nodes=4, \n",
    "                                           max_depth=5,\n",
    "                                           max_features=2,\n",
    "                                           random_state=10, \n",
    "                                          n_estimators=1000)\n",
    "        \n",
    "        # Train the model\n",
    "        model.fit(train_features, train_labels)\n",
    "        \n",
    "        # Record the best iteration\n",
    "        # best_iteration = model.best_iteration_\n",
    "        \n",
    "        # Record the feature importances\n",
    "        # feature_importance_values += model.feature_importances_ / k_fold.n_splits\n",
    "        \n",
    "        # Make predictions\n",
    "        test_predictions += model.predict_proba(test_features)[:, 1] / k_fold.n_splits\n",
    "        \n",
    "        # Record the out of fold predictions\n",
    "        out_of_fold[valid_indices] = model.predict_proba(valid_features)[:, 1]\n",
    "        \n",
    "        # Record the best score\n",
    "        #valid_score = model.best_score_['valid']['auc']\n",
    "        #train_score = model.best_score_['train']['auc']\n",
    "        \n",
    "        #valid_scores.append(valid_score)\n",
    "        #train_scores.append(train_score)\n",
    "        \n",
    "        # Clean up memory\n",
    "        gc.enable()\n",
    "        del model, train_features, valid_features\n",
    "        gc.collect()\n",
    "        \n",
    "    # Make the submission dataframe\n",
    "    submission = pd.DataFrame({'SK_ID_CURR': test_ids, 'TARGET': test_predictions})\n",
    "    \n",
    "    # Make the feature importance dataframe\n",
    "    feature_importances = pd.DataFrame({'feature': feature_names, 'importance': feature_importance_values})\n",
    "    \n",
    "    # Overall validation score\n",
    "    valid_auc = roc_auc_score(labels, out_of_fold)\n",
    "    \n",
    "    # Add the overall scores to the metrics\n",
    "    valid_scores.append(valid_auc)\n",
    "    train_scores.append(np.mean(train_scores))\n",
    "    \n",
    "    # Needed for creating dataframe of validation scores\n",
    "    fold_names = list(range(n_folds))\n",
    "    fold_names.append('overall')\n",
    "    \n",
    "    # Dataframe of validation scores\n",
    "    metrics = pd.DataFrame({'fold': fold_names,\n",
    "                            'train': train_scores,\n",
    "                            'valid': valid_scores}) \n",
    "    \n",
    "    return submission, feature_importances, metrics\n",
    "\n",
    "#app_train = pd.DataFrame(app_train)\n",
    "#app_train['TARGET'] = train['TARGET']\n",
    "#app_train.columns = train.columns\n",
    "#app_test = pd.DataFrame(app_test, columns=test.columns)\n",
    "\n",
    "df = pd.DataFrame([df_train_fs.columns.tolist(), df_test_fs.columns.tolist()])\n",
    "\n",
    "print(df)\n",
    "\n",
    "print(df_train_fs.columns)\n",
    "print(df_test_fs.columns)\n",
    "\n",
    "bureau_AMT_CREDIT_SUM_LIMIT_mean',\n",
    "       'bureau_AMT_CREDIT_SUM_OVERDUE_count',\n",
    "       'bureau_AMT_CREDIT_SUM_OVERDUE_mean',\n",
    "       'bureau_AMT_CREDIT_SUM_OVERDUE_min'\n",
    "\n",
    "submission, fi, metrics = model(df_train_fs.copy(), df_test_fs.copy())\n",
    "print('Baseline metrics')\n",
    "print(metrics)"
   ]
  },
  {
   "cell_type": "markdown",
   "metadata": {},
   "source": [
    "## Pre-Processamento"
   ]
  },
  {
   "cell_type": "code",
   "execution_count": null,
   "metadata": {
    "collapsed": true
   },
   "outputs": [],
   "source": [
    "# Tratar dados numericos e categoricos (normalize)\n",
    "# Verificar a correlação dos dados"
   ]
  },
  {
   "cell_type": "code",
   "execution_count": 69,
   "metadata": {
    "collapsed": true
   },
   "outputs": [],
   "source": [
    "from sklearn.preprocessing import Normalizer\n",
    "\n",
    "def normalize_categoric(train, test): \n",
    "\n",
    "    categorical_feats = [f for f in train.columns if train[f].dtype == 'object']\n",
    "    \n",
    "    for col in categorical_feats:\n",
    "        lb = preprocessing.LabelEncoder()\n",
    "        lb.fit(list(train[col].values.astype('str')) + list(test[col].values.astype('str')))\n",
    "        train[col] = lb.transform(list(train[col].values.astype('str')))\n",
    "        test[col] = lb.transform(list(test[col].values.astype('str')))\n",
    "        \n",
    "    return train, test\n",
    "        \n",
    "\n",
    "def normalize_numeric(train, test):\n",
    "    \n",
    "    train_target = train[['SK_ID_CURR', 'TARGET']]\n",
    "    test_id = test['SK_ID_CURR']\n",
    "    train.drop(['SK_ID_CURR', 'TARGET'], axis=1, inplace=True)\n",
    "    test.drop('SK_ID_CURR', axis=1, inplace=True)\n",
    "    \n",
    "    numeric_feats = [f for f in train.columns if train[f].dtype == 'int64' or  train[f].dtype == 'float64']\n",
    "    categorical_feats = [f for f in train.columns if train[f].dtype == 'object']\n",
    "    \n",
    "    train_cat = train[categorical_feats]\n",
    "    test_cat = test[categorical_feats]\n",
    "    train_num = train[numeric_feats]\n",
    "    test_num = test[numeric_feats]\n",
    "    \n",
    "    scaler = Normalizer().fit(train_num.append(test_num).fillna(0))\n",
    "    train_num = scaler.transform(train_num.fillna(0))\n",
    "    test_num = scaler.transform(test_num.fillna(0))\n",
    "    \n",
    "    train_num = pd.DataFrame(train_num, columns=numeric_feats)\n",
    "    test_num = pd.DataFrame(test_num, columns=numeric_feats)\n",
    "    \n",
    "    train_num['SK_ID_CURR'] = train_target['SK_ID_CURR']\n",
    "    train_num['TARGET'] =  train_target['TARGET']\n",
    "    test_num['SK_ID_CURR'] = test_id\n",
    "    \n",
    "    #train_num.concat(train_cat, axis=1)\n",
    "    train_num = pd.concat([train_num, train_cat], axis=1)\n",
    "    test_num = pd.concat([test_num, test_cat], axis=1)\n",
    "    \n",
    "    return train_num, test_num"
   ]
  },
  {
   "cell_type": "code",
   "execution_count": 71,
   "metadata": {
    "collapsed": true
   },
   "outputs": [],
   "source": [
    "train_norm, test_norm = normalize_numeric(df_train_join.copy(), df_test_join.copy())\n",
    "train_norm, test_norm = normalize_categoric(train_norm, test_norm)"
   ]
  },
  {
   "cell_type": "code",
   "execution_count": 72,
   "metadata": {},
   "outputs": [
    {
     "name": "stdout",
     "output_type": "stream",
     "text": [
      "(307511, 187)\n",
      "(307511, 187)\n",
      "(48744, 186)\n",
      "(48744, 186)\n"
     ]
    }
   ],
   "source": [
    "print(df_train_join.shape)\n",
    "print(train_norm.shape)\n",
    "\n",
    "print(df_test_join.shape)\n",
    "print(test_norm.shape)"
   ]
  },
  {
   "cell_type": "markdown",
   "metadata": {},
   "source": [
    "## Feature Selection"
   ]
  },
  {
   "cell_type": "code",
   "execution_count": 75,
   "metadata": {},
   "outputs": [
    {
     "name": "stdout",
     "output_type": "stream",
     "text": [
      "Number of columns to remove:  69\n",
      "['NONLIVINGAPARTMENTS_MODE', 'ELEVATORS_MEDI', 'NONLIVINGAREA_MODE', 'bureau_CREDIT_DAY_OVERDUE_count', 'bureau_CREDIT_DAY_OVERDUE_sum', 'bureau_AMT_CREDIT_SUM_max', 'FLOORSMAX_MODE', 'FLAG_EMP_PHONE', 'REGION_RATING_CLIENT_W_CITY', 'APARTMENTS_MODE', 'COMMONAREA_MEDI', 'bureau_DAYS_CREDIT_sum', 'bureau_DAYS_CREDIT_ENDDATE_count', 'bureau_AMT_CREDIT_SUM_LIMIT_count', 'bureau_CNT_CREDIT_PROLONG_sum', 'LIVE_REGION_NOT_WORK_REGION', 'ELEVATORS_AVG', 'bureau_DAYS_CREDIT_ENDDATE_sum', 'bureau_AMT_CREDIT_SUM_DEBT_count', 'DAYS_EMPLOYED_PERCENT', 'YEARS_BUILD_MEDI', 'CNT_FAM_MEMBERS', 'ENTRANCES_MEDI', 'LANDAREA_MODE', 'FLOORSMAX_MEDI', 'APARTMENTS_MEDI', 'ELEVATORS_MODE', 'LIVINGAPARTMENTS_AVG', 'FLOORSMIN_MEDI', 'LANDAREA_MEDI', 'LIVINGAPARTMENTS_MEDI', 'bureau_DAYS_ENDDATE_FACT_sum', 'bureau_DAYS_CREDIT_count', 'YEARS_BEGINEXPLUATATION_MEDI', 'bureau_DAYS_CREDIT_UPDATE_count', 'YEARS_BEGINEXPLUATATION_MODE', 'LIVINGAPARTMENTS_MODE', 'LIVINGAREA_AVG', 'bureau_AMT_CREDIT_MAX_OVERDUE_sum', 'bureau_AMT_CREDIT_SUM_DEBT_sum', 'bureau_AMT_CREDIT_MAX_OVERDUE_max', 'bureau_AMT_CREDIT_MAX_OVERDUE_min', 'BASEMENTAREA_MODE', 'bureau_AMT_CREDIT_SUM_sum', 'NONLIVINGAPARTMENTS_MEDI', 'bureau_DAYS_CREDIT_UPDATE_sum', 'AMT_CREDIT_LOG', 'LIVINGAREA_MEDI', 'COMMONAREA_MODE', 'bureau_DAYS_ENDDATE_FACT_count', 'bureau_DAYS_CREDIT_min', 'bureau_AMT_CREDIT_SUM_OVERDUE_sum', 'ENTRANCES_MODE', 'AMT_GOODS_PRICE', 'bureau_AMT_CREDIT_SUM_count', 'bureau_AMT_ANNUITY_sum', 'NONLIVINGAREA_MEDI', 'bureau_CNT_CREDIT_PROLONG_count', 'bureau_DAYS_ENDDATE_FACT_min', 'LIVE_CITY_NOT_WORK_CITY', 'TOTALAREA_MODE', 'YEARS_BUILD_MODE', 'OBS_60_CNT_SOCIAL_CIRCLE', 'BASEMENTAREA_MEDI', 'bureau_AMT_CREDIT_SUM_OVERDUE_count', 'DEF_60_CNT_SOCIAL_CIRCLE', 'FLOORSMIN_MODE', 'bureau_AMT_CREDIT_SUM_LIMIT_sum', 'LIVINGAREA_MODE']\n"
     ]
    }
   ],
   "source": [
    "##### FEATURE SELECTION #######\n",
    "\n",
    "# ESTE CODIGO RETIRA AS COLUNAS COM ALTA CORRELAÇÃO\n",
    "\n",
    "# Set the threshold\n",
    "threshold = 0.90\n",
    "\n",
    "# Empty dictionary to hold correlated variables\n",
    "above_threshold_vars = {}\n",
    "\n",
    "# For each column, record the variables that are above the threshold\n",
    "for col in corrs:\n",
    "    above_threshold_vars[col] = list(corrs.index[corrs[col] > threshold])\n",
    "    \n",
    "# Track columns to remove and columns already examined\n",
    "cols_to_remove = []\n",
    "cols_seen = []\n",
    "cols_to_remove_pair = []\n",
    "\n",
    "# Iterate through columns and correlated columns\n",
    "for key, value in above_threshold_vars.items():\n",
    "    # Keep track of columns already examined\n",
    "    cols_seen.append(key)\n",
    "    for x in value:\n",
    "        if x == key:\n",
    "            next\n",
    "        else:\n",
    "            # Only want to remove one in a pair\n",
    "            if x not in cols_seen:\n",
    "                cols_to_remove.append(x)\n",
    "                cols_to_remove_pair.append(key)\n",
    "            \n",
    "cols_to_remove = list(set(cols_to_remove))\n",
    "print('Number of columns to remove: ', len(cols_to_remove))\n",
    "# print(cols_to_remove)\n",
    "\n",
    "#train_corrs_removed = df_train.drop(cols_to_remove, axis=1)\n",
    "#test_corrs_removed = df_test.drop(cols_to_remove, axis=1)\n",
    "\n",
    "#print('Training Corrs Removed Shape: ', train_corrs_removed.shape)\n",
    "#print('Testing Corrs Removed Shape: ', test_corrs_removed.shape)"
   ]
  },
  {
   "cell_type": "code",
   "execution_count": null,
   "metadata": {
    "collapsed": true
   },
   "outputs": [],
   "source": []
  },
  {
   "cell_type": "markdown",
   "metadata": {},
   "source": [
    "## Criando os modelos de ML"
   ]
  },
  {
   "cell_type": "markdown",
   "metadata": {},
   "source": [
    "### resample"
   ]
  },
  {
   "cell_type": "code",
   "execution_count": 76,
   "metadata": {},
   "outputs": [
    {
     "data": {
      "text/plain": [
       "(74825, 187)"
      ]
     },
     "execution_count": 76,
     "metadata": {},
     "output_type": "execute_result"
    }
   ],
   "source": [
    "from sklearn.utils import resample\n",
    "\n",
    "def downsampled(train):\n",
    "\n",
    "    # Separate majority and minority classes\n",
    "    df_majority = train[train.TARGET==0]\n",
    "    df_minority = train[train.TARGET==1]\n",
    "\n",
    "    # Downsample majority class\n",
    "    df_majority_downsampled = resample(df_majority, \n",
    "                                     replace=False,    # sample without replacement\n",
    "                                     n_samples=50000,     # to match minority class 24825\n",
    "                                     random_state=7) # reproducible results\n",
    "\n",
    "    # Combine minority class with downsampled majority class\n",
    "    return pd.concat([df_majority_downsampled, df_minority])\n",
    "    \n",
    "\n",
    "train_downsampled = downsampled(train_norm)\n",
    "\n",
    "# Display new class counts\n",
    "train_downsampled.TARGET.value_counts()\n",
    "\n",
    "train_downsampled.shape"
   ]
  },
  {
   "cell_type": "code",
   "execution_count": 83,
   "metadata": {},
   "outputs": [
    {
     "name": "stdout",
     "output_type": "stream",
     "text": [
      "Fitting 5 folds for each of 1 candidates, totalling 5 fits\n",
      "[CV] n_estimators=1000 ...............................................\n"
     ]
    },
    {
     "name": "stderr",
     "output_type": "stream",
     "text": [
      "[Parallel(n_jobs=-1)]: Using backend SequentialBackend with 1 concurrent workers.\n"
     ]
    },
    {
     "name": "stdout",
     "output_type": "stream",
     "text": [
      "[CV] ...... n_estimators=1000, score=0.6944426059572153, total=  43.0s\n",
      "[CV] n_estimators=1000 ...............................................\n"
     ]
    },
    {
     "name": "stderr",
     "output_type": "stream",
     "text": [
      "[Parallel(n_jobs=-1)]: Done   1 out of   1 | elapsed:   47.8s remaining:    0.0s\n"
     ]
    },
    {
     "name": "stdout",
     "output_type": "stream",
     "text": [
      "[CV] ....... n_estimators=1000, score=0.691695704070959, total=  42.0s\n",
      "[CV] n_estimators=1000 ...............................................\n"
     ]
    },
    {
     "name": "stderr",
     "output_type": "stream",
     "text": [
      "[Parallel(n_jobs=-1)]: Done   2 out of   2 | elapsed:  1.6min remaining:    0.0s\n"
     ]
    },
    {
     "name": "stdout",
     "output_type": "stream",
     "text": [
      "[CV] ...... n_estimators=1000, score=0.6914507153232494, total=  41.1s\n",
      "[CV] n_estimators=1000 ...............................................\n"
     ]
    },
    {
     "name": "stderr",
     "output_type": "stream",
     "text": [
      "[Parallel(n_jobs=-1)]: Done   3 out of   3 | elapsed:  2.3min remaining:    0.0s\n"
     ]
    },
    {
     "name": "stdout",
     "output_type": "stream",
     "text": [
      "[CV] ...... n_estimators=1000, score=0.6883386191020435, total=  41.7s\n",
      "[CV] n_estimators=1000 ...............................................\n",
      "[CV] ...... n_estimators=1000, score=0.6920052602072306, total=  44.1s\n"
     ]
    },
    {
     "name": "stderr",
     "output_type": "stream",
     "text": [
      "[Parallel(n_jobs=-1)]: Done   5 out of   5 | elapsed:  3.9min finished\n"
     ]
    },
    {
     "name": "stdout",
     "output_type": "stream",
     "text": [
      "Fitting 5 folds for each of 1 candidates, totalling 5 fits\n",
      "[CV] n_estimators=1000 ...............................................\n"
     ]
    },
    {
     "name": "stderr",
     "output_type": "stream",
     "text": [
      "[Parallel(n_jobs=-1)]: Using backend SequentialBackend with 1 concurrent workers.\n"
     ]
    },
    {
     "name": "stdout",
     "output_type": "stream",
     "text": [
      "[CV] ...... n_estimators=1000, score=0.6933748136120979, total=  51.1s\n",
      "[CV] n_estimators=1000 ...............................................\n"
     ]
    },
    {
     "name": "stderr",
     "output_type": "stream",
     "text": [
      "[Parallel(n_jobs=-1)]: Done   1 out of   1 | elapsed:   56.7s remaining:    0.0s\n"
     ]
    },
    {
     "name": "stdout",
     "output_type": "stream",
     "text": [
      "[CV] ...... n_estimators=1000, score=0.6917977044410962, total=  50.5s\n",
      "[CV] n_estimators=1000 ...............................................\n"
     ]
    },
    {
     "name": "stderr",
     "output_type": "stream",
     "text": [
      "[Parallel(n_jobs=-1)]: Done   2 out of   2 | elapsed:  1.9min remaining:    0.0s\n"
     ]
    },
    {
     "name": "stdout",
     "output_type": "stream",
     "text": [
      "[CV] ...... n_estimators=1000, score=0.6924589466865033, total=  51.2s\n",
      "[CV] n_estimators=1000 ...............................................\n"
     ]
    },
    {
     "name": "stderr",
     "output_type": "stream",
     "text": [
      "[Parallel(n_jobs=-1)]: Done   3 out of   3 | elapsed:  2.8min remaining:    0.0s\n"
     ]
    },
    {
     "name": "stdout",
     "output_type": "stream",
     "text": [
      "[CV] ...... n_estimators=1000, score=0.6924378005536542, total=  41.4s\n",
      "[CV] n_estimators=1000 ...............................................\n",
      "[CV] ....... n_estimators=1000, score=0.697701814940627, total=  44.0s\n"
     ]
    },
    {
     "name": "stderr",
     "output_type": "stream",
     "text": [
      "[Parallel(n_jobs=-1)]: Done   5 out of   5 | elapsed:  4.4min finished\n"
     ]
    },
    {
     "name": "stdout",
     "output_type": "stream",
     "text": [
      "Fitting 5 folds for each of 1 candidates, totalling 5 fits\n",
      "[CV] n_estimators=1000 ...............................................\n"
     ]
    },
    {
     "name": "stderr",
     "output_type": "stream",
     "text": [
      "[Parallel(n_jobs=-1)]: Using backend SequentialBackend with 1 concurrent workers.\n"
     ]
    },
    {
     "name": "stdout",
     "output_type": "stream",
     "text": [
      "[CV] ...... n_estimators=1000, score=0.6922124712007677, total=  44.4s\n",
      "[CV] n_estimators=1000 ...............................................\n"
     ]
    },
    {
     "name": "stderr",
     "output_type": "stream",
     "text": [
      "[Parallel(n_jobs=-1)]: Done   1 out of   1 | elapsed:   48.7s remaining:    0.0s\n"
     ]
    },
    {
     "name": "stdout",
     "output_type": "stream",
     "text": [
      "[CV] ...... n_estimators=1000, score=0.6909674815626403, total=  43.4s\n",
      "[CV] n_estimators=1000 ...............................................\n"
     ]
    },
    {
     "name": "stderr",
     "output_type": "stream",
     "text": [
      "[Parallel(n_jobs=-1)]: Done   2 out of   2 | elapsed:  1.6min remaining:    0.0s\n"
     ]
    },
    {
     "name": "stdout",
     "output_type": "stream",
     "text": [
      "[CV] ...... n_estimators=1000, score=0.6920084771840536, total=  44.4s\n",
      "[CV] n_estimators=1000 ...............................................\n"
     ]
    },
    {
     "name": "stderr",
     "output_type": "stream",
     "text": [
      "[Parallel(n_jobs=-1)]: Done   3 out of   3 | elapsed:  2.4min remaining:    0.0s\n"
     ]
    },
    {
     "name": "stdout",
     "output_type": "stream",
     "text": [
      "[CV] ...... n_estimators=1000, score=0.6902633181799203, total=  44.6s\n",
      "[CV] n_estimators=1000 ...............................................\n",
      "[CV] ...... n_estimators=1000, score=0.6940439797278726, total=  43.4s\n"
     ]
    },
    {
     "name": "stderr",
     "output_type": "stream",
     "text": [
      "[Parallel(n_jobs=-1)]: Done   5 out of   5 | elapsed:  4.1min finished\n"
     ]
    },
    {
     "name": "stdout",
     "output_type": "stream",
     "text": [
      "Fitting 5 folds for each of 1 candidates, totalling 5 fits\n",
      "[CV] n_estimators=1000 ...............................................\n"
     ]
    },
    {
     "name": "stderr",
     "output_type": "stream",
     "text": [
      "[Parallel(n_jobs=-1)]: Using backend SequentialBackend with 1 concurrent workers.\n"
     ]
    },
    {
     "name": "stdout",
     "output_type": "stream",
     "text": [
      "[CV] ...... n_estimators=1000, score=0.6905355237652971, total=  44.4s\n",
      "[CV] n_estimators=1000 ...............................................\n"
     ]
    },
    {
     "name": "stderr",
     "output_type": "stream",
     "text": [
      "[Parallel(n_jobs=-1)]: Done   1 out of   1 | elapsed:   49.3s remaining:    0.0s\n"
     ]
    },
    {
     "name": "stdout",
     "output_type": "stream",
     "text": [
      "[CV] ....... n_estimators=1000, score=0.693967919236357, total=  42.7s\n",
      "[CV] n_estimators=1000 ...............................................\n"
     ]
    },
    {
     "name": "stderr",
     "output_type": "stream",
     "text": [
      "[Parallel(n_jobs=-1)]: Done   2 out of   2 | elapsed:  1.6min remaining:    0.0s\n"
     ]
    },
    {
     "name": "stdout",
     "output_type": "stream",
     "text": [
      "[CV] ....... n_estimators=1000, score=0.690641563406849, total=  41.4s\n",
      "[CV] n_estimators=1000 ...............................................\n"
     ]
    },
    {
     "name": "stderr",
     "output_type": "stream",
     "text": [
      "[Parallel(n_jobs=-1)]: Done   3 out of   3 | elapsed:  2.4min remaining:    0.0s\n"
     ]
    },
    {
     "name": "stdout",
     "output_type": "stream",
     "text": [
      "[CV] ....... n_estimators=1000, score=0.690266416833366, total=  44.1s\n",
      "[CV] n_estimators=1000 ...............................................\n",
      "[CV] ...... n_estimators=1000, score=0.6995525531442321, total=  44.0s\n"
     ]
    },
    {
     "name": "stderr",
     "output_type": "stream",
     "text": [
      "[Parallel(n_jobs=-1)]: Done   5 out of   5 | elapsed:  4.0min finished\n"
     ]
    },
    {
     "name": "stdout",
     "output_type": "stream",
     "text": [
      "Fitting 5 folds for each of 1 candidates, totalling 5 fits\n",
      "[CV] n_estimators=1000 ...............................................\n"
     ]
    },
    {
     "name": "stderr",
     "output_type": "stream",
     "text": [
      "[Parallel(n_jobs=-1)]: Using backend SequentialBackend with 1 concurrent workers.\n"
     ]
    },
    {
     "name": "stdout",
     "output_type": "stream",
     "text": [
      "[CV] ...... n_estimators=1000, score=0.6922294336295831, total=  40.0s\n",
      "[CV] n_estimators=1000 ...............................................\n"
     ]
    },
    {
     "name": "stderr",
     "output_type": "stream",
     "text": [
      "[Parallel(n_jobs=-1)]: Done   1 out of   1 | elapsed:   44.8s remaining:    0.0s\n"
     ]
    },
    {
     "name": "stdout",
     "output_type": "stream",
     "text": [
      "[CV] ...... n_estimators=1000, score=0.6925263120300366, total=  41.4s\n",
      "[CV] n_estimators=1000 ...............................................\n"
     ]
    },
    {
     "name": "stderr",
     "output_type": "stream",
     "text": [
      "[Parallel(n_jobs=-1)]: Done   2 out of   2 | elapsed:  1.5min remaining:    0.0s\n"
     ]
    },
    {
     "name": "stdout",
     "output_type": "stream",
     "text": [
      "[CV] ...... n_estimators=1000, score=0.6866273814409762, total=  42.9s\n",
      "[CV] n_estimators=1000 ...............................................\n"
     ]
    },
    {
     "name": "stderr",
     "output_type": "stream",
     "text": [
      "[Parallel(n_jobs=-1)]: Done   3 out of   3 | elapsed:  2.3min remaining:    0.0s\n"
     ]
    },
    {
     "name": "stdout",
     "output_type": "stream",
     "text": [
      "[CV] ...... n_estimators=1000, score=0.6928190126583539, total=  40.0s\n",
      "[CV] n_estimators=1000 ...............................................\n",
      "[CV] ....... n_estimators=1000, score=0.693782181637379, total=  43.8s\n"
     ]
    },
    {
     "name": "stderr",
     "output_type": "stream",
     "text": [
      "[Parallel(n_jobs=-1)]: Done   5 out of   5 | elapsed:  5.0min finished\n"
     ]
    },
    {
     "name": "stdout",
     "output_type": "stream",
     "text": [
      "AUC: 0.692 (0.003)\n"
     ]
    }
   ],
   "source": [
    "# Avaliação usando Cross Validation\n",
    "\n",
    "# Import dos módulos\n",
    "from pandas import read_csv\n",
    "from sklearn import model_selection\n",
    "from sklearn.linear_model import LogisticRegression\n",
    "from sklearn.model_selection import GridSearchCV\n",
    "from sklearn.ensemble import GradientBoostingClassifier\n",
    "\n",
    "# Separando o array em componentes de input e output\n",
    "X = train_norm.drop(['TARGET', 'SK_ID_CURR'], axis=1)\n",
    "Y = train_norm['TARGET']\n",
    "\n",
    "# Definindo os valores para os folds\n",
    "num_folds = 5\n",
    "seed = 7\n",
    "\n",
    "# Separando os dados em folds\n",
    "kfold = model_selection.KFold(num_folds, True, random_state = seed)\n",
    "\n",
    "param_test1 = {'n_estimators': [1000]}\n",
    "gsearch1 = GridSearchCV(estimator = GradientBoostingClassifier(learning_rate=0.1, \n",
    "                                                               min_samples_split=5,\n",
    "                                                               min_samples_leaf=50,\n",
    "                                                               max_leaf_nodes=4, \n",
    "                                                               max_depth=5,\n",
    "                                                               max_features=2,\n",
    "                                                               random_state=10),\n",
    "                        param_grid = param_test1, \n",
    "                        scoring='roc_auc',\n",
    "                        n_jobs=-1,\n",
    "                        iid=False, \n",
    "                        cv=5, \n",
    "                       verbose=4)\n",
    "\n",
    "# Criando o modelo\n",
    "modelo = gsearch1 #LogisticRegression()\n",
    "resultado = model_selection.cross_val_score(modelo, X, Y, cv = kfold, scoring='roc_auc')\n",
    "\n",
    "# Usamos a média e o desvio padrão\n",
    "print(\"AUC: %.3f (%.3f)\" % (resultado.mean(), resultado.std()))\n",
    "\n"
   ]
  },
  {
   "cell_type": "code",
   "execution_count": 91,
   "metadata": {},
   "outputs": [
    {
     "name": "stdout",
     "output_type": "stream",
     "text": [
      "Training Data Shape:  (307511, 185)\n",
      "Testing Data Shape:  (48744, 185)\n"
     ]
    },
    {
     "ename": "ValueError",
     "evalue": "arrays must all be same length",
     "output_type": "error",
     "traceback": [
      "\u001b[0;31m---------------------------------------------------------------------------\u001b[0m",
      "\u001b[0;31mValueError\u001b[0m                                Traceback (most recent call last)",
      "\u001b[0;32m<ipython-input-91-0d3ad0a37c50>\u001b[0m in \u001b[0;36m<module>\u001b[0;34m()\u001b[0m\n\u001b[1;32m    160\u001b[0m \u001b[0;31m#app_test = pd.DataFrame(app_test, columns=test.columns)\u001b[0m\u001b[0;34m\u001b[0m\u001b[0;34m\u001b[0m\u001b[0m\n\u001b[1;32m    161\u001b[0m \u001b[0;34m\u001b[0m\u001b[0m\n\u001b[0;32m--> 162\u001b[0;31m \u001b[0msubmission\u001b[0m\u001b[0;34m,\u001b[0m \u001b[0mfi\u001b[0m\u001b[0;34m,\u001b[0m \u001b[0mmetrics\u001b[0m \u001b[0;34m=\u001b[0m \u001b[0mmodel\u001b[0m\u001b[0;34m(\u001b[0m\u001b[0mtrain_norm\u001b[0m\u001b[0;34m,\u001b[0m \u001b[0mtest_norm\u001b[0m\u001b[0;34m)\u001b[0m\u001b[0;34m\u001b[0m\u001b[0m\n\u001b[0m\u001b[1;32m    163\u001b[0m \u001b[0mprint\u001b[0m\u001b[0;34m(\u001b[0m\u001b[0;34m'Baseline metrics'\u001b[0m\u001b[0;34m)\u001b[0m\u001b[0;34m\u001b[0m\u001b[0m\n\u001b[1;32m    164\u001b[0m \u001b[0mprint\u001b[0m\u001b[0;34m(\u001b[0m\u001b[0mmetrics\u001b[0m\u001b[0;34m)\u001b[0m\u001b[0;34m\u001b[0m\u001b[0m\n",
      "\u001b[0;32m<ipython-input-91-0d3ad0a37c50>\u001b[0m in \u001b[0;36mmodel\u001b[0;34m(features, test_features, encoding, n_folds)\u001b[0m\n\u001b[1;32m    151\u001b[0m     metrics = pd.DataFrame({'fold': fold_names,\n\u001b[1;32m    152\u001b[0m                             \u001b[0;34m'train'\u001b[0m\u001b[0;34m:\u001b[0m \u001b[0mtrain_scores\u001b[0m\u001b[0;34m,\u001b[0m\u001b[0;34m\u001b[0m\u001b[0m\n\u001b[0;32m--> 153\u001b[0;31m                             'valid': valid_scores}) \n\u001b[0m\u001b[1;32m    154\u001b[0m \u001b[0;34m\u001b[0m\u001b[0m\n\u001b[1;32m    155\u001b[0m     \u001b[0;32mreturn\u001b[0m \u001b[0msubmission\u001b[0m\u001b[0;34m,\u001b[0m \u001b[0mfeature_importances\u001b[0m\u001b[0;34m,\u001b[0m \u001b[0mmetrics\u001b[0m\u001b[0;34m\u001b[0m\u001b[0m\n",
      "\u001b[0;32m/anaconda3/lib/python3.6/site-packages/pandas/core/frame.py\u001b[0m in \u001b[0;36m__init__\u001b[0;34m(self, data, index, columns, dtype, copy)\u001b[0m\n\u001b[1;32m    273\u001b[0m                                  dtype=dtype, copy=copy)\n\u001b[1;32m    274\u001b[0m         \u001b[0;32melif\u001b[0m \u001b[0misinstance\u001b[0m\u001b[0;34m(\u001b[0m\u001b[0mdata\u001b[0m\u001b[0;34m,\u001b[0m \u001b[0mdict\u001b[0m\u001b[0;34m)\u001b[0m\u001b[0;34m:\u001b[0m\u001b[0;34m\u001b[0m\u001b[0m\n\u001b[0;32m--> 275\u001b[0;31m             \u001b[0mmgr\u001b[0m \u001b[0;34m=\u001b[0m \u001b[0mself\u001b[0m\u001b[0;34m.\u001b[0m\u001b[0m_init_dict\u001b[0m\u001b[0;34m(\u001b[0m\u001b[0mdata\u001b[0m\u001b[0;34m,\u001b[0m \u001b[0mindex\u001b[0m\u001b[0;34m,\u001b[0m \u001b[0mcolumns\u001b[0m\u001b[0;34m,\u001b[0m \u001b[0mdtype\u001b[0m\u001b[0;34m=\u001b[0m\u001b[0mdtype\u001b[0m\u001b[0;34m)\u001b[0m\u001b[0;34m\u001b[0m\u001b[0m\n\u001b[0m\u001b[1;32m    276\u001b[0m         \u001b[0;32melif\u001b[0m \u001b[0misinstance\u001b[0m\u001b[0;34m(\u001b[0m\u001b[0mdata\u001b[0m\u001b[0;34m,\u001b[0m \u001b[0mma\u001b[0m\u001b[0;34m.\u001b[0m\u001b[0mMaskedArray\u001b[0m\u001b[0;34m)\u001b[0m\u001b[0;34m:\u001b[0m\u001b[0;34m\u001b[0m\u001b[0m\n\u001b[1;32m    277\u001b[0m             \u001b[0;32mimport\u001b[0m \u001b[0mnumpy\u001b[0m\u001b[0;34m.\u001b[0m\u001b[0mma\u001b[0m\u001b[0;34m.\u001b[0m\u001b[0mmrecords\u001b[0m \u001b[0;32mas\u001b[0m \u001b[0mmrecords\u001b[0m\u001b[0;34m\u001b[0m\u001b[0m\n",
      "\u001b[0;32m/anaconda3/lib/python3.6/site-packages/pandas/core/frame.py\u001b[0m in \u001b[0;36m_init_dict\u001b[0;34m(self, data, index, columns, dtype)\u001b[0m\n\u001b[1;32m    409\u001b[0m             \u001b[0marrays\u001b[0m \u001b[0;34m=\u001b[0m \u001b[0;34m[\u001b[0m\u001b[0mdata\u001b[0m\u001b[0;34m[\u001b[0m\u001b[0mk\u001b[0m\u001b[0;34m]\u001b[0m \u001b[0;32mfor\u001b[0m \u001b[0mk\u001b[0m \u001b[0;32min\u001b[0m \u001b[0mkeys\u001b[0m\u001b[0;34m]\u001b[0m\u001b[0;34m\u001b[0m\u001b[0m\n\u001b[1;32m    410\u001b[0m \u001b[0;34m\u001b[0m\u001b[0m\n\u001b[0;32m--> 411\u001b[0;31m         \u001b[0;32mreturn\u001b[0m \u001b[0m_arrays_to_mgr\u001b[0m\u001b[0;34m(\u001b[0m\u001b[0marrays\u001b[0m\u001b[0;34m,\u001b[0m \u001b[0mdata_names\u001b[0m\u001b[0;34m,\u001b[0m \u001b[0mindex\u001b[0m\u001b[0;34m,\u001b[0m \u001b[0mcolumns\u001b[0m\u001b[0;34m,\u001b[0m \u001b[0mdtype\u001b[0m\u001b[0;34m=\u001b[0m\u001b[0mdtype\u001b[0m\u001b[0;34m)\u001b[0m\u001b[0;34m\u001b[0m\u001b[0m\n\u001b[0m\u001b[1;32m    412\u001b[0m \u001b[0;34m\u001b[0m\u001b[0m\n\u001b[1;32m    413\u001b[0m     \u001b[0;32mdef\u001b[0m \u001b[0m_init_ndarray\u001b[0m\u001b[0;34m(\u001b[0m\u001b[0mself\u001b[0m\u001b[0;34m,\u001b[0m \u001b[0mvalues\u001b[0m\u001b[0;34m,\u001b[0m \u001b[0mindex\u001b[0m\u001b[0;34m,\u001b[0m \u001b[0mcolumns\u001b[0m\u001b[0;34m,\u001b[0m \u001b[0mdtype\u001b[0m\u001b[0;34m=\u001b[0m\u001b[0;32mNone\u001b[0m\u001b[0;34m,\u001b[0m \u001b[0mcopy\u001b[0m\u001b[0;34m=\u001b[0m\u001b[0;32mFalse\u001b[0m\u001b[0;34m)\u001b[0m\u001b[0;34m:\u001b[0m\u001b[0;34m\u001b[0m\u001b[0m\n",
      "\u001b[0;32m/anaconda3/lib/python3.6/site-packages/pandas/core/frame.py\u001b[0m in \u001b[0;36m_arrays_to_mgr\u001b[0;34m(arrays, arr_names, index, columns, dtype)\u001b[0m\n\u001b[1;32m   5494\u001b[0m     \u001b[0;31m# figure out the index, if necessary\u001b[0m\u001b[0;34m\u001b[0m\u001b[0;34m\u001b[0m\u001b[0m\n\u001b[1;32m   5495\u001b[0m     \u001b[0;32mif\u001b[0m \u001b[0mindex\u001b[0m \u001b[0;32mis\u001b[0m \u001b[0;32mNone\u001b[0m\u001b[0;34m:\u001b[0m\u001b[0;34m\u001b[0m\u001b[0m\n\u001b[0;32m-> 5496\u001b[0;31m         \u001b[0mindex\u001b[0m \u001b[0;34m=\u001b[0m \u001b[0mextract_index\u001b[0m\u001b[0;34m(\u001b[0m\u001b[0marrays\u001b[0m\u001b[0;34m)\u001b[0m\u001b[0;34m\u001b[0m\u001b[0m\n\u001b[0m\u001b[1;32m   5497\u001b[0m     \u001b[0;32melse\u001b[0m\u001b[0;34m:\u001b[0m\u001b[0;34m\u001b[0m\u001b[0m\n\u001b[1;32m   5498\u001b[0m         \u001b[0mindex\u001b[0m \u001b[0;34m=\u001b[0m \u001b[0m_ensure_index\u001b[0m\u001b[0;34m(\u001b[0m\u001b[0mindex\u001b[0m\u001b[0;34m)\u001b[0m\u001b[0;34m\u001b[0m\u001b[0m\n",
      "\u001b[0;32m/anaconda3/lib/python3.6/site-packages/pandas/core/frame.py\u001b[0m in \u001b[0;36mextract_index\u001b[0;34m(data)\u001b[0m\n\u001b[1;32m   5542\u001b[0m             \u001b[0mlengths\u001b[0m \u001b[0;34m=\u001b[0m \u001b[0mlist\u001b[0m\u001b[0;34m(\u001b[0m\u001b[0mset\u001b[0m\u001b[0;34m(\u001b[0m\u001b[0mraw_lengths\u001b[0m\u001b[0;34m)\u001b[0m\u001b[0;34m)\u001b[0m\u001b[0;34m\u001b[0m\u001b[0m\n\u001b[1;32m   5543\u001b[0m             \u001b[0;32mif\u001b[0m \u001b[0mlen\u001b[0m\u001b[0;34m(\u001b[0m\u001b[0mlengths\u001b[0m\u001b[0;34m)\u001b[0m \u001b[0;34m>\u001b[0m \u001b[0;36m1\u001b[0m\u001b[0;34m:\u001b[0m\u001b[0;34m\u001b[0m\u001b[0m\n\u001b[0;32m-> 5544\u001b[0;31m                 \u001b[0;32mraise\u001b[0m \u001b[0mValueError\u001b[0m\u001b[0;34m(\u001b[0m\u001b[0;34m'arrays must all be same length'\u001b[0m\u001b[0;34m)\u001b[0m\u001b[0;34m\u001b[0m\u001b[0m\n\u001b[0m\u001b[1;32m   5545\u001b[0m \u001b[0;34m\u001b[0m\u001b[0m\n\u001b[1;32m   5546\u001b[0m             \u001b[0;32mif\u001b[0m \u001b[0mhave_dicts\u001b[0m\u001b[0;34m:\u001b[0m\u001b[0;34m\u001b[0m\u001b[0m\n",
      "\u001b[0;31mValueError\u001b[0m: arrays must all be same length"
     ]
    }
   ],
   "source": [
    "### ESTOU AQUI!! \n",
    "## Todo: alterar codigo para ser a minha funcao de criar \n",
    "##       modelo usando cross_validation e minimizar a alta variancia dos\n",
    "##       dados.\n",
    "## ENTENDER TODA ESSA LOGICA - pois gerou um resultado muito melhor que o que estava conseguindo atingir antes\n",
    "# De 0.69 fui para 0.76 no Kaggle. \n",
    "\n",
    "from sklearn.preprocessing import LabelEncoder\n",
    "from sklearn.model_selection import KFold\n",
    "from sklearn.metrics import roc_auc_score\n",
    "import gc\n",
    "\n",
    "def model(features, test_features, encoding = 'le', n_folds = 5):\n",
    "    \n",
    "    # Extract the ids\n",
    "    train_ids = features['SK_ID_CURR']\n",
    "    test_ids = test_features['SK_ID_CURR']\n",
    "    \n",
    "    # Extract the labels for training\n",
    "    labels = features['TARGET']\n",
    "    \n",
    "    # Remove the ids and target\n",
    "    features = features.drop(['SK_ID_CURR', 'TARGET'], axis=1)\n",
    "    test_features = test_features.drop(['SK_ID_CURR'], axis=1)\n",
    "    \n",
    "    \n",
    "    # One Hot Encoding\n",
    "    if encoding == 'ohe':\n",
    "        features = pd.get_dummies(features)\n",
    "        test_features = pd.get_dummies(test_features)\n",
    "        \n",
    "        # Align the dataframes by the columns\n",
    "        features, test_features = features.align(test_features, join = 'inner', axis = 1)\n",
    "        \n",
    "        # No categorical indices to record\n",
    "        cat_indices = 'auto'\n",
    "    \n",
    "    # Integer label encoding\n",
    "    elif encoding == 'le':\n",
    "        \n",
    "        # Create a label encoder\n",
    "        label_encoder = LabelEncoder()\n",
    "        \n",
    "        # List for storing categorical indices\n",
    "        cat_indices = []\n",
    "        \n",
    "        # Iterate through each column\n",
    "        for i, col in enumerate(features):\n",
    "            if features[col].dtype == 'object':\n",
    "                # Map the categorical features to integers\n",
    "                features[col] = label_encoder.fit_transform(np.array(features[col].astype(str)).reshape((-1,)))\n",
    "                test_features[col] = label_encoder.transform(np.array(test_features[col].astype(str)).reshape((-1,)))\n",
    "\n",
    "                # Record the categorical indices\n",
    "                cat_indices.append(i)\n",
    "    \n",
    "    # Catch error if label encoding scheme is not valid\n",
    "    else:\n",
    "        print('Encoder não aplicado')\n",
    "        raise ValueError(\"Encoding must be either 'ohe' or 'le'\")\n",
    "        \n",
    "    print('Training Data Shape: ', features.shape)\n",
    "    print('Testing Data Shape: ', test_features.shape)\n",
    "    \n",
    "    # Extract feature names\n",
    "    feature_names = list(features.columns)\n",
    "    \n",
    "    # Convert to np arrays\n",
    "    features = np.array(features)\n",
    "    test_features = np.array(test_features)\n",
    "    \n",
    "    # Create the kfold object\n",
    "    k_fold = KFold(n_splits = n_folds, shuffle = True, random_state = 50)\n",
    "    \n",
    "    # Empty array for feature importances\n",
    "    feature_importance_values = np.zeros(len(feature_names))\n",
    "    \n",
    "    # Empty array for test predictions\n",
    "    test_predictions = np.zeros(test_features.shape[0])\n",
    "    \n",
    "    # Empty array for out of fold validation predictions\n",
    "    out_of_fold = np.zeros(features.shape[0])\n",
    "    \n",
    "    # Lists for recording validation and training scores\n",
    "    valid_scores = []\n",
    "    train_scores = []\n",
    "    \n",
    "    # Iterate through each fold\n",
    "    for train_indices, valid_indices in k_fold.split(features):\n",
    "        \n",
    "        # Training data for the fold\n",
    "        train_features, train_labels = features[train_indices], labels[train_indices]\n",
    "        # Validation data for the fold\n",
    "        valid_features, valid_labels = features[valid_indices], labels[valid_indices]\n",
    "        \n",
    "        # Create the model\n",
    "        model = GradientBoostingClassifier(learning_rate=0.1, \n",
    "                                           min_samples_split=5,\n",
    "                                           min_samples_leaf=50,\n",
    "                                           max_leaf_nodes=4, \n",
    "                                           max_depth=5,\n",
    "                                           max_features=2,\n",
    "                                           random_state=10, \n",
    "                                          n_estimators=1000)\n",
    "        \n",
    "        # Train the model\n",
    "        model.fit(train_features, train_labels)\n",
    "        \n",
    "        # Record the best iteration\n",
    "        # best_iteration = model.best_iteration_\n",
    "        \n",
    "        # Record the feature importances\n",
    "        # feature_importance_values += model.feature_importances_ / k_fold.n_splits\n",
    "        \n",
    "        # Make predictions\n",
    "        test_predictions += model.predict_proba(test_features)[:, 1] / k_fold.n_splits\n",
    "        \n",
    "        # Record the out of fold predictions\n",
    "        out_of_fold[valid_indices] = model.predict_proba(valid_features)[:, 1]\n",
    "        \n",
    "        # Record the best score\n",
    "        #valid_score = model.best_score_['valid']['auc']\n",
    "        #train_score = model.best_score_['train']['auc']\n",
    "        \n",
    "        #valid_scores.append(valid_score)\n",
    "        #train_scores.append(train_score)\n",
    "        \n",
    "        # Clean up memory\n",
    "        gc.enable()\n",
    "        del model, train_features, valid_features\n",
    "        gc.collect()\n",
    "        \n",
    "    # Make the submission dataframe\n",
    "    submission = pd.DataFrame({'SK_ID_CURR': test_ids, 'TARGET': test_predictions})\n",
    "    \n",
    "    # Make the feature importance dataframe\n",
    "    feature_importances = pd.DataFrame({'feature': feature_names, 'importance': feature_importance_values})\n",
    "    \n",
    "    # Overall validation score\n",
    "    valid_auc = roc_auc_score(labels, out_of_fold)\n",
    "    \n",
    "    # Add the overall scores to the metrics\n",
    "    valid_scores.append(valid_auc)\n",
    "    train_scores.append(np.mean(train_scores))\n",
    "    \n",
    "    # Needed for creating dataframe of validation scores\n",
    "    fold_names = list(range(n_folds))\n",
    "    fold_names.append('overall')\n",
    "    \n",
    "    # Dataframe of validation scores\n",
    "    metrics = pd.DataFrame({'fold': fold_names,\n",
    "                            'train': train_scores,\n",
    "                            'valid': valid_scores}) \n",
    "    \n",
    "    return submission, feature_importances, metrics\n",
    "\n",
    "#app_train = pd.DataFrame(app_train)\n",
    "#app_train['TARGET'] = train['TARGET']\n",
    "#app_train.columns = train.columns\n",
    "#app_test = pd.DataFrame(app_test, columns=test.columns)\n",
    "\n",
    "submission, fi, metrics = model(train_norm, test_norm)\n",
    "print('Baseline metrics')\n",
    "print(metrics)"
   ]
  },
  {
   "cell_type": "code",
   "execution_count": 19,
   "metadata": {},
   "outputs": [
    {
     "data": {
      "text/plain": [
       "(52377, 128)"
      ]
     },
     "execution_count": 19,
     "metadata": {},
     "output_type": "execute_result"
    }
   ],
   "source": [
    "from sklearn import model_selection\n",
    "\n",
    "def train_test_split(data):\n",
    "    X = data.drop(['SK_ID_CURR', 'TARGET'], axis=1)\n",
    "    Y = data['TARGET']\n",
    "    \n",
    "    return model_selection.train_test_split(X, \n",
    "                                            Y, \n",
    "                                            test_size=0.3, \n",
    "                                            random_state=7)\n",
    "\n",
    "X_train, X_test, y_train, y_test = train_test_split(train_downsampled)\n",
    "\n",
    "X_train.shape"
   ]
  },
  {
   "cell_type": "code",
   "execution_count": 20,
   "metadata": {},
   "outputs": [
    {
     "name": "stdout",
     "output_type": "stream",
     "text": [
      "(52377, 128)\n",
      "Fitting 5 folds for each of 9 candidates, totalling 45 fits\n"
     ]
    },
    {
     "name": "stderr",
     "output_type": "stream",
     "text": [
      "[Parallel(n_jobs=-1)]: Using backend LokyBackend with 8 concurrent workers.\n",
      "[Parallel(n_jobs=-1)]: Done   9 tasks      | elapsed:   24.5s\n",
      "[Parallel(n_jobs=-1)]: Done  42 out of  45 | elapsed:  3.7min remaining:   16.0s\n",
      "[Parallel(n_jobs=-1)]: Done  45 out of  45 | elapsed:  3.9min finished\n"
     ]
    },
    {
     "name": "stdout",
     "output_type": "stream",
     "text": [
      "Predict ...\n",
      "Best params: {'n_estimators': 2500} - Best score: 0.7588399973103714\n",
      "Accuracy: 0.7310228082679971\n",
      "\n",
      "\n",
      "fbeta: 0.4521817442333392\n",
      "\n",
      "\n",
      "              precision    recall  f1-score   support\n",
      "\n",
      "           0       0.76      0.88      0.81     15062\n",
      "           1       0.64      0.42      0.51      7386\n",
      "\n",
      "   micro avg       0.73      0.73      0.73     22448\n",
      "   macro avg       0.70      0.65      0.66     22448\n",
      "weighted avg       0.72      0.73      0.71     22448\n",
      "\n",
      "\n",
      " Confusion Matrix:\n",
      "[[13297  1765]\n",
      " [ 4273  3113]]\n"
     ]
    },
    {
     "data": {
      "image/png": "[encoded data removed]",
      "text/plain": [
       "<matplotlib.figure.Figure at 0x172ca69e8>"
      ]
     },
     "metadata": {},
     "output_type": "display_data"
    }
   ],
   "source": [
    "## MELHOR MODELO ATE ENTAO - 24/09\n",
    "\n",
    "# COm as novas features deu overfitting. Pensar em como resolver \n",
    "\n",
    "## Confusion matrix \n",
    "# [[13320  1742]\n",
    "# [ 4138  3248]]\n",
    "\n",
    "from sklearn.model_selection import GridSearchCV\n",
    "from sklearn.ensemble import GradientBoostingClassifier\n",
    "\n",
    "print(X_train.shape)\n",
    "\n",
    "# param_test1 = {'n_estimators':range(20,250,10)}\n",
    "param_test1 = {'n_estimators': [250, 500, 700, 1000, 1300, 1500, 1800, 2000, 2500]}\n",
    "gsearch1 = GridSearchCV(estimator = GradientBoostingClassifier(learning_rate=0.1, \n",
    "                                                               min_samples_split=5,\n",
    "                                                               min_samples_leaf=50,\n",
    "                                                               max_leaf_nodes=4, \n",
    "                                                               max_depth=5,\n",
    "                                                               max_features=2,\n",
    "                                                               random_state=10),\n",
    "                        param_grid = param_test1, \n",
    "                        scoring='roc_auc',\n",
    "                        n_jobs=-1,\n",
    "                        iid=False, \n",
    "                        cv=5, \n",
    "                       verbose=4)\n",
    "\n",
    "gsearch1.fit(X_train,y_train)\n",
    "\n",
    "\n",
    "print('Predict ...')\n",
    "y_pred = gsearch1.predict(X_test)\n",
    "\n",
    "print('Best params: {0} - Best score: {1}'.format(gsearch1.best_params_, gsearch1.best_score_))\n",
    "\n",
    "# Verificaar os resultados obtidos\n",
    "print('Accuracy: {}'.format(accuracy_score(y_test,y_pred)))\n",
    "print(\"\\n\")\n",
    "print('fbeta: {}'.format(fbeta_score(y_test, y_pred, beta=2)))\n",
    "print(\"\\n\")\n",
    "print(classification_report(y_test, y_pred))\n",
    "\n",
    "print(\"\\n Confusion Matrix:\")\n",
    "print(confusion_matrix(y_test, y_pred))\n",
    "\n",
    "#Plot the confusion matrix\n",
    "sns.set(font_scale=1.5)\n",
    "cm = confusion_matrix(y_pred, y_test)\n",
    "sns.heatmap(cm, annot=True, fmt='g')\n",
    "plt.show()\n",
    "\n"
   ]
  },
  {
   "cell_type": "code",
   "execution_count": 80,
   "metadata": {},
   "outputs": [
    {
     "name": "stdout",
     "output_type": "stream",
     "text": [
      "(52377, 86)\n",
      "Predict ...\n",
      "Best params: {'n_estimators': 250} - Best score: 0.7330646757164799\n",
      "Accuracy: 0.7218014967925873\n",
      "\n",
      "\n",
      "fbeta: 0.38674444212969855\n",
      "\n",
      "\n",
      "              precision    recall  f1-score   support\n",
      "\n",
      "           0       0.74      0.90      0.81     15062\n",
      "           1       0.64      0.35      0.45      7386\n",
      "\n",
      "   micro avg       0.72      0.72      0.72     22448\n",
      "   macro avg       0.69      0.63      0.63     22448\n",
      "weighted avg       0.71      0.72      0.70     22448\n",
      "\n",
      "\n",
      " Confusion Matrix:\n",
      "[[13604  1458]\n",
      " [ 4787  2599]]\n"
     ]
    },
    {
     "data": {
      "image/png": "[encoded data removed]",
      "text/plain": [
       "<matplotlib.figure.Figure at 0x2632a86d8>"
      ]
     },
     "metadata": {},
     "output_type": "display_data"
    }
   ],
   "source": [
    "## MELHOR MODELO ATE ENTAO - 24/09\n",
    "\n",
    "# COm as novas features deu overfitting. Pensar em como resolver \n",
    "\n",
    "## Confusion matrix \n",
    "# [[13320  1742]\n",
    "# [ 4138  3248]]\n",
    "\n",
    "from sklearn.ensemble import GradientBoostingClassifier\n",
    "\n",
    "print(X_train.shape)\n",
    "\n",
    "gbc_v1 = GradientBoostingClassifier(learning_rate=0.1, \n",
    "                                      min_samples_split=5,\n",
    "                                      min_samples_leaf=50,\n",
    "                                      max_leaf_nodes=4, \n",
    "                                      max_depth=5,\n",
    "                                      max_features=2,\n",
    "                                      random_state=10, \n",
    "                                      n_estimators=1000)\n",
    "\n",
    "gbc_v1.fit(X_train,y_train)\n",
    "\n",
    "\n",
    "print('Predict ...')\n",
    "y_pred = gbc_v1.predict(X_test)\n",
    "\n",
    "print('Best params: {0} - Best score: {1}'.format(gsearch1.best_params_, gsearch1.best_score_))\n",
    "\n",
    "# Verificaar os resultados obtidos\n",
    "print('Accuracy: {}'.format(accuracy_score(y_test,y_pred)))\n",
    "print(\"\\n\")\n",
    "print('fbeta: {}'.format(fbeta_score(y_test, y_pred, beta=2)))\n",
    "print(\"\\n\")\n",
    "print(classification_report(y_test, y_pred))\n",
    "\n",
    "print(\"\\n Confusion Matrix:\")\n",
    "print(confusion_matrix(y_test, y_pred))\n",
    "\n",
    "#Plot the confusion matrix\n",
    "sns.set(font_scale=1.5)\n",
    "cm = confusion_matrix(y_pred, y_test)\n",
    "sns.heatmap(cm, annot=True, fmt='g')\n",
    "plt.show()\n",
    "\n"
   ]
  },
  {
   "cell_type": "code",
   "execution_count": 105,
   "metadata": {
    "collapsed": true
   },
   "outputs": [],
   "source": [
    "df_resultado = pd.DataFrame()\n",
    "\n",
    "\n",
    "\n",
    "df_resultado['SK_ID_CURR'] = df_test['SK_ID_CURR']\n",
    "test_predict = test_corrs_removed.drop('SK_ID_CURR', axis=1)\n",
    "\n",
    "# test_predict.head()\n",
    "\n",
    "df_resultado['TARGET'] = gsearch1.predict(test_predict)\n",
    "\n",
    "df_resultado.to_csv('resultado_14_gridsearch1.csv', index=False)"
   ]
  },
  {
   "cell_type": "code",
   "execution_count": 92,
   "metadata": {},
   "outputs": [
    {
     "name": "stdout",
     "output_type": "stream",
     "text": [
      "(52377, 86)\n",
      "(22448, 86)\n",
      "(307511, 88)\n",
      "(48744, 86)\n"
     ]
    }
   ],
   "source": [
    "print(X_train.shape)\n",
    "print(X_test.shape)\n",
    "print(train_corrs_removed.shape)\n",
    "print(test_corrs_removed.shape)"
   ]
  },
  {
   "cell_type": "code",
   "execution_count": 91,
   "metadata": {},
   "outputs": [
    {
     "data": {
      "text/plain": [
       "0    100001\n",
       "1    100005\n",
       "2    100013\n",
       "3    100028\n",
       "4    100038\n",
       "Name: SK_ID_CURR, dtype: int64"
      ]
     },
     "execution_count": 91,
     "metadata": {},
     "output_type": "execute_result"
    }
   ],
   "source": [
    "test_corrs_removed['SK_ID_CURR'].head()"
   ]
  },
  {
   "cell_type": "code",
   "execution_count": null,
   "metadata": {
    "collapsed": true
   },
   "outputs": [],
   "source": []
  }
 ],
 "metadata": {
  "kernelspec": {
   "display_name": "Python 3",
   "language": "python",
   "name": "python3"
  },
  "language_info": {
   "codemirror_mode": {
    "name": "ipython",
    "version": 3
   },
   "file_extension": ".py",
   "mimetype": "text/x-python",
   "name": "python",
   "nbconvert_exporter": "python",
   "pygments_lexer": "ipython3",
   "version": "3.6.3"
  }
 },
 "nbformat": 4,
 "nbformat_minor": 2
}
