{
 "cells": [
  {
   "cell_type": "markdown",
   "metadata": {},
   "source": [
    "# Home Credit Default Risk\n",
    "\n",
    "1. Introdução | Overview\n",
    "2. Descrição dos dados | Data Description\n",
    "3. Carregando os dados | Load data\n",
    "4. Análise Exploratória | Data Exploration \n",
    "\n",
    "    4.1 Empréstimos - dados de treinamento | Loan - train data set\n",
    "        4.1.1 Distribuição da variavel Target | Target Distribuction \n",
    "        4.1.2 Analise dos empréstimos | Loan analysis\n",
    "    4.2 Analise do histórico de crédito | Todo \n",
    "        4.2.1 Crédito anteriores fornecidos por outras instituições | Todo \n",
    "        4.2.2 Crédito anteriores na Credit Bureau | Todo \n",
    "        4.2.3 Histórico mensal de emprestimo na Home Credit | Todo \n",
    "        4.2.4 Histórico mensal no cartão de crédito na Home Credit | Todo \n",
    "        4.2.5 Solicitações de crédito anteriores na Home Credit | Todo \n",
    "        4.2.6 Histórico de amortização na Home Credit | Todo \n",
    "    4.3 Todo\n",
    "5. Correlação | Correlation\n",
    "6. Feature Selection with Random Forest\n",
    "7. ...\n",
    "\n",
    "## 1. Introdução | Overview\n",
    "\n",
    "Many people struggle to get loans due to insufficient or non-existent credit histories. And, unfortunately, this population is often taken advantage of by untrustworthy lenders.\n",
    "\n",
    "[Home Credit Group](http://www.homecredit.net/) strives to broaden financial inclusion for the unbanked population by providing a positive and safe borrowing experience. In order to make sure this underserved population has a positive loan experience, Home Credit makes use of a variety of alternative data--including telco and transactional information--to predict their clients' repayment abilities.\n",
    "\n",
    "While Home Credit is currently using various statistical and machine learning methods to make these predictions, they're challenging Kagglers to help them unlock the full potential of their data. Doing so will ensure that clients capable of repayment are not rejected and that loans are given with a principal, maturity, and repayment calendar that will empower their clients to be successful.\n",
    "\n",
    "\n",
    "## 2. Descrição dos Dados | Data Description\n",
    "\n",
    "\n",
    "* application_{train|test}.csv\n",
    "\n",
    "    * This is the main table, broken into two files for Train (with TARGET) and Test (without TARGET).\n",
    "    * Static data for all applications. One row represents one loan in our data sample.\n",
    "\n",
    "* bureau.csv\n",
    "\n",
    "    * All client's previous credits provided by other financial institutions that were reported to Credit Bureau (for clients who have a loan in our sample).\n",
    "    * For every loan in our sample, there are as many rows as number of credits the client had in Credit Bureau before the application date.\n",
    "\n",
    "* bureau_balance.csv\n",
    "\n",
    "    * Monthly balances of previous credits in Credit Bureau.\n",
    "    * This table has one row for each month of history of every previous credit reported to Credit Bureau – i.e the table has (#loans in sample * # of relative previous credits * # of months where we have some history observable for the previous credits) rows.\n",
    "\n",
    "* POS_CASH_balance.csv\n",
    "\n",
    "Monthly balance snapshots of previous POS (point of sales) and cash loans that the applicant had with Home Credit.\n",
    "This table has one row for each month of history of every previous credit in Home Credit (consumer credit and cash loans) related to loans in our sample – i.e. the table has (#loans in sample * # of relative previous credits * # of months in which we have some history observable for the previous credits) rows.\n",
    "credit_card_balance.csv\n",
    "\n",
    "Monthly balance snapshots of previous credit cards that the applicant has with Home Credit.\n",
    "This table has one row for each month of history of every previous credit in Home Credit (consumer credit and cash loans) related to loans in our sample – i.e. the table has (#loans in sample * # of relative previous credit cards * # of months where we have some history observable for the previous credit card) rows.\n",
    "previous_application.csv\n",
    "\n",
    "All previous applications for Home Credit loans of clients who have loans in our sample.\n",
    "There is one row for each previous application related to loans in our data sample.\n",
    "installments_payments.csv\n",
    "\n",
    "Repayment history for the previously disbursed credits in Home Credit related to the loans in our sample.\n",
    "There is a) one row for every payment that was made plus b) one row each for missed payment.\n",
    "One row is equivalent to one payment of one installment OR one installment corresponding to one payment of one previous Home Credit credit related to loans in our sample.\n",
    "HomeCredit_columns_description.csv\n",
    "\n",
    "This file contains descriptions for the columns in the various data files.\n",
    "\n",
    "![teste](home_credit.png)"
   ]
  },
  {
   "cell_type": "code",
   "execution_count": 101,
   "metadata": {},
   "outputs": [
    {
     "data": {
      "text/html": [
       "<script>requirejs.config({paths: { 'plotly': ['https://cdn.plot.ly/plotly-latest.min']},});if(!window.Plotly) {{require(['plotly'],function(plotly) {window.Plotly=plotly;});}}</script>"
      ],
      "text/vnd.plotly.v1+html": [
       "<script>requirejs.config({paths: { 'plotly': ['https://cdn.plot.ly/plotly-latest.min']},});if(!window.Plotly) {{require(['plotly'],function(plotly) {window.Plotly=plotly;});}}</script>"
      ]
     },
     "metadata": {},
     "output_type": "display_data"
    },
    {
     "data": {
      "text/html": [
       "<script>requirejs.config({paths: { 'plotly': ['https://cdn.plot.ly/plotly-latest.min']},});if(!window.Plotly) {{require(['plotly'],function(plotly) {window.Plotly=plotly;});}}</script>"
      ],
      "text/vnd.plotly.v1+html": [
       "<script>requirejs.config({paths: { 'plotly': ['https://cdn.plot.ly/plotly-latest.min']},});if(!window.Plotly) {{require(['plotly'],function(plotly) {window.Plotly=plotly;});}}</script>"
      ]
     },
     "metadata": {},
     "output_type": "display_data"
    },
    {
     "name": "stderr",
     "output_type": "stream",
     "text": [
      "IOPub data rate exceeded.\n",
      "The notebook server will temporarily stop sending output\n",
      "to the client in order to avoid crashing it.\n",
      "To change this limit, set the config variable\n",
      "`--NotebookApp.iopub_data_rate_limit`.\n"
     ]
    }
   ],
   "source": [
    "import time\n",
    "import pandas as pd\n",
    "import numpy as np\n",
    "\n",
    "# DataViz\n",
    "import matplotlib\n",
    "import matplotlib.pyplot as plt\n",
    "import seaborn as sns\n",
    "\n",
    "import plotly.offline as py\n",
    "py.init_notebook_mode(connected=True)\n",
    "from plotly.offline import init_notebook_mode, iplot\n",
    "init_notebook_mode(connected=True)\n",
    "import plotly.graph_objs as go\n",
    "import plotly.offline as offline\n",
    "offline.init_notebook_mode()\n",
    "\n",
    "# import cufflinks and offline mode\n",
    "import cufflinks as cf\n",
    "cf.go_offline()\n",
    "\n",
    "%matplotlib inline\n",
    "plt.style.use('ggplot')"
   ]
  },
  {
   "cell_type": "markdown",
   "metadata": {},
   "source": [
    "### 3. Carregando os dados | Load Data"
   ]
  },
  {
   "cell_type": "code",
   "execution_count": 4,
   "metadata": {},
   "outputs": [
    {
     "name": "stdout",
     "output_type": "stream",
     "text": [
      "Train and test tables loaded.\n",
      "Bureau data loaded.\n",
      "Previous applications data loaded.\n",
      "Credit card balance loaded.\n",
      "POS cash balance loaded.\n",
      "Installments data loaded.\n",
      "Time it took to load all the data: 57.3358s\n",
      "\n"
     ]
    }
   ],
   "source": [
    "def load_data(data_src):\n",
    "    \n",
    "    start_time = time.time()\n",
    "    \n",
    "    train = pd.read_csv('{}application_train.csv'.format(data_src))\n",
    "    test = pd.read_csv('{}application_test.csv'.format(data_src))\n",
    "    print('Train and test tables loaded.')\n",
    "    \n",
    "    bureau = pd.read_csv('{}bureau.csv'.format(data_src))\n",
    "    bureau_bal = pd.read_csv('{}bureau_balance.csv'.format(data_src))\n",
    "    print('Bureau data loaded.')\n",
    "    \n",
    "    prev = pd.read_csv('{}previous_application.csv'.format(data_src))\n",
    "    print('Previous applications data loaded.')\n",
    "    \n",
    "    cred_card_bal = pd.read_csv('{}credit_card_balance.csv'.format(data_src))\n",
    "    print('Credit card balance loaded.')\n",
    "    \n",
    "    pos_cash_bal = pd.read_csv('{}POS_CASH_balance.csv'.format(data_src))\n",
    "    print('POS cash balance loaded.')\n",
    "    \n",
    "    ins = pd.read_csv('{}installments_payments.csv'.format(data_src))\n",
    "    print('Installments data loaded.')\n",
    "    \n",
    "    # error if using engine c - 'utf-8' codec can't decode byte 0x85\n",
    "    data_description = pd.read_csv('{}HomeCredit_columns_description.csv'.format(data_src), engine='python')\n",
    "    \n",
    "    print('Time it took to load all the data: {:.4f}s\\n'.format(time.time() - start_time))\n",
    "    \n",
    "    return train, test, bureau, bureau_bal, prev, cred_card_bal, pos_cash_bal, ins, data_description\n",
    "\n",
    "train, test, bureau, bureau_bal, prev, cred_card_bal, pos_cash_bal, ins, data_description = load_data('data/all/')"
   ]
  },
  {
   "cell_type": "markdown",
   "metadata": {},
   "source": [
    "**Table Description**"
   ]
  },
  {
   "cell_type": "code",
   "execution_count": 237,
   "metadata": {},
   "outputs": [
    {
     "data": {
      "text/html": [
       "<div>\n",
       "<style>\n",
       "    .dataframe thead tr:only-child th {\n",
       "        text-align: right;\n",
       "    }\n",
       "\n",
       "    .dataframe thead th {\n",
       "        text-align: left;\n",
       "    }\n",
       "\n",
       "    .dataframe tbody tr th {\n",
       "        vertical-align: top;\n",
       "    }\n",
       "</style>\n",
       "<table border=\"1\" class=\"dataframe\">\n",
       "  <thead>\n",
       "    <tr style=\"text-align: right;\">\n",
       "      <th></th>\n",
       "      <th>Row</th>\n",
       "      <th>Description</th>\n",
       "      <th>Special</th>\n",
       "    </tr>\n",
       "  </thead>\n",
       "  <tbody>\n",
       "    <tr>\n",
       "      <th>0</th>\n",
       "      <td>SK_ID_CURR</td>\n",
       "      <td>ID of loan in our sample</td>\n",
       "      <td>NaN</td>\n",
       "    </tr>\n",
       "    <tr>\n",
       "      <th>1</th>\n",
       "      <td>TARGET</td>\n",
       "      <td>Target variable (1 - client with payment diffi...</td>\n",
       "      <td>NaN</td>\n",
       "    </tr>\n",
       "    <tr>\n",
       "      <th>2</th>\n",
       "      <td>NAME_CONTRACT_TYPE</td>\n",
       "      <td>Identification if loan is cash or revolving</td>\n",
       "      <td>NaN</td>\n",
       "    </tr>\n",
       "    <tr>\n",
       "      <th>3</th>\n",
       "      <td>CODE_GENDER</td>\n",
       "      <td>Gender of the client</td>\n",
       "      <td>NaN</td>\n",
       "    </tr>\n",
       "    <tr>\n",
       "      <th>4</th>\n",
       "      <td>FLAG_OWN_CAR</td>\n",
       "      <td>Flag if the client owns a car</td>\n",
       "      <td>NaN</td>\n",
       "    </tr>\n",
       "    <tr>\n",
       "      <th>5</th>\n",
       "      <td>FLAG_OWN_REALTY</td>\n",
       "      <td>Flag if client owns a house or flat</td>\n",
       "      <td>NaN</td>\n",
       "    </tr>\n",
       "    <tr>\n",
       "      <th>6</th>\n",
       "      <td>CNT_CHILDREN</td>\n",
       "      <td>Number of children the client has</td>\n",
       "      <td>NaN</td>\n",
       "    </tr>\n",
       "    <tr>\n",
       "      <th>7</th>\n",
       "      <td>AMT_INCOME_TOTAL</td>\n",
       "      <td>Income of the client</td>\n",
       "      <td>NaN</td>\n",
       "    </tr>\n",
       "    <tr>\n",
       "      <th>8</th>\n",
       "      <td>AMT_CREDIT</td>\n",
       "      <td>Credit amount of the loan</td>\n",
       "      <td>NaN</td>\n",
       "    </tr>\n",
       "    <tr>\n",
       "      <th>9</th>\n",
       "      <td>AMT_ANNUITY</td>\n",
       "      <td>Loan annuity</td>\n",
       "      <td>NaN</td>\n",
       "    </tr>\n",
       "  </tbody>\n",
       "</table>\n",
       "</div>"
      ],
      "text/plain": [
       "                  Row                                        Description  \\\n",
       "0          SK_ID_CURR                           ID of loan in our sample   \n",
       "1              TARGET  Target variable (1 - client with payment diffi...   \n",
       "2  NAME_CONTRACT_TYPE        Identification if loan is cash or revolving   \n",
       "3         CODE_GENDER                               Gender of the client   \n",
       "4        FLAG_OWN_CAR                      Flag if the client owns a car   \n",
       "5     FLAG_OWN_REALTY                Flag if client owns a house or flat   \n",
       "6        CNT_CHILDREN                  Number of children the client has   \n",
       "7    AMT_INCOME_TOTAL                               Income of the client   \n",
       "8          AMT_CREDIT                          Credit amount of the loan   \n",
       "9         AMT_ANNUITY                                       Loan annuity   \n",
       "\n",
       "  Special  \n",
       "0     NaN  \n",
       "1     NaN  \n",
       "2     NaN  \n",
       "3     NaN  \n",
       "4     NaN  \n",
       "5     NaN  \n",
       "6     NaN  \n",
       "7     NaN  \n",
       "8     NaN  \n",
       "9     NaN  "
      ]
     },
     "execution_count": 237,
     "metadata": {},
     "output_type": "execute_result"
    }
   ],
   "source": [
    "# Data Description \n",
    "\n",
    "train_desc =  data_description[data_description['Table'] == 'application_{train|test}.csv']\n",
    "train_desc[['Row', 'Description', 'Special']].head(10)"
   ]
  },
  {
   "cell_type": "code",
   "execution_count": 250,
   "metadata": {},
   "outputs": [
    {
     "name": "stdout",
     "output_type": "stream",
     "text": [
      "NAME_CONTRACT_TYPE: ['Identification if loan is cash or revolving']\n",
      "TARGET: [ 'Target variable (1 - client with payment difficulties: he/she had late payment more than X days on at least one of the first Y installments of the loan in our sample, 0 - all other cases)']\n"
     ]
    }
   ],
   "source": [
    "# Column detail\n",
    "def print_col_description(col_name):\n",
    "    return(train_desc[train_desc['Row'] == col_name]['Description'].values)\n",
    "\n",
    "print('NAME_CONTRACT_TYPE: {}'.format(print_col_description('NAME_CONTRACT_TYPE')))\n",
    "print('TARGET: {}'.format(print_col_description('TARGET')))"
   ]
  },
  {
   "cell_type": "markdown",
   "metadata": {},
   "source": [
    "## 4. Analise Exploratória | Data Exploration\n",
    "\n",
    "### 4.1 Empréstimos - dados de treino\n",
    "\n",
    "#### 4.1.1 Distribuição da variável Target | Target Distribuction "
   ]
  },
  {
   "cell_type": "code",
   "execution_count": 255,
   "metadata": {},
   "outputs": [
    {
     "name": "stdout",
     "output_type": "stream",
     "text": [
      "8.7818% dos contratos não são pagos. \n",
      "\n"
     ]
    },
    {
     "data": {
      "image/png": "[encoded data removed]",
      "text/plain": [
       "<matplotlib.figure.Figure at 0x1a3c7b8b70>"
      ]
     },
     "metadata": {},
     "output_type": "display_data"
    }
   ],
   "source": [
    "target_dist = train['TARGET'].value_counts()\n",
    "proporcao = target_dist.iloc[1]/target_dist.iloc[0]*100\n",
    "\n",
    "print('{:.4f}% dos contratos não são pagos. \\n'.format(proporcao))\n",
    "\n",
    "plt.figure(figsize=(5,4))\n",
    "plt.title = 'Distribuição normalizada - TARGET' # Todo: Pq não está aparecendo?\n",
    "plt.hist(x=train['TARGET'], normed=True)\n",
    "plt.show()"
   ]
  },
  {
   "cell_type": "markdown",
   "metadata": {},
   "source": [
    "#### 4.1.2 Analise dos empréstimos | Loan analysis"
   ]
  },
  {
   "cell_type": "code",
   "execution_count": 67,
   "metadata": {},
   "outputs": [
    {
     "data": {
      "application/vnd.plotly.v1+json": {
       "data": [
        {
         "marker": {
          "color": "rgba(219, 64, 82, 0.6)",
          "line": {
           "color": "rgba(219, 64, 82, 1.0)",
           "width": 1
          }
         },
         "name": "ORGANIZATION_TYPE",
         "orientation": "v",
         "text": "",
         "type": "bar",
         "x": [
          "Business Entity Type 3",
          "XNA",
          "Self-employed",
          "Other",
          "Medicine",
          "Business Entity Type 2",
          "Government",
          "School",
          "Trade: type 7",
          "Kindergarten",
          "Construction",
          "Business Entity Type 1",
          "Transport: type 4",
          "Trade: type 3",
          "Industry: type 9",
          "Industry: type 3",
          "Security",
          "Housing",
          "Industry: type 11",
          "Military",
          "Bank",
          "Agriculture",
          "Police",
          "Transport: type 2",
          "Postal",
          "Security Ministries",
          "Trade: type 2",
          "Restaurant",
          "Services",
          "University",
          "Industry: type 7",
          "Transport: type 3",
          "Industry: type 1",
          "Hotel",
          "Electricity",
          "Industry: type 4",
          "Trade: type 6",
          "Industry: type 5",
          "Insurance",
          "Telecom",
          "Emergency",
          "Industry: type 2",
          "Advertising",
          "Realtor",
          "Culture",
          "Industry: type 12",
          "Trade: type 1",
          "Mobile",
          "Legal Services",
          "Cleaning",
          "Transport: type 1",
          "Industry: type 6",
          "Industry: type 10",
          "Religion",
          "Industry: type 13",
          "Trade: type 4",
          "Trade: type 5",
          "Industry: type 8"
         ],
         "y": [
          67992,
          55374,
          38412,
          16683,
          11193,
          10553,
          10404,
          8893,
          7831,
          6880,
          6721,
          5984,
          5398,
          3492,
          3368,
          3278,
          3247,
          2958,
          2704,
          2634,
          2507,
          2454,
          2341,
          2204,
          2157,
          1974,
          1900,
          1811,
          1575,
          1327,
          1307,
          1187,
          1039,
          966,
          950,
          877,
          631,
          599,
          597,
          577,
          560,
          458,
          429,
          396,
          379,
          369,
          348,
          317,
          305,
          260,
          201,
          112,
          109,
          85,
          67,
          64,
          49,
          24
         ]
        }
       ],
       "layout": {
        "legend": {
         "bgcolor": "#F5F6F9",
         "font": {
          "color": "#4D5663"
         }
        },
        "paper_bgcolor": "#F5F6F9",
        "plot_bgcolor": "#F5F6F9",
        "title": "Types of Organizations who applied for loan ",
        "titlefont": {
         "color": "#4D5663"
        },
        "xaxis1": {
         "gridcolor": "#E1E5ED",
         "showgrid": true,
         "tickfont": {
          "color": "#4D5663"
         },
         "title": "Organization Name",
         "titlefont": {
          "color": "#4D5663"
         },
         "zerolinecolor": "#E1E5ED"
        },
        "yaxis1": {
         "gridcolor": "#E1E5ED",
         "showgrid": true,
         "tickfont": {
          "color": "#4D5663"
         },
         "title": "Count",
         "titlefont": {
          "color": "#4D5663"
         },
         "zerolinecolor": "#E1E5ED"
        }
       }
      },
      "text/html": [
       "<div id=\"22c8e1cb-9bec-4828-88ae-d2672a4d3d34\" style=\"height: 525px; width: 100%;\" class=\"plotly-graph-div\"></div><script type=\"text/javascript\">require([\"plotly\"], function(Plotly) { window.PLOTLYENV=window.PLOTLYENV || {};window.PLOTLYENV.BASE_URL=\"https://plot.ly\";Plotly.newPlot(\"22c8e1cb-9bec-4828-88ae-d2672a4d3d34\", [{\"type\": \"bar\", \"x\": [\"Business Entity Type 3\", \"XNA\", \"Self-employed\", \"Other\", \"Medicine\", \"Business Entity Type 2\", \"Government\", \"School\", \"Trade: type 7\", \"Kindergarten\", \"Construction\", \"Business Entity Type 1\", \"Transport: type 4\", \"Trade: type 3\", \"Industry: type 9\", \"Industry: type 3\", \"Security\", \"Housing\", \"Industry: type 11\", \"Military\", \"Bank\", \"Agriculture\", \"Police\", \"Transport: type 2\", \"Postal\", \"Security Ministries\", \"Trade: type 2\", \"Restaurant\", \"Services\", \"University\", \"Industry: type 7\", \"Transport: type 3\", \"Industry: type 1\", \"Hotel\", \"Electricity\", \"Industry: type 4\", \"Trade: type 6\", \"Industry: type 5\", \"Insurance\", \"Telecom\", \"Emergency\", \"Industry: type 2\", \"Advertising\", \"Realtor\", \"Culture\", \"Industry: type 12\", \"Trade: type 1\", \"Mobile\", \"Legal Services\", \"Cleaning\", \"Transport: type 1\", \"Industry: type 6\", \"Industry: type 10\", \"Religion\", \"Industry: type 13\", \"Trade: type 4\", \"Trade: type 5\", \"Industry: type 8\"], \"y\": [67992, 55374, 38412, 16683, 11193, 10553, 10404, 8893, 7831, 6880, 6721, 5984, 5398, 3492, 3368, 3278, 3247, 2958, 2704, 2634, 2507, 2454, 2341, 2204, 2157, 1974, 1900, 1811, 1575, 1327, 1307, 1187, 1039, 966, 950, 877, 631, 599, 597, 577, 560, 458, 429, 396, 379, 369, 348, 317, 305, 260, 201, 112, 109, 85, 67, 64, 49, 24], \"name\": \"ORGANIZATION_TYPE\", \"text\": \"\", \"marker\": {\"color\": \"rgba(219, 64, 82, 0.6)\", \"line\": {\"color\": \"rgba(219, 64, 82, 1.0)\", \"width\": 1}}, \"orientation\": \"v\"}], {\"legend\": {\"bgcolor\": \"#F5F6F9\", \"font\": {\"color\": \"#4D5663\"}}, \"paper_bgcolor\": \"#F5F6F9\", \"plot_bgcolor\": \"#F5F6F9\", \"yaxis1\": {\"tickfont\": {\"color\": \"#4D5663\"}, \"gridcolor\": \"#E1E5ED\", \"titlefont\": {\"color\": \"#4D5663\"}, \"zerolinecolor\": \"#E1E5ED\", \"showgrid\": true, \"title\": \"Count\"}, \"xaxis1\": {\"tickfont\": {\"color\": \"#4D5663\"}, \"gridcolor\": \"#E1E5ED\", \"titlefont\": {\"color\": \"#4D5663\"}, \"zerolinecolor\": \"#E1E5ED\", \"showgrid\": true, \"title\": \"Organization Name\"}, \"titlefont\": {\"color\": \"#4D5663\"}, \"title\": \"Types of Organizations who applied for loan \"}, {\"showLink\": true, \"linkText\": \"Export to plot.ly\"})});</script>"
      ],
      "text/vnd.plotly.v1+html": [
       "<div id=\"22c8e1cb-9bec-4828-88ae-d2672a4d3d34\" style=\"height: 525px; width: 100%;\" class=\"plotly-graph-div\"></div><script type=\"text/javascript\">require([\"plotly\"], function(Plotly) { window.PLOTLYENV=window.PLOTLYENV || {};window.PLOTLYENV.BASE_URL=\"https://plot.ly\";Plotly.newPlot(\"22c8e1cb-9bec-4828-88ae-d2672a4d3d34\", [{\"type\": \"bar\", \"x\": [\"Business Entity Type 3\", \"XNA\", \"Self-employed\", \"Other\", \"Medicine\", \"Business Entity Type 2\", \"Government\", \"School\", \"Trade: type 7\", \"Kindergarten\", \"Construction\", \"Business Entity Type 1\", \"Transport: type 4\", \"Trade: type 3\", \"Industry: type 9\", \"Industry: type 3\", \"Security\", \"Housing\", \"Industry: type 11\", \"Military\", \"Bank\", \"Agriculture\", \"Police\", \"Transport: type 2\", \"Postal\", \"Security Ministries\", \"Trade: type 2\", \"Restaurant\", \"Services\", \"University\", \"Industry: type 7\", \"Transport: type 3\", \"Industry: type 1\", \"Hotel\", \"Electricity\", \"Industry: type 4\", \"Trade: type 6\", \"Industry: type 5\", \"Insurance\", \"Telecom\", \"Emergency\", \"Industry: type 2\", \"Advertising\", \"Realtor\", \"Culture\", \"Industry: type 12\", \"Trade: type 1\", \"Mobile\", \"Legal Services\", \"Cleaning\", \"Transport: type 1\", \"Industry: type 6\", \"Industry: type 10\", \"Religion\", \"Industry: type 13\", \"Trade: type 4\", \"Trade: type 5\", \"Industry: type 8\"], \"y\": [67992, 55374, 38412, 16683, 11193, 10553, 10404, 8893, 7831, 6880, 6721, 5984, 5398, 3492, 3368, 3278, 3247, 2958, 2704, 2634, 2507, 2454, 2341, 2204, 2157, 1974, 1900, 1811, 1575, 1327, 1307, 1187, 1039, 966, 950, 877, 631, 599, 597, 577, 560, 458, 429, 396, 379, 369, 348, 317, 305, 260, 201, 112, 109, 85, 67, 64, 49, 24], \"name\": \"ORGANIZATION_TYPE\", \"text\": \"\", \"marker\": {\"color\": \"rgba(219, 64, 82, 0.6)\", \"line\": {\"color\": \"rgba(219, 64, 82, 1.0)\", \"width\": 1}}, \"orientation\": \"v\"}], {\"legend\": {\"bgcolor\": \"#F5F6F9\", \"font\": {\"color\": \"#4D5663\"}}, \"paper_bgcolor\": \"#F5F6F9\", \"plot_bgcolor\": \"#F5F6F9\", \"yaxis1\": {\"tickfont\": {\"color\": \"#4D5663\"}, \"gridcolor\": \"#E1E5ED\", \"titlefont\": {\"color\": \"#4D5663\"}, \"zerolinecolor\": \"#E1E5ED\", \"showgrid\": true, \"title\": \"Count\"}, \"xaxis1\": {\"tickfont\": {\"color\": \"#4D5663\"}, \"gridcolor\": \"#E1E5ED\", \"titlefont\": {\"color\": \"#4D5663\"}, \"zerolinecolor\": \"#E1E5ED\", \"showgrid\": true, \"title\": \"Organization Name\"}, \"titlefont\": {\"color\": \"#4D5663\"}, \"title\": \"Types of Organizations who applied for loan \"}, {\"showLink\": true, \"linkText\": \"Export to plot.ly\"})});</script>"
      ]
     },
     "metadata": {},
     "output_type": "display_data"
    }
   ],
   "source": [
    "temp = train[\"ORGANIZATION_TYPE\"].value_counts()\n",
    "temp.iplot(kind='bar', xTitle = 'Organization Name', yTitle = \"Count\", \n",
    "           title = 'Types of Organizations who applied for loan ', color = 'red')"
   ]
  },
  {
   "cell_type": "code",
   "execution_count": 267,
   "metadata": {},
   "outputs": [],
   "source": [
    "# Criando o data set por Tipo de Organização\n",
    "\n",
    "def create_score_organization_type():\n",
    "\n",
    "    temp = pd.DataFrame(train.groupby(['ORGANIZATION_TYPE', 'TARGET']).size())\n",
    "    temp.reset_index(inplace=True)\n",
    "    temp.rename(columns = {0:'Qtde'}, inplace = True)\n",
    "\n",
    "    score_organization = pd.pivot_table(temp,index=['ORGANIZATION_TYPE'], columns=['TARGET'], \n",
    "                                        values=['Qtde'], aggfunc=[np.sum], fill_value=0, margins=True)\n",
    "    score_organization.reset_index(inplace=True)\n",
    "    score_organization.rename(columns={ 0:'good_credit', 1:'bad_credit'}, inplace=True)\n",
    "    score_organization = score_organization.sort_values(by=[('sum', 'Qtde', 'All')], ascending=False)[1:len(score_organization)]\n",
    "\n",
    "    return score_organization\n",
    "\n",
    "score_organization = create_score_organization_type()\n"
   ]
  },
  {
   "cell_type": "code",
   "execution_count": 268,
   "metadata": {},
   "outputs": [
    {
     "data": {
      "application/vnd.plotly.v1+json": {
       "data": [
        {
         "name": "Good",
         "type": "bar",
         "x": [
          "Business Entity Type 3",
          "XNA",
          "Self-employed",
          "Other",
          "Medicine",
          "Business Entity Type 2",
          "Government",
          "School",
          "Trade: type 7",
          "Kindergarten",
          "Construction",
          "Business Entity Type 1",
          "Transport: type 4",
          "Trade: type 3",
          "Industry: type 9",
          "Industry: type 3",
          "Security",
          "Housing",
          "Industry: type 11",
          "Military",
          "Bank",
          "Agriculture",
          "Police",
          "Transport: type 2",
          "Postal",
          "Security Ministries",
          "Trade: type 2",
          "Restaurant",
          "Services",
          "University",
          "Industry: type 7",
          "Transport: type 3",
          "Industry: type 1",
          "Hotel",
          "Electricity",
          "Industry: type 4",
          "Trade: type 6",
          "Industry: type 5",
          "Insurance",
          "Telecom",
          "Emergency",
          "Industry: type 2",
          "Advertising",
          "Realtor",
          "Culture",
          "Industry: type 12",
          "Trade: type 1",
          "Mobile",
          "Legal Services",
          "Cleaning",
          "Transport: type 1",
          "Industry: type 6",
          "Industry: type 10",
          "Religion",
          "Industry: type 13",
          "Trade: type 4",
          "Trade: type 5",
          "Industry: type 8"
         ],
         "y": [
          61669,
          52384,
          34504,
          15408,
          10456,
          9653,
          9678,
          8367,
          7091,
          6396,
          5936,
          5497,
          4897,
          3131,
          3143,
          2930,
          2923,
          2723,
          2470,
          2499,
          2377,
          2197,
          2224,
          2032,
          1975,
          1878,
          1767,
          1599,
          1471,
          1262,
          1202,
          1000,
          924,
          904,
          887,
          788,
          602,
          558,
          563,
          533,
          520,
          425,
          394,
          354,
          358,
          355,
          317,
          288,
          281,
          231,
          192,
          104,
          102,
          80,
          58,
          62,
          46,
          21
         ]
        },
        {
         "name": "Bad",
         "type": "bar",
         "x": [
          "Business Entity Type 3",
          "XNA",
          "Self-employed",
          "Other",
          "Medicine",
          "Business Entity Type 2",
          "Government",
          "School",
          "Trade: type 7",
          "Kindergarten",
          "Construction",
          "Business Entity Type 1",
          "Transport: type 4",
          "Trade: type 3",
          "Industry: type 9",
          "Industry: type 3",
          "Security",
          "Housing",
          "Industry: type 11",
          "Military",
          "Bank",
          "Agriculture",
          "Police",
          "Transport: type 2",
          "Postal",
          "Security Ministries",
          "Trade: type 2",
          "Restaurant",
          "Services",
          "University",
          "Industry: type 7",
          "Transport: type 3",
          "Industry: type 1",
          "Hotel",
          "Electricity",
          "Industry: type 4",
          "Trade: type 6",
          "Industry: type 5",
          "Insurance",
          "Telecom",
          "Emergency",
          "Industry: type 2",
          "Advertising",
          "Realtor",
          "Culture",
          "Industry: type 12",
          "Trade: type 1",
          "Mobile",
          "Legal Services",
          "Cleaning",
          "Transport: type 1",
          "Industry: type 6",
          "Industry: type 10",
          "Religion",
          "Industry: type 13",
          "Trade: type 4",
          "Trade: type 5",
          "Industry: type 8"
         ],
         "y": [
          6323,
          2990,
          3908,
          1275,
          737,
          900,
          726,
          526,
          740,
          484,
          785,
          487,
          501,
          361,
          225,
          348,
          324,
          235,
          234,
          135,
          130,
          257,
          117,
          172,
          182,
          96,
          133,
          212,
          104,
          65,
          105,
          187,
          115,
          62,
          63,
          89,
          29,
          41,
          34,
          44,
          40,
          33,
          35,
          42,
          21,
          14,
          31,
          29,
          24,
          29,
          9,
          8,
          7,
          5,
          9,
          2,
          3,
          3
         ]
        }
       ],
       "layout": {
        "barmode": "stack",
        "title": "Contratos por Tipo de Organização"
       }
      },
      "text/html": [
       "<div id=\"57c599e3-ab57-4651-9d8d-cc93f5de8907\" style=\"height: 525px; width: 100%;\" class=\"plotly-graph-div\"></div><script type=\"text/javascript\">require([\"plotly\"], function(Plotly) { window.PLOTLYENV=window.PLOTLYENV || {};window.PLOTLYENV.BASE_URL=\"https://plot.ly\";Plotly.newPlot(\"57c599e3-ab57-4651-9d8d-cc93f5de8907\", [{\"type\": \"bar\", \"x\": [\"Business Entity Type 3\", \"XNA\", \"Self-employed\", \"Other\", \"Medicine\", \"Business Entity Type 2\", \"Government\", \"School\", \"Trade: type 7\", \"Kindergarten\", \"Construction\", \"Business Entity Type 1\", \"Transport: type 4\", \"Trade: type 3\", \"Industry: type 9\", \"Industry: type 3\", \"Security\", \"Housing\", \"Industry: type 11\", \"Military\", \"Bank\", \"Agriculture\", \"Police\", \"Transport: type 2\", \"Postal\", \"Security Ministries\", \"Trade: type 2\", \"Restaurant\", \"Services\", \"University\", \"Industry: type 7\", \"Transport: type 3\", \"Industry: type 1\", \"Hotel\", \"Electricity\", \"Industry: type 4\", \"Trade: type 6\", \"Industry: type 5\", \"Insurance\", \"Telecom\", \"Emergency\", \"Industry: type 2\", \"Advertising\", \"Realtor\", \"Culture\", \"Industry: type 12\", \"Trade: type 1\", \"Mobile\", \"Legal Services\", \"Cleaning\", \"Transport: type 1\", \"Industry: type 6\", \"Industry: type 10\", \"Religion\", \"Industry: type 13\", \"Trade: type 4\", \"Trade: type 5\", \"Industry: type 8\"], \"y\": [61669.0, 52384.0, 34504.0, 15408.0, 10456.0, 9653.0, 9678.0, 8367.0, 7091.0, 6396.0, 5936.0, 5497.0, 4897.0, 3131.0, 3143.0, 2930.0, 2923.0, 2723.0, 2470.0, 2499.0, 2377.0, 2197.0, 2224.0, 2032.0, 1975.0, 1878.0, 1767.0, 1599.0, 1471.0, 1262.0, 1202.0, 1000.0, 924.0, 904.0, 887.0, 788.0, 602.0, 558.0, 563.0, 533.0, 520.0, 425.0, 394.0, 354.0, 358.0, 355.0, 317.0, 288.0, 281.0, 231.0, 192.0, 104.0, 102.0, 80.0, 58.0, 62.0, 46.0, 21.0], \"name\": \"Good\"}, {\"type\": \"bar\", \"x\": [\"Business Entity Type 3\", \"XNA\", \"Self-employed\", \"Other\", \"Medicine\", \"Business Entity Type 2\", \"Government\", \"School\", \"Trade: type 7\", \"Kindergarten\", \"Construction\", \"Business Entity Type 1\", \"Transport: type 4\", \"Trade: type 3\", \"Industry: type 9\", \"Industry: type 3\", \"Security\", \"Housing\", \"Industry: type 11\", \"Military\", \"Bank\", \"Agriculture\", \"Police\", \"Transport: type 2\", \"Postal\", \"Security Ministries\", \"Trade: type 2\", \"Restaurant\", \"Services\", \"University\", \"Industry: type 7\", \"Transport: type 3\", \"Industry: type 1\", \"Hotel\", \"Electricity\", \"Industry: type 4\", \"Trade: type 6\", \"Industry: type 5\", \"Insurance\", \"Telecom\", \"Emergency\", \"Industry: type 2\", \"Advertising\", \"Realtor\", \"Culture\", \"Industry: type 12\", \"Trade: type 1\", \"Mobile\", \"Legal Services\", \"Cleaning\", \"Transport: type 1\", \"Industry: type 6\", \"Industry: type 10\", \"Religion\", \"Industry: type 13\", \"Trade: type 4\", \"Trade: type 5\", \"Industry: type 8\"], \"y\": [6323.0, 2990.0, 3908.0, 1275.0, 737.0, 900.0, 726.0, 526.0, 740.0, 484.0, 785.0, 487.0, 501.0, 361.0, 225.0, 348.0, 324.0, 235.0, 234.0, 135.0, 130.0, 257.0, 117.0, 172.0, 182.0, 96.0, 133.0, 212.0, 104.0, 65.0, 105.0, 187.0, 115.0, 62.0, 63.0, 89.0, 29.0, 41.0, 34.0, 44.0, 40.0, 33.0, 35.0, 42.0, 21.0, 14.0, 31.0, 29.0, 24.0, 29.0, 9.0, 8.0, 7.0, 5.0, 9.0, 2.0, 3.0, 3.0], \"name\": \"Bad\"}], {\"barmode\": \"stack\", \"title\": \"Contratos por Tipo de Organiza\\u00e7\\u00e3o\"}, {\"showLink\": true, \"linkText\": \"Export to plot.ly\"})});</script>"
      ],
      "text/vnd.plotly.v1+html": [
       "<div id=\"57c599e3-ab57-4651-9d8d-cc93f5de8907\" style=\"height: 525px; width: 100%;\" class=\"plotly-graph-div\"></div><script type=\"text/javascript\">require([\"plotly\"], function(Plotly) { window.PLOTLYENV=window.PLOTLYENV || {};window.PLOTLYENV.BASE_URL=\"https://plot.ly\";Plotly.newPlot(\"57c599e3-ab57-4651-9d8d-cc93f5de8907\", [{\"type\": \"bar\", \"x\": [\"Business Entity Type 3\", \"XNA\", \"Self-employed\", \"Other\", \"Medicine\", \"Business Entity Type 2\", \"Government\", \"School\", \"Trade: type 7\", \"Kindergarten\", \"Construction\", \"Business Entity Type 1\", \"Transport: type 4\", \"Trade: type 3\", \"Industry: type 9\", \"Industry: type 3\", \"Security\", \"Housing\", \"Industry: type 11\", \"Military\", \"Bank\", \"Agriculture\", \"Police\", \"Transport: type 2\", \"Postal\", \"Security Ministries\", \"Trade: type 2\", \"Restaurant\", \"Services\", \"University\", \"Industry: type 7\", \"Transport: type 3\", \"Industry: type 1\", \"Hotel\", \"Electricity\", \"Industry: type 4\", \"Trade: type 6\", \"Industry: type 5\", \"Insurance\", \"Telecom\", \"Emergency\", \"Industry: type 2\", \"Advertising\", \"Realtor\", \"Culture\", \"Industry: type 12\", \"Trade: type 1\", \"Mobile\", \"Legal Services\", \"Cleaning\", \"Transport: type 1\", \"Industry: type 6\", \"Industry: type 10\", \"Religion\", \"Industry: type 13\", \"Trade: type 4\", \"Trade: type 5\", \"Industry: type 8\"], \"y\": [61669.0, 52384.0, 34504.0, 15408.0, 10456.0, 9653.0, 9678.0, 8367.0, 7091.0, 6396.0, 5936.0, 5497.0, 4897.0, 3131.0, 3143.0, 2930.0, 2923.0, 2723.0, 2470.0, 2499.0, 2377.0, 2197.0, 2224.0, 2032.0, 1975.0, 1878.0, 1767.0, 1599.0, 1471.0, 1262.0, 1202.0, 1000.0, 924.0, 904.0, 887.0, 788.0, 602.0, 558.0, 563.0, 533.0, 520.0, 425.0, 394.0, 354.0, 358.0, 355.0, 317.0, 288.0, 281.0, 231.0, 192.0, 104.0, 102.0, 80.0, 58.0, 62.0, 46.0, 21.0], \"name\": \"Good\"}, {\"type\": \"bar\", \"x\": [\"Business Entity Type 3\", \"XNA\", \"Self-employed\", \"Other\", \"Medicine\", \"Business Entity Type 2\", \"Government\", \"School\", \"Trade: type 7\", \"Kindergarten\", \"Construction\", \"Business Entity Type 1\", \"Transport: type 4\", \"Trade: type 3\", \"Industry: type 9\", \"Industry: type 3\", \"Security\", \"Housing\", \"Industry: type 11\", \"Military\", \"Bank\", \"Agriculture\", \"Police\", \"Transport: type 2\", \"Postal\", \"Security Ministries\", \"Trade: type 2\", \"Restaurant\", \"Services\", \"University\", \"Industry: type 7\", \"Transport: type 3\", \"Industry: type 1\", \"Hotel\", \"Electricity\", \"Industry: type 4\", \"Trade: type 6\", \"Industry: type 5\", \"Insurance\", \"Telecom\", \"Emergency\", \"Industry: type 2\", \"Advertising\", \"Realtor\", \"Culture\", \"Industry: type 12\", \"Trade: type 1\", \"Mobile\", \"Legal Services\", \"Cleaning\", \"Transport: type 1\", \"Industry: type 6\", \"Industry: type 10\", \"Religion\", \"Industry: type 13\", \"Trade: type 4\", \"Trade: type 5\", \"Industry: type 8\"], \"y\": [6323.0, 2990.0, 3908.0, 1275.0, 737.0, 900.0, 726.0, 526.0, 740.0, 484.0, 785.0, 487.0, 501.0, 361.0, 225.0, 348.0, 324.0, 235.0, 234.0, 135.0, 130.0, 257.0, 117.0, 172.0, 182.0, 96.0, 133.0, 212.0, 104.0, 65.0, 105.0, 187.0, 115.0, 62.0, 63.0, 89.0, 29.0, 41.0, 34.0, 44.0, 40.0, 33.0, 35.0, 42.0, 21.0, 14.0, 31.0, 29.0, 24.0, 29.0, 9.0, 8.0, 7.0, 5.0, 9.0, 2.0, 3.0, 3.0], \"name\": \"Bad\"}], {\"barmode\": \"stack\", \"title\": \"Contratos por Tipo de Organiza\\u00e7\\u00e3o\"}, {\"showLink\": true, \"linkText\": \"Export to plot.ly\"})});</script>"
      ]
     },
     "metadata": {},
     "output_type": "display_data"
    }
   ],
   "source": [
    "trace1 = go.Bar(\n",
    "    x = score_organization['ORGANIZATION_TYPE'],\n",
    "    y = score_organization[('sum', 'Qtde', 'good_credit')],\n",
    "    name = 'Good'\n",
    ")\n",
    "trace2 = go.Bar(\n",
    "    x = score_organization['ORGANIZATION_TYPE'],\n",
    "    y = score_organization[('sum', 'Qtde', 'bad_credit')],\n",
    "    name = 'Bad'\n",
    ")\n",
    "\n",
    "data = [trace1, trace2]\n",
    "layout = go.Layout(\n",
    "    barmode='stack', \n",
    "    title='Contratos por Tipo de Organização'\n",
    ")\n",
    "\n",
    "fig = go.Figure(data=data, layout=layout)\n",
    "py.iplot(fig, filename='stacked-bar')"
   ]
  },
  {
   "cell_type": "code",
   "execution_count": null,
   "metadata": {
    "collapsed": true
   },
   "outputs": [],
   "source": []
  },
  {
   "cell_type": "code",
   "execution_count": 251,
   "metadata": {},
   "outputs": [
    {
     "data": {
      "application/vnd.plotly.v1+json": {
       "data": [
        {
         "marker": {
          "color": "rgba(0, 128, 0, 0.6)",
          "line": {
           "color": "rgba(0, 128, 0, 1.0)",
           "width": 1
          }
         },
         "name": "OCCUPATION_TYPE",
         "orientation": "v",
         "text": "",
         "type": "bar",
         "x": [
          "Laborers",
          "Sales staff",
          "Core staff",
          "Managers",
          "Drivers",
          "High skill tech staff",
          "Accountants",
          "Medicine staff",
          "Security staff",
          "Cooking staff",
          "Cleaning staff",
          "Private service staff",
          "Low-skill Laborers",
          "Waiters/barmen staff",
          "Secretaries",
          "Realty agents",
          "HR staff",
          "IT staff"
         ],
         "y": [
          55186,
          32102,
          27570,
          21371,
          18603,
          11380,
          9813,
          8537,
          6721,
          5946,
          4653,
          2652,
          2093,
          1348,
          1305,
          751,
          563,
          526
         ]
        }
       ],
       "layout": {
        "legend": {
         "bgcolor": "#F5F6F9",
         "font": {
          "color": "#4D5663"
         }
        },
        "paper_bgcolor": "#F5F6F9",
        "plot_bgcolor": "#F5F6F9",
        "title": "Occupation of Applicant's who applied for loan",
        "titlefont": {
         "color": "#4D5663"
        },
        "xaxis1": {
         "gridcolor": "#E1E5ED",
         "showgrid": true,
         "tickfont": {
          "color": "#4D5663"
         },
         "title": "Occupation",
         "titlefont": {
          "color": "#4D5663"
         },
         "zerolinecolor": "#E1E5ED"
        },
        "yaxis1": {
         "gridcolor": "#E1E5ED",
         "showgrid": true,
         "tickfont": {
          "color": "#4D5663"
         },
         "title": "Count",
         "titlefont": {
          "color": "#4D5663"
         },
         "zerolinecolor": "#E1E5ED"
        }
       }
      },
      "text/html": [
       "<div id=\"69c4defa-c123-4b4d-a18d-dcf5abfe5cf6\" style=\"height: 525px; width: 100%;\" class=\"plotly-graph-div\"></div><script type=\"text/javascript\">require([\"plotly\"], function(Plotly) { window.PLOTLYENV=window.PLOTLYENV || {};window.PLOTLYENV.BASE_URL=\"https://plot.ly\";Plotly.newPlot(\"69c4defa-c123-4b4d-a18d-dcf5abfe5cf6\", [{\"type\": \"bar\", \"x\": [\"Laborers\", \"Sales staff\", \"Core staff\", \"Managers\", \"Drivers\", \"High skill tech staff\", \"Accountants\", \"Medicine staff\", \"Security staff\", \"Cooking staff\", \"Cleaning staff\", \"Private service staff\", \"Low-skill Laborers\", \"Waiters/barmen staff\", \"Secretaries\", \"Realty agents\", \"HR staff\", \"IT staff\"], \"y\": [55186, 32102, 27570, 21371, 18603, 11380, 9813, 8537, 6721, 5946, 4653, 2652, 2093, 1348, 1305, 751, 563, 526], \"name\": \"OCCUPATION_TYPE\", \"text\": \"\", \"marker\": {\"color\": \"rgba(0, 128, 0, 0.6)\", \"line\": {\"color\": \"rgba(0, 128, 0, 1.0)\", \"width\": 1}}, \"orientation\": \"v\"}], {\"legend\": {\"bgcolor\": \"#F5F6F9\", \"font\": {\"color\": \"#4D5663\"}}, \"paper_bgcolor\": \"#F5F6F9\", \"plot_bgcolor\": \"#F5F6F9\", \"yaxis1\": {\"tickfont\": {\"color\": \"#4D5663\"}, \"gridcolor\": \"#E1E5ED\", \"titlefont\": {\"color\": \"#4D5663\"}, \"zerolinecolor\": \"#E1E5ED\", \"showgrid\": true, \"title\": \"Count\"}, \"xaxis1\": {\"tickfont\": {\"color\": \"#4D5663\"}, \"gridcolor\": \"#E1E5ED\", \"titlefont\": {\"color\": \"#4D5663\"}, \"zerolinecolor\": \"#E1E5ED\", \"showgrid\": true, \"title\": \"Occupation\"}, \"titlefont\": {\"color\": \"#4D5663\"}, \"title\": \"Occupation of Applicant's who applied for loan\"}, {\"showLink\": true, \"linkText\": \"Export to plot.ly\"})});</script>"
      ],
      "text/vnd.plotly.v1+html": [
       "<div id=\"69c4defa-c123-4b4d-a18d-dcf5abfe5cf6\" style=\"height: 525px; width: 100%;\" class=\"plotly-graph-div\"></div><script type=\"text/javascript\">require([\"plotly\"], function(Plotly) { window.PLOTLYENV=window.PLOTLYENV || {};window.PLOTLYENV.BASE_URL=\"https://plot.ly\";Plotly.newPlot(\"69c4defa-c123-4b4d-a18d-dcf5abfe5cf6\", [{\"type\": \"bar\", \"x\": [\"Laborers\", \"Sales staff\", \"Core staff\", \"Managers\", \"Drivers\", \"High skill tech staff\", \"Accountants\", \"Medicine staff\", \"Security staff\", \"Cooking staff\", \"Cleaning staff\", \"Private service staff\", \"Low-skill Laborers\", \"Waiters/barmen staff\", \"Secretaries\", \"Realty agents\", \"HR staff\", \"IT staff\"], \"y\": [55186, 32102, 27570, 21371, 18603, 11380, 9813, 8537, 6721, 5946, 4653, 2652, 2093, 1348, 1305, 751, 563, 526], \"name\": \"OCCUPATION_TYPE\", \"text\": \"\", \"marker\": {\"color\": \"rgba(0, 128, 0, 0.6)\", \"line\": {\"color\": \"rgba(0, 128, 0, 1.0)\", \"width\": 1}}, \"orientation\": \"v\"}], {\"legend\": {\"bgcolor\": \"#F5F6F9\", \"font\": {\"color\": \"#4D5663\"}}, \"paper_bgcolor\": \"#F5F6F9\", \"plot_bgcolor\": \"#F5F6F9\", \"yaxis1\": {\"tickfont\": {\"color\": \"#4D5663\"}, \"gridcolor\": \"#E1E5ED\", \"titlefont\": {\"color\": \"#4D5663\"}, \"zerolinecolor\": \"#E1E5ED\", \"showgrid\": true, \"title\": \"Count\"}, \"xaxis1\": {\"tickfont\": {\"color\": \"#4D5663\"}, \"gridcolor\": \"#E1E5ED\", \"titlefont\": {\"color\": \"#4D5663\"}, \"zerolinecolor\": \"#E1E5ED\", \"showgrid\": true, \"title\": \"Occupation\"}, \"titlefont\": {\"color\": \"#4D5663\"}, \"title\": \"Occupation of Applicant's who applied for loan\"}, {\"showLink\": true, \"linkText\": \"Export to plot.ly\"})});</script>"
      ]
     },
     "metadata": {},
     "output_type": "display_data"
    }
   ],
   "source": [
    "temp = train[\"OCCUPATION_TYPE\"].value_counts()\n",
    "temp.iplot(kind='bar', xTitle = 'Occupation', yTitle = \"Count\", title = 'Occupation of Applicant\\'s who applied for loan', color = 'green')"
   ]
  },
  {
   "cell_type": "code",
   "execution_count": null,
   "metadata": {
    "collapsed": true
   },
   "outputs": [],
   "source": []
  }
 ],
 "metadata": {
  "kernelspec": {
   "display_name": "Python 3",
   "language": "python",
   "name": "python3"
  },
  "language_info": {
   "codemirror_mode": {
    "name": "ipython",
    "version": 3
   },
   "file_extension": ".py",
   "mimetype": "text/x-python",
   "name": "python",
   "nbconvert_exporter": "python",
   "pygments_lexer": "ipython3",
   "version": "3.6.3"
  }
 },
 "nbformat": 4,
 "nbformat_minor": 2
}
