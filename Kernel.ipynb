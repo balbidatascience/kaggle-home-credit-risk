{
 "cells": [
  {
   "cell_type": "markdown",
   "metadata": {},
   "source": [
    "# Home Credit Default Risk\n",
    "\n",
    "1. Introdução | Overview\n",
    "2. Descrição dos dados | Data Description\n",
    "3. Carregando os dados | Load data\n",
    "4. Análise Exploratória | Data Exploration \n",
    "\n",
    "    4.1 Empréstimos - dados de treinamento | Loan - train data set\n",
    "        4.1.1 Distribuição da variavel Target | Target Distribuction \n",
    "        4.1.2 Analise dos empréstimos | Loan analysis\n",
    "    4.2 Analise do histórico de crédito | Todo \n",
    "        4.2.1 Crédito anteriores fornecidos por outras instituições | Todo \n",
    "        4.2.2 Crédito anteriores na Credit Bureau | Todo \n",
    "        4.2.3 Histórico mensal de emprestimo na Home Credit | Todo \n",
    "        4.2.4 Histórico mensal no cartão de crédito na Home Credit | Todo \n",
    "        4.2.5 Solicitações de crédito anteriores na Home Credit | Todo \n",
    "        4.2.6 Histórico de amortização na Home Credit | Todo \n",
    "    4.3 Todo\n",
    "5. Correlação | Correlation\n",
    "6. Feature Selection with Random Forest\n",
    "7. ...\n",
    "\n",
    "## 1. Introdução | Overview\n",
    "\n",
    "Many people struggle to get loans due to insufficient or non-existent credit histories. And, unfortunately, this population is often taken advantage of by untrustworthy lenders.\n",
    "\n",
    "[Home Credit Group](http://www.homecredit.net/) strives to broaden financial inclusion for the unbanked population by providing a positive and safe borrowing experience. In order to make sure this underserved population has a positive loan experience, Home Credit makes use of a variety of alternative data--including telco and transactional information--to predict their clients' repayment abilities.\n",
    "\n",
    "While Home Credit is currently using various statistical and machine learning methods to make these predictions, they're challenging Kagglers to help them unlock the full potential of their data. Doing so will ensure that clients capable of repayment are not rejected and that loans are given with a principal, maturity, and repayment calendar that will empower their clients to be successful.\n",
    "\n",
    "\n",
    "## 2. Descrição dos Dados | Data Description\n",
    "\n",
    "\n",
    "* application_{train|test}.csv\n",
    "\n",
    "    * This is the main table, broken into two files for Train (with TARGET) and Test (without TARGET).\n",
    "    * Static data for all applications. One row represents one loan in our data sample.\n",
    "\n",
    "* bureau.csv\n",
    "\n",
    "    * All client's previous credits provided by other financial institutions that were reported to Credit Bureau (for clients who have a loan in our sample).\n",
    "    * For every loan in our sample, there are as many rows as number of credits the client had in Credit Bureau before the application date.\n",
    "\n",
    "* bureau_balance.csv\n",
    "\n",
    "    * Monthly balances of previous credits in Credit Bureau.\n",
    "    * This table has one row for each month of history of every previous credit reported to Credit Bureau – i.e the table has (#loans in sample * # of relative previous credits * # of months where we have some history observable for the previous credits) rows.\n",
    "\n",
    "* POS_CASH_balance.csv\n",
    "\n",
    "Monthly balance snapshots of previous POS (point of sales) and cash loans that the applicant had with Home Credit.\n",
    "This table has one row for each month of history of every previous credit in Home Credit (consumer credit and cash loans) related to loans in our sample – i.e. the table has (#loans in sample * # of relative previous credits * # of months in which we have some history observable for the previous credits) rows.\n",
    "credit_card_balance.csv\n",
    "\n",
    "Monthly balance snapshots of previous credit cards that the applicant has with Home Credit.\n",
    "This table has one row for each month of history of every previous credit in Home Credit (consumer credit and cash loans) related to loans in our sample – i.e. the table has (#loans in sample * # of relative previous credit cards * # of months where we have some history observable for the previous credit card) rows.\n",
    "previous_application.csv\n",
    "\n",
    "All previous applications for Home Credit loans of clients who have loans in our sample.\n",
    "There is one row for each previous application related to loans in our data sample.\n",
    "installments_payments.csv\n",
    "\n",
    "Repayment history for the previously disbursed credits in Home Credit related to the loans in our sample.\n",
    "There is a) one row for every payment that was made plus b) one row each for missed payment.\n",
    "One row is equivalent to one payment of one installment OR one installment corresponding to one payment of one previous Home Credit credit related to loans in our sample.\n",
    "HomeCredit_columns_description.csv\n",
    "\n",
    "This file contains descriptions for the columns in the various data files.\n",
    "\n",
    "![teste](home_credit.png)"
   ]
  },
  {
   "cell_type": "markdown",
   "metadata": {},
   "source": [
    "** Pacotes | Import packages **"
   ]
  },
  {
   "cell_type": "code",
   "execution_count": 1,
   "metadata": {},
   "outputs": [
    {
     "data": {
      "text/html": [
       "<script>requirejs.config({paths: { 'plotly': ['https://cdn.plot.ly/plotly-latest.min']},});if(!window.Plotly) {{require(['plotly'],function(plotly) {window.Plotly=plotly;});}}</script>"
      ],
      "text/vnd.plotly.v1+html": [
       "<script>requirejs.config({paths: { 'plotly': ['https://cdn.plot.ly/plotly-latest.min']},});if(!window.Plotly) {{require(['plotly'],function(plotly) {window.Plotly=plotly;});}}</script>"
      ]
     },
     "metadata": {},
     "output_type": "display_data"
    },
    {
     "data": {
      "text/html": [
       "<script>requirejs.config({paths: { 'plotly': ['https://cdn.plot.ly/plotly-latest.min']},});if(!window.Plotly) {{require(['plotly'],function(plotly) {window.Plotly=plotly;});}}</script>"
      ],
      "text/vnd.plotly.v1+html": [
       "<script>requirejs.config({paths: { 'plotly': ['https://cdn.plot.ly/plotly-latest.min']},});if(!window.Plotly) {{require(['plotly'],function(plotly) {window.Plotly=plotly;});}}</script>"
      ]
     },
     "metadata": {},
     "output_type": "display_data"
    },
    {
     "name": "stderr",
     "output_type": "stream",
     "text": [
      "IOPub data rate exceeded.\n",
      "The notebook server will temporarily stop sending output\n",
      "to the client in order to avoid crashing it.\n",
      "To change this limit, set the config variable\n",
      "`--NotebookApp.iopub_data_rate_limit`.\n"
     ]
    }
   ],
   "source": [
    "import time\n",
    "import pandas as pd\n",
    "import numpy as np\n",
    "\n",
    "from sklearn import preprocessing\n",
    "from sklearn.ensemble import RandomForestClassifier\n",
    "\n",
    "# DataViz\n",
    "import matplotlib\n",
    "import matplotlib.pyplot as plt\n",
    "import seaborn as sns\n",
    "\n",
    "import plotly.offline as py\n",
    "py.init_notebook_mode(connected=True)\n",
    "from plotly.offline import init_notebook_mode, iplot\n",
    "init_notebook_mode(connected=True)\n",
    "import plotly.graph_objs as go\n",
    "import plotly.offline as offline\n",
    "offline.init_notebook_mode()\n",
    "\n",
    "# import cufflinks and offline mode\n",
    "import cufflinks as cf\n",
    "cf.go_offline()\n",
    "\n",
    "%matplotlib inline\n",
    "plt.style.use('ggplot')\n",
    "# sns.set_style('whitegrid')"
   ]
  },
  {
   "cell_type": "markdown",
   "metadata": {},
   "source": [
    "### 3. Carregando os dados | Load Data"
   ]
  },
  {
   "cell_type": "code",
   "execution_count": 2,
   "metadata": {},
   "outputs": [
    {
     "name": "stdout",
     "output_type": "stream",
     "text": [
      "Train and test tables loaded.\n",
      "Bureau data loaded.\n",
      "Previous applications data loaded.\n",
      "Credit card balance loaded.\n",
      "POS cash balance loaded.\n",
      "Installments data loaded.\n",
      "Time it took to load all the data: 58.7533s\n",
      "\n"
     ]
    }
   ],
   "source": [
    "def load_data(data_src):\n",
    "    \n",
    "    start_time = time.time()\n",
    "    \n",
    "    train = pd.read_csv('{}application_train.csv'.format(data_src))\n",
    "    test = pd.read_csv('{}application_test.csv'.format(data_src))\n",
    "    print('Train and test tables loaded.')\n",
    "    \n",
    "    bureau = pd.read_csv('{}bureau.csv'.format(data_src))\n",
    "    bureau_bal = pd.read_csv('{}bureau_balance.csv'.format(data_src))\n",
    "    print('Bureau data loaded.')\n",
    "    \n",
    "    prev = pd.read_csv('{}previous_application.csv'.format(data_src))\n",
    "    print('Previous applications data loaded.')\n",
    "    \n",
    "    cred_card_bal = pd.read_csv('{}credit_card_balance.csv'.format(data_src))\n",
    "    print('Credit card balance loaded.')\n",
    "    \n",
    "    pos_cash_bal = pd.read_csv('{}POS_CASH_balance.csv'.format(data_src))\n",
    "    print('POS cash balance loaded.')\n",
    "    \n",
    "    ins = pd.read_csv('{}installments_payments.csv'.format(data_src))\n",
    "    print('Installments data loaded.')\n",
    "    \n",
    "    # error if using engine c - 'utf-8' codec can't decode byte 0x85\n",
    "    data_description = pd.read_csv('{}HomeCredit_columns_description.csv'.format(data_src), engine='python')\n",
    "    \n",
    "    print('Time it took to load all the data: {:.4f}s\\n'.format(time.time() - start_time))\n",
    "    \n",
    "    return train, test, bureau, bureau_bal, prev, cred_card_bal, pos_cash_bal, ins, data_description\n",
    "\n",
    "train, test, bureau, bureau_bal, prev, cred_card_bal, pos_cash_bal, ins, data_description = load_data('data/all/')"
   ]
  },
  {
   "cell_type": "markdown",
   "metadata": {},
   "source": [
    "## 4. Analise Exploratória | Data Exploration"
   ]
  },
  {
   "cell_type": "markdown",
   "metadata": {},
   "source": [
    "**Table Description**"
   ]
  },
  {
   "cell_type": "code",
   "execution_count": null,
   "metadata": {},
   "outputs": [],
   "source": [
    "train_desc =  data_description[data_description['Table'] == 'application_{train|test}.csv']\n",
    "train_desc[['Row', 'Description', 'Special']].head(10)"
   ]
  },
  {
   "cell_type": "code",
   "execution_count": null,
   "metadata": {},
   "outputs": [],
   "source": [
    "# Column detail\n",
    "def print_col_description(col_name):\n",
    "    return(train_desc[train_desc['Row'] == col_name]['Description'].values)\n",
    "\n",
    "print('NAME_CONTRACT_TYPE: {}'.format(print_col_description('NAME_CONTRACT_TYPE')))\n",
    "print('TARGET: {}'.format(print_col_description('TARGET')))"
   ]
  },
  {
   "cell_type": "markdown",
   "metadata": {},
   "source": [
    "## Todo: Realizar analise exploratoria para entender os dados "
   ]
  },
  {
   "cell_type": "code",
   "execution_count": null,
   "metadata": {},
   "outputs": [],
   "source": [
    "# Todo ...\n",
    "\n",
    "# print(\"Values describe: \")\n",
    "# print(pd.crosstab(train.ORGANIZATION_TYPE, train.TARGET))"
   ]
  },
  {
   "cell_type": "markdown",
   "metadata": {},
   "source": [
    "### Missing values"
   ]
  },
  {
   "cell_type": "code",
   "execution_count": null,
   "metadata": {
    "collapsed": true
   },
   "outputs": [],
   "source": [
    "def missing_data(data):\n",
    "    total = data.isnull().count()\n",
    "    missing = data.isnull().sum()\n",
    "    percent = (data.isnull().sum()/data.isnull().count()*100)\n",
    "    return pd.concat([total, missing, percent], axis=1, \n",
    "                     keys=['Total', 'Missing', 'Percent']) \\\n",
    "                     .sort_values(by=['Percent'], ascending=False)"
   ]
  },
  {
   "cell_type": "code",
   "execution_count": null,
   "metadata": {},
   "outputs": [],
   "source": [
    "# train dataset\n",
    "missing_data(train).head(10)"
   ]
  },
  {
   "cell_type": "code",
   "execution_count": null,
   "metadata": {},
   "outputs": [],
   "source": [
    "# test dataset\n",
    "missing_data(test).head(10)"
   ]
  },
  {
   "cell_type": "markdown",
   "metadata": {},
   "source": [
    "### Distribuição da variável Target | Target Distribuction"
   ]
  },
  {
   "cell_type": "code",
   "execution_count": null,
   "metadata": {},
   "outputs": [],
   "source": [
    "# Grafico com Plotly - Vou utilizar o seaborn como principal dataviz\n",
    "\n",
    "def graphic_target_distribution():\n",
    "    trace0 = go.Bar(\n",
    "                x = train[train[\"TARGET\"]== 0][\"TARGET\"].value_counts().index.values,\n",
    "                y = train[train[\"TARGET\"]== 0][\"TARGET\"].value_counts().values,\n",
    "                name='Good credit'\n",
    "        )\n",
    "\n",
    "    trace1 = go.Bar(\n",
    "                x = train[train[\"TARGET\"]== 1][\"TARGET\"].value_counts().index.values,\n",
    "                y = train[train[\"TARGET\"]== 1][\"TARGET\"].value_counts().values,\n",
    "                name='Bad credit'\n",
    "        )\n",
    "\n",
    "    data = [trace0, trace1]\n",
    "\n",
    "    layout = go.Layout(\n",
    "\n",
    "    )\n",
    "\n",
    "    layout = go.Layout(\n",
    "        yaxis=dict(\n",
    "            title='Qtde'\n",
    "        ),\n",
    "        xaxis=dict(\n",
    "            title='Variavel de risco'\n",
    "        ),\n",
    "        title='Distribuição variável Target'\n",
    "    )\n",
    "\n",
    "    fig = go.Figure(data=data, layout=layout)\n",
    "\n",
    "    py.iplot(fig, filename='grouped-bar')\n",
    "    \n",
    "#graphic_target_distribution()"
   ]
  },
  {
   "cell_type": "code",
   "execution_count": null,
   "metadata": {},
   "outputs": [],
   "source": [
    "print(\"Distribuição da variável - Good(0) e Bad(1): \")\n",
    "print(train[\"TARGET\"].value_counts())\n",
    "\n",
    "sns.factorplot(x =\"TARGET\", kind='count', data=train, size=5)\n",
    "plt.title(\"Loan Count\", fontsize=18)\n",
    "plt.xlabel(\"Labels\", fontsize=15)\n",
    "plt.ylabel(\"Count\", fontsize=15)\n",
    "plt.show()"
   ]
  },
  {
   "cell_type": "markdown",
   "metadata": {},
   "source": [
    "### Qtde por feature e porcentagem de inadimplentes "
   ]
  },
  {
   "cell_type": "code",
   "execution_count": null,
   "metadata": {
    "collapsed": true
   },
   "outputs": [],
   "source": [
    "def plot_stats(data, feature,label_rotation=False,horizontal_layout=True):\n",
    "    temp = data[feature].value_counts()\n",
    "    df1 = pd.DataFrame({feature: temp.index,'Number of contracts': temp.values})\n",
    "    #sns.set_style('whitegrid')\n",
    "    \n",
    "    # Calculate the percentage of target=1 per category value\n",
    "    cat_perc = data[[feature, 'TARGET']].groupby([feature],as_index=False).mean()\n",
    "    cat_perc.sort_values(by='TARGET', ascending=False, inplace=True)\n",
    "    \n",
    "    if(horizontal_layout):\n",
    "        fig, (ax1, ax2) = plt.subplots(ncols=2, figsize=(12,6))\n",
    "    else:\n",
    "        fig, (ax1, ax2) = plt.subplots(nrows=2, figsize=(12,14))\n",
    "    \n",
    "    sns.set_color_codes(\"pastel\")\n",
    "    s = sns.barplot(ax=ax1, x = feature, y=\"Number of contracts\",data=df1)\n",
    "    \n",
    "    if(label_rotation):\n",
    "        s.set_xticklabels(s.get_xticklabels(),rotation=90)\n",
    "    \n",
    "    s = sns.barplot(ax=ax2, x = feature, y='TARGET', order=cat_perc[feature], data=cat_perc)\n",
    "    \n",
    "    if(label_rotation):\n",
    "        s.set_xticklabels(s.get_xticklabels(),rotation=90)\n",
    "    \n",
    "    plt.ylabel('Percent of target with value 1 [%]', fontsize=10)\n",
    "    plt.tick_params(axis='both', which='major', labelsize=10)\n",
    "\n",
    "    plt.show();"
   ]
  },
  {
   "cell_type": "code",
   "execution_count": null,
   "metadata": {},
   "outputs": [],
   "source": [
    "plot_stats(train, 'NAME_CONTRACT_TYPE')"
   ]
  },
  {
   "cell_type": "code",
   "execution_count": null,
   "metadata": {},
   "outputs": [],
   "source": [
    "# Distribuição de inadimplencia de acordo com a feature passada como parametro\n",
    "\n",
    "def description_distribution(data, feature, by='TARGET'):\n",
    "    return pd.crosstab(data[feature], train[by], margins=True)\n",
    "    \n",
    "print('Distribui')    \n",
    "description_distribution(train, 'CODE_GENDER')"
   ]
  },
  {
   "cell_type": "code",
   "execution_count": null,
   "metadata": {
    "collapsed": true
   },
   "outputs": [],
   "source": [
    "# Plot distribution of multiple features, with TARGET = 1/0 on the same graph\n",
    "def plot_distribution_comp(data, var,nrow=2):\n",
    "    \n",
    "    i = 0\n",
    "    t1 = data.loc[data['TARGET'] != 0]\n",
    "    t0 = data.loc[data['TARGET'] == 0]\n",
    "\n",
    "    sns.set_style('whitegrid')\n",
    "    plt.figure()\n",
    "    fig, ax = plt.subplots(nrow,2,figsize=(12,6*nrow))\n",
    "\n",
    "    for feature in var:\n",
    "        i += 1\n",
    "        plt.subplot(nrow,2,i)\n",
    "        sns.kdeplot(t1[feature], bw=0.5,label=\"TARGET = 1\")\n",
    "        sns.kdeplot(t0[feature], bw=0.5,label=\"TARGET = 0\")\n",
    "        plt.ylabel('Density plot', fontsize=12)\n",
    "        plt.xlabel(feature, fontsize=12)\n",
    "        locs, labels = plt.xticks()\n",
    "        plt.tick_params(axis='both', which='major', labelsize=12)\n",
    "    plt.show();"
   ]
  },
  {
   "cell_type": "code",
   "execution_count": null,
   "metadata": {},
   "outputs": [],
   "source": [
    "var = ['AMT_ANNUITY','AMT_GOODS_PRICE','DAYS_EMPLOYED', 'DAYS_REGISTRATION','DAYS_BIRTH','DAYS_ID_PUBLISH']\n",
    "plot_distribution_comp(train, var,nrow=3)"
   ]
  },
  {
   "cell_type": "markdown",
   "metadata": {},
   "source": [
    "## Pearson Correlation of features"
   ]
  },
  {
   "cell_type": "code",
   "execution_count": null,
   "metadata": {},
   "outputs": [],
   "source": [
    "def plot_heatmap(dataset):\n",
    "    data = [\n",
    "        go.Heatmap(\n",
    "            z= dataset.corr().values,\n",
    "            x=dataset.columns.values,\n",
    "            y=dataset.columns.values,\n",
    "            colorscale='Viridis',\n",
    "            reversescale = False,\n",
    "            text = True ,\n",
    "            opacity = 1.0 )\n",
    "    ]\n",
    "\n",
    "    layout = go.Layout(\n",
    "        title='Pearson Correlation of features',\n",
    "        xaxis = dict(ticks='', nticks=36),\n",
    "        yaxis = dict(ticks='' ),\n",
    "        width = 900, height = 700,\n",
    "    margin=dict(\n",
    "        l=240,\n",
    "    ),)\n",
    "\n",
    "    fig = go.Figure(data=data, layout=layout)\n",
    "    return py.iplot(fig, filename='labelled-heatmap')\n",
    "\n",
    "plot_heatmap(train)"
   ]
  },
  {
   "cell_type": "code",
   "execution_count": null,
   "metadata": {
    "collapsed": true
   },
   "outputs": [],
   "source": [
    "def plot_sns_heatmap():\n",
    "    colormap = plt.cm.Greens\n",
    "    plt.figure(figsize=(14,12))\n",
    "\n",
    "    sns.heatmap(train.corr(),linewidths=0.1,vmax=1.0, \n",
    "                 cmap = colormap, linecolor='white'\n",
    "               #, square=True, annot=True\n",
    "               )\n",
    "    return plt.show()\n",
    "    \n",
    "#plot_sns_heatmap()"
   ]
  },
  {
   "cell_type": "markdown",
   "metadata": {},
   "source": [
    "## Feature Importance using Random forest"
   ]
  },
  {
   "cell_type": "code",
   "execution_count": 10,
   "metadata": {},
   "outputs": [
    {
     "data": {
      "text/html": [
       "<div>\n",
       "<style>\n",
       "    .dataframe thead tr:only-child th {\n",
       "        text-align: right;\n",
       "    }\n",
       "\n",
       "    .dataframe thead th {\n",
       "        text-align: left;\n",
       "    }\n",
       "\n",
       "    .dataframe tbody tr th {\n",
       "        vertical-align: top;\n",
       "    }\n",
       "</style>\n",
       "<table border=\"1\" class=\"dataframe\">\n",
       "  <thead>\n",
       "    <tr style=\"text-align: right;\">\n",
       "      <th></th>\n",
       "      <th>NAME_CONTRACT_TYPE</th>\n",
       "      <th>CODE_GENDER</th>\n",
       "      <th>FLAG_OWN_CAR</th>\n",
       "      <th>FLAG_OWN_REALTY</th>\n",
       "      <th>NAME_TYPE_SUITE</th>\n",
       "      <th>NAME_INCOME_TYPE</th>\n",
       "      <th>NAME_EDUCATION_TYPE</th>\n",
       "      <th>NAME_FAMILY_STATUS</th>\n",
       "      <th>NAME_HOUSING_TYPE</th>\n",
       "      <th>OCCUPATION_TYPE</th>\n",
       "      <th>WEEKDAY_APPR_PROCESS_START</th>\n",
       "      <th>ORGANIZATION_TYPE</th>\n",
       "      <th>FONDKAPREMONT_MODE</th>\n",
       "      <th>HOUSETYPE_MODE</th>\n",
       "      <th>WALLSMATERIAL_MODE</th>\n",
       "      <th>EMERGENCYSTATE_MODE</th>\n",
       "    </tr>\n",
       "  </thead>\n",
       "  <tbody>\n",
       "    <tr>\n",
       "      <th>0</th>\n",
       "      <td>0</td>\n",
       "      <td>1</td>\n",
       "      <td>0</td>\n",
       "      <td>1</td>\n",
       "      <td>6</td>\n",
       "      <td>7</td>\n",
       "      <td>4</td>\n",
       "      <td>3</td>\n",
       "      <td>1</td>\n",
       "      <td>8</td>\n",
       "      <td>6</td>\n",
       "      <td>5</td>\n",
       "      <td>3</td>\n",
       "      <td>0</td>\n",
       "      <td>5</td>\n",
       "      <td>0</td>\n",
       "    </tr>\n",
       "    <tr>\n",
       "      <th>1</th>\n",
       "      <td>0</td>\n",
       "      <td>0</td>\n",
       "      <td>0</td>\n",
       "      <td>0</td>\n",
       "      <td>1</td>\n",
       "      <td>4</td>\n",
       "      <td>1</td>\n",
       "      <td>1</td>\n",
       "      <td>1</td>\n",
       "      <td>3</td>\n",
       "      <td>1</td>\n",
       "      <td>39</td>\n",
       "      <td>3</td>\n",
       "      <td>0</td>\n",
       "      <td>0</td>\n",
       "      <td>0</td>\n",
       "    </tr>\n",
       "    <tr>\n",
       "      <th>2</th>\n",
       "      <td>1</td>\n",
       "      <td>1</td>\n",
       "      <td>1</td>\n",
       "      <td>1</td>\n",
       "      <td>6</td>\n",
       "      <td>7</td>\n",
       "      <td>4</td>\n",
       "      <td>3</td>\n",
       "      <td>1</td>\n",
       "      <td>8</td>\n",
       "      <td>1</td>\n",
       "      <td>11</td>\n",
       "      <td>0</td>\n",
       "      <td>1</td>\n",
       "      <td>7</td>\n",
       "      <td>2</td>\n",
       "    </tr>\n",
       "    <tr>\n",
       "      <th>3</th>\n",
       "      <td>0</td>\n",
       "      <td>0</td>\n",
       "      <td>0</td>\n",
       "      <td>1</td>\n",
       "      <td>6</td>\n",
       "      <td>7</td>\n",
       "      <td>4</td>\n",
       "      <td>0</td>\n",
       "      <td>1</td>\n",
       "      <td>8</td>\n",
       "      <td>6</td>\n",
       "      <td>5</td>\n",
       "      <td>0</td>\n",
       "      <td>1</td>\n",
       "      <td>7</td>\n",
       "      <td>2</td>\n",
       "    </tr>\n",
       "    <tr>\n",
       "      <th>4</th>\n",
       "      <td>0</td>\n",
       "      <td>1</td>\n",
       "      <td>0</td>\n",
       "      <td>1</td>\n",
       "      <td>6</td>\n",
       "      <td>7</td>\n",
       "      <td>4</td>\n",
       "      <td>3</td>\n",
       "      <td>1</td>\n",
       "      <td>3</td>\n",
       "      <td>4</td>\n",
       "      <td>37</td>\n",
       "      <td>0</td>\n",
       "      <td>1</td>\n",
       "      <td>7</td>\n",
       "      <td>2</td>\n",
       "    </tr>\n",
       "  </tbody>\n",
       "</table>\n",
       "</div>"
      ],
      "text/plain": [
       "   NAME_CONTRACT_TYPE  CODE_GENDER  FLAG_OWN_CAR  FLAG_OWN_REALTY  \\\n",
       "0                   0            1             0                1   \n",
       "1                   0            0             0                0   \n",
       "2                   1            1             1                1   \n",
       "3                   0            0             0                1   \n",
       "4                   0            1             0                1   \n",
       "\n",
       "   NAME_TYPE_SUITE  NAME_INCOME_TYPE  NAME_EDUCATION_TYPE  NAME_FAMILY_STATUS  \\\n",
       "0                6                 7                    4                   3   \n",
       "1                1                 4                    1                   1   \n",
       "2                6                 7                    4                   3   \n",
       "3                6                 7                    4                   0   \n",
       "4                6                 7                    4                   3   \n",
       "\n",
       "   NAME_HOUSING_TYPE  OCCUPATION_TYPE  WEEKDAY_APPR_PROCESS_START  \\\n",
       "0                  1                8                           6   \n",
       "1                  1                3                           1   \n",
       "2                  1                8                           1   \n",
       "3                  1                8                           6   \n",
       "4                  1                3                           4   \n",
       "\n",
       "   ORGANIZATION_TYPE  FONDKAPREMONT_MODE  HOUSETYPE_MODE  WALLSMATERIAL_MODE  \\\n",
       "0                  5                   3               0                   5   \n",
       "1                 39                   3               0                   0   \n",
       "2                 11                   0               1                   7   \n",
       "3                  5                   0               1                   7   \n",
       "4                 37                   0               1                   7   \n",
       "\n",
       "   EMERGENCYSTATE_MODE  \n",
       "0                    0  \n",
       "1                    0  \n",
       "2                    2  \n",
       "3                    2  \n",
       "4                    2  "
      ]
     },
     "execution_count": 10,
     "metadata": {},
     "output_type": "execute_result"
    }
   ],
   "source": [
    "# print(train.info())\n",
    "\n",
    "# print(train.nunique())\n",
    "\n",
    "#categorical_feats = [f for f in train.columns if train[f].dtype == 'object']\n",
    "train[categorical_feats].head()\n"
   ]
  },
  {
   "cell_type": "code",
   "execution_count": 9,
   "metadata": {},
   "outputs": [],
   "source": [
    "# Trasnforma as variaveis categoricas/string numero - label encoder\n",
    "\n",
    "categorical_feats = [f for f in train.columns if train[f].dtype == 'object']\n",
    "\n",
    "for col in categorical_feats:\n",
    "    lb = preprocessing.LabelEncoder()\n",
    "    lb.fit(list(train[col].values.astype('str')) + list(test[col].values.astype('str')))\n",
    "    train[col] = lb.transform(list(train[col].values.astype('str')))\n",
    "    test[col] = lb.transform(list(test[col].values.astype('str')))\n",
    "    \n",
    "train.fillna(-999, inplace = True)\n",
    "test.fillna(-999, inplace = True)\n",
    "\n",
    "rf = RandomForestClassifier(n_estimators=50, max_depth=8, min_samples_leaf=4, max_features=0.5, random_state=2018)\n",
    "rf.fit(train.drop(['SK_ID_CURR', 'TARGET'],axis=1), train.TARGET)\n",
    "features = train.drop(['SK_ID_CURR', 'TARGET'],axis=1).columns.values\n",
    "\n"
   ]
  },
  {
   "cell_type": "code",
   "execution_count": null,
   "metadata": {},
   "outputs": [],
   "source": [
    "x, y = (list(x) for x in zip(*sorted(zip(rf.feature_importances_, features), \n",
    "                                                            reverse = False)))\n",
    "trace2 = go.Bar(\n",
    "    x=x ,\n",
    "    y=y,\n",
    "    marker=dict(\n",
    "        color=x,\n",
    "        colorscale = 'Viridis',\n",
    "        reversescale = True\n",
    "    ),\n",
    "    name='Random Forest Feature importance',\n",
    "    orientation='h',\n",
    ")\n",
    "\n",
    "layout = dict(\n",
    "    title='Barplot of Feature importances',\n",
    "     width = 900, height = 2000,\n",
    "    yaxis=dict(\n",
    "        showgrid=False,\n",
    "        showline=False,\n",
    "        showticklabels=True,\n",
    "    ),\n",
    "    margin=dict(\n",
    "    l=300,\n",
    "),\n",
    ")\n",
    "\n",
    "fig1 = go.Figure(data=[trace2])\n",
    "fig1['layout'].update(layout)\n",
    "py.iplot(fig1, filename='plots')"
   ]
  },
  {
   "cell_type": "markdown",
   "metadata": {},
   "source": [
    "## Feature Selection"
   ]
  },
  {
   "cell_type": "code",
   "execution_count": 14,
   "metadata": {
    "collapsed": true
   },
   "outputs": [],
   "source": [
    "# Todo: Realizar a seleção das variaveis para o modelo\n",
    "\n",
    "melhores_features = ['EXT_SOURCE_2', 'EXT_SOURCE_3', 'DAYS_BIRTH', 'DAYS_EMPLOYED', \n",
    "                     'NAME_EDUCATION_TYPE', 'DAYS_ID_PUBLISH', 'CODE_GENDER', \n",
    "                     'AMT_ANNUITY', 'DAYS_REGISTRATION', 'AMT_GOODS_PRICE', 'AMT_CREDIT', \n",
    "                    'ORGANIZATION_TYPE', 'DAYS_LAST_PHONE_CHANGE', 'NAME_INCOME_TYPE']\n",
    "\n",
    "melhores_features2 = ['TOTALAREA_MODE',\n",
    "                     'DEF_60_CNT_SOCIAL_CIRCLE',\n",
    "                     'DEF_30_CNT_SOCIAL_CIRCLE',\n",
    "                     'AMT_REQ_CREDIT_BUREAU_YEAR',\n",
    "                     'HOUR_APPR_PROCESS_START',\n",
    "                     'OWN_CAR_AGE',\n",
    "                     'REGION_POPULATION_RELATIVE',\n",
    "                     'FLAG_DOCUMENT_3',\n",
    "                     'AMT_INCOME_TOTAL',\n",
    "                     'NAME_INCOME_TYPE',\n",
    "                     'DAYS_LAST_PHONE_CHANGE',\n",
    "                     'ORGANIZATION_TYPE',\n",
    "                     'AMT_CREDIT',\n",
    "                     'AMT_GOODS_PRICE',\n",
    "                     'DAYS_REGISTRATION',\n",
    "                     'AMT_ANNUITY',\n",
    "                     'CODE_GENDER',\n",
    "                     'DAYS_ID_PUBLISH',\n",
    "                     'NAME_EDUCATION_TYPE',\n",
    "                     'DAYS_EMPLOYED',\n",
    "                     'DAYS_BIRTH',\n",
    "                     'EXT_SOURCE_1',\n",
    "                     'EXT_SOURCE_3',\n",
    "                     'EXT_SOURCE_2']"
   ]
  },
  {
   "cell_type": "markdown",
   "metadata": {},
   "source": [
    "**Balancing Classes**"
   ]
  },
  {
   "cell_type": "code",
   "execution_count": 82,
   "metadata": {},
   "outputs": [
    {
     "data": {
      "text/plain": [
       "0    282686\n",
       "1     24825\n",
       "Name: TARGET, dtype: int64"
      ]
     },
     "execution_count": 82,
     "metadata": {},
     "output_type": "execute_result"
    }
   ],
   "source": [
    "train['TARGET'].value_counts()"
   ]
  },
  {
   "cell_type": "code",
   "execution_count": 75,
   "metadata": {},
   "outputs": [
    {
     "data": {
      "text/plain": [
       "(49650, 122)"
      ]
     },
     "execution_count": 75,
     "metadata": {},
     "output_type": "execute_result"
    }
   ],
   "source": [
    "# RESAMPLE - DOWNSAPLED\n",
    "\n",
    "from sklearn.utils import resample\n",
    "\n",
    "# Separate majority and minority classes\n",
    "df_majority = train[train.TARGET==0]\n",
    "df_minority = train[train.TARGET==1]\n",
    " \n",
    "# Downsample majority class\n",
    "df_majority_downsampled = resample(df_majority, \n",
    "                                 replace=False,    # sample without replacement\n",
    "                                 n_samples=24825,     # to match minority class\n",
    "                                 random_state=123) # reproducible results\n",
    " \n",
    "# Combine minority class with downsampled majority class\n",
    "df_downsampled = pd.concat([df_majority_downsampled, df_minority])\n",
    " \n",
    "# Display new class counts\n",
    "df_downsampled.TARGET.value_counts()\n",
    "\n",
    "df_downsampled.shape"
   ]
  },
  {
   "cell_type": "code",
   "execution_count": 84,
   "metadata": {},
   "outputs": [
    {
     "data": {
      "text/plain": [
       "1    282686\n",
       "0    282686\n",
       "Name: TARGET, dtype: int64"
      ]
     },
     "execution_count": 84,
     "metadata": {},
     "output_type": "execute_result"
    }
   ],
   "source": [
    "# RESAMPLE - UPSAMPLED\n",
    "\n",
    "# Separate majority and minority classes\n",
    "df_majority = train[train.TARGET==0]\n",
    "df_minority = train[train.TARGET==1]\n",
    " \n",
    "# Upsample minority class\n",
    "df_minority_upsampled = resample(df_minority, \n",
    "                                 replace=True,     # sample with replacement\n",
    "                                 n_samples=282686,    # to match majority class\n",
    "                                 random_state=123) # reproducible results\n",
    " \n",
    "# Combine majority class with upsampled minority class\n",
    "df_upsampled = pd.concat([df_majority, df_minority_upsampled])\n",
    " \n",
    "# Display new class counts\n",
    "df_upsampled.TARGET.value_counts()"
   ]
  },
  {
   "cell_type": "markdown",
   "metadata": {},
   "source": [
    "## Construindo os modelos"
   ]
  },
  {
   "cell_type": "code",
   "execution_count": 107,
   "metadata": {},
   "outputs": [
    {
     "name": "stdout",
     "output_type": "stream",
     "text": [
      "0.992824800132\n"
     ]
    }
   ],
   "source": [
    "from sklearn import model_selection\n",
    "\n",
    "# Com os dados train unbalanced\n",
    "# X = train.drop(['SK_ID_CURR', 'TARGET'], axis=1)\n",
    "# Y = train['TARGET']\n",
    "\n",
    "# Com os dados balanced - aplicado resample downsampled\n",
    "# X = df_downsampled.drop(['SK_ID_CURR', 'TARGET'], axis=1)\n",
    "# Y = df_downsampled['TARGET']\n",
    "\n",
    "# Com os dados balanced - aplicado resample upsampled\n",
    "X = df_upsampled.drop(['SK_ID_CURR', 'TARGET'], axis=1)\n",
    "Y = df_upsampled['TARGET']\n",
    "\n",
    "teste_size = 0.3\n",
    "seed = 7\n",
    "\n",
    "X_train, X_test, Y_train, Y_test = model_selection.train_test_split(X, Y, test_size= teste_size, random_state = seed)\n",
    "\n",
    "model1 = RandomForestClassifier()\n",
    "model1.fit(X_train, Y_train)\n",
    "\n",
    "resultado = model1.score(X_test, Y_test)\n",
    "\n",
    "print(resultado)"
   ]
  },
  {
   "cell_type": "code",
   "execution_count": null,
   "metadata": {},
   "outputs": [],
   "source": [
    "from sklearn import cross_validation\n",
    "from sklearn.linear_model import LogisticRegression\n",
    "from sklearn.tree import DecisionTreeClassifier\n",
    "from sklearn.naive_bayes import GaussianNB\n",
    "from sklearn.svm import SVC\n",
    "\n",
    "num_folds = 10\n",
    "num_instances = len(X_train)\n",
    "seed = 7\n",
    "\n",
    "modelos = []\n",
    "modelos.append(('LR', LogisticRegression()))\n",
    "modelos.append(('CART', DecisionTreeClassifier()))\n",
    "modelos.append(('NB', GaussianNB()))\n",
    "modelos.append(('RF', RandomForestClassifier()))\n",
    "\n",
    "# Avaliando cada modelo\n",
    "resultados = []\n",
    "nomes = []\n",
    "\n",
    "for nome, modelo in modelos:\n",
    "    kfold = cross_validation.KFold(n = num_instances, n_folds = num_folds, random_state = seed)\n",
    "    cv_results = cross_validation.cross_val_score(modelo, X_train, Y_train, cv = kfold, scoring = 'accuracy')\n",
    "    resultados.append(cv_results)\n",
    "    nomes.append(nome)\n",
    "    msg = \"%s: %f (%f)\" % (nome, cv_results.mean(), cv_results.std())\n",
    "    print(msg)\n",
    "\n",
    "# Boxplot para comparar os algoritmos\n",
    "fig = plt.figure()\n",
    "fig.suptitle('Comparação de Algoritmos de Classificação')\n",
    "ax = fig.add_subplot(111)\n",
    "plt.boxplot(resultados)\n",
    "ax.set_xticklabels(nomes)\n",
    "plt.show()\n"
   ]
  },
  {
   "cell_type": "markdown",
   "metadata": {},
   "source": [
    "## Validação dos modelos"
   ]
  },
  {
   "cell_type": "code",
   "execution_count": 108,
   "metadata": {},
   "outputs": [],
   "source": [
    "rf = model1 # modelos[3][1]\n",
    "\n",
    "# rf.fit(X_train, Y_train)"
   ]
  },
  {
   "cell_type": "code",
   "execution_count": 109,
   "metadata": {},
   "outputs": [
    {
     "name": "stdout",
     "output_type": "stream",
     "text": [
      "0.992824800132\n",
      "\n",
      "\n",
      "[[83461  1152]\n",
      " [   65 84934]]\n",
      "\n",
      "\n",
      "0.996686083899\n",
      "\n",
      "\n",
      "             precision    recall  f1-score   support\n",
      "\n",
      "          0       1.00      0.99      0.99     84613\n",
      "          1       0.99      1.00      0.99     84999\n",
      "\n",
      "avg / total       0.99      0.99      0.99    169612\n",
      "\n"
     ]
    }
   ],
   "source": [
    "y_pred = rf.predict(X_test)\n",
    "\n",
    "# Verificaar os resultados obtidos\n",
    "print(accuracy_score(Y_test,y_pred))\n",
    "print(\"\\n\")\n",
    "print(confusion_matrix(Y_test, y_pred))\n",
    "print(\"\\n\")\n",
    "print(fbeta_score(Y_test, y_pred, beta=2))\n",
    "print(\"\\n\")\n",
    "print(classification_report(Y_test, y_pred))"
   ]
  },
  {
   "cell_type": "code",
   "execution_count": 21,
   "metadata": {},
   "outputs": [
    {
     "name": "stdout",
     "output_type": "stream",
     "text": [
      "0.919288052551\n",
      "\n",
      "\n",
      "[[84797    10]\n",
      " [ 7436    11]]\n",
      "\n",
      "\n",
      "0.00184508034486\n",
      "\n",
      "\n",
      "             precision    recall  f1-score   support\n",
      "\n",
      "          0       0.92      1.00      0.96     84807\n",
      "          1       0.52      0.00      0.00      7447\n",
      "\n",
      "avg / total       0.89      0.92      0.88     92254\n",
      "\n"
     ]
    }
   ],
   "source": [
    "#Testing the model \n",
    "#Predicting using our  model\n",
    "\n",
    "from sklearn.metrics import accuracy_score, confusion_matrix, classification_report, fbeta_score #To evaluate our model\n",
    "\n",
    "\n",
    "y_pred = rf.predict(X_test)\n",
    "\n",
    "# Verificaar os resultados obtidos\n",
    "print(accuracy_score(Y_test,y_pred))\n",
    "print(\"\\n\")\n",
    "print(confusion_matrix(Y_test, y_pred))\n",
    "print(\"\\n\")\n",
    "print(fbeta_score(Y_test, y_pred, beta=2))\n",
    "print(\"\\n\")\n",
    "print(classification_report(Y_test, y_pred))"
   ]
  },
  {
   "cell_type": "markdown",
   "metadata": {},
   "source": [
    "**Confusion Matrix**"
   ]
  },
  {
   "cell_type": "code",
   "execution_count": 90,
   "metadata": {},
   "outputs": [
    {
     "name": "stdout",
     "output_type": "stream",
     "text": [
      "Confusion matrix, without normalization\n",
      "[[84282   331]\n",
      " [   33 84966]]\n"
     ]
    },
    {
     "data": {
      "image/png": "[encoded data removed]",
      "text/plain": [
       "<matplotlib.figure.Figure at 0x11efa2e48>"
      ]
     },
     "metadata": {},
     "output_type": "display_data"
    }
   ],
   "source": [
    "import itertools\n",
    "\n",
    "def plot_confusion_matrix(cm, classes,\n",
    "                          normalize=False,\n",
    "                          title='Confusion matrix',\n",
    "                          cmap=plt.cm.Blues):\n",
    "    \"\"\"\n",
    "    This function prints and plots the confusion matrix.\n",
    "    Normalization can be applied by setting `normalize=True`.\n",
    "    \"\"\"\n",
    "    if normalize:\n",
    "        cm = cm.astype('float') / cm.sum(axis=1)[:, np.newaxis]\n",
    "        print(\"Normalized confusion matrix\")\n",
    "    else:\n",
    "        print('Confusion matrix, without normalization')\n",
    "\n",
    "    print(cm)\n",
    "\n",
    "    plt.imshow(cm, interpolation='nearest', cmap=cmap)\n",
    "    plt.title(title)\n",
    "    plt.colorbar()\n",
    "    tick_marks = np.arange(len(classes))\n",
    "    plt.xticks(tick_marks, classes)\n",
    "    plt.yticks(tick_marks, classes)\n",
    "\n",
    "    fmt = '.2f' if normalize else 'd'\n",
    "    thresh = cm.max() / 2.\n",
    "    for i, j in itertools.product(range(cm.shape[0]), range(cm.shape[1])):\n",
    "        plt.text(j, i, format(cm[i, j], fmt),\n",
    "                 horizontalalignment=\"center\",\n",
    "                 color=\"white\" if cm[i, j] > thresh else \"black\")\n",
    "\n",
    "    plt.tight_layout()\n",
    "    plt.ylabel('True label')\n",
    "    plt.xlabel('Predicted label')\n",
    "    \n",
    "# Compute confusion matrix\n",
    "cnf_matrix = confusion_matrix(Y_test, y_pred)\n",
    "np.set_printoptions(precision=2)\n",
    "\n",
    "class_names = [0,1]\n",
    "\n",
    "# Plot non-normalized confusion matrix\n",
    "plt.figure()\n",
    "plot_confusion_matrix(cnf_matrix, classes=class_names,\n",
    "                      title='Confusion matrix, without normalization')\n",
    "\n",
    "plt.show()"
   ]
  },
  {
   "cell_type": "markdown",
   "metadata": {},
   "source": [
    "**ROC Curve**"
   ]
  },
  {
   "cell_type": "code",
   "execution_count": 110,
   "metadata": {},
   "outputs": [
    {
     "data": {
      "image/png": "[encoded data removed]",
      "text/plain": [
       "<matplotlib.figure.Figure at 0x11a19a710>"
      ]
     },
     "metadata": {},
     "output_type": "display_data"
    }
   ],
   "source": [
    "from sklearn.metrics import roc_curve\n",
    "\n",
    "#Predicting proba\n",
    "y_pred_prob = rf.predict_proba(X_test)[:,1]\n",
    "\n",
    "# Generate ROC curve values: fpr, tpr, thresholds\n",
    "fpr, tpr, thresholds = roc_curve(Y_test, y_pred_prob)\n",
    "\n",
    "# Plot ROC curve\n",
    "plt.plot([0, 1], [0, 1], 'k--')\n",
    "plt.plot(fpr, tpr)\n",
    "plt.xlabel('False Positive Rate')\n",
    "plt.ylabel('True Positive Rate')\n",
    "plt.title('ROC Curve')\n",
    "plt.show()"
   ]
  },
  {
   "cell_type": "code",
   "execution_count": 105,
   "metadata": {},
   "outputs": [
    {
     "data": {
      "image/png": "[encoded data removed]",
      "text/plain": [
       "<matplotlib.figure.Figure at 0x11a19a2e8>"
      ]
     },
     "metadata": {},
     "output_type": "display_data"
    }
   ],
   "source": [
    "from sklearn.metrics import roc_curve\n",
    "\n",
    "#Predicting proba\n",
    "y_pred_prob = rf.predict_proba(X_test)[:,1]\n",
    "\n",
    "# Generate ROC curve values: fpr, tpr, thresholds\n",
    "fpr, tpr, thresholds = roc_curve(Y_test, y_pred_prob)\n",
    "\n",
    "# Plot ROC curve\n",
    "plt.plot([0, 1], [0, 1], 'k--')\n",
    "plt.plot(fpr, tpr)\n",
    "plt.xlabel('False Positive Rate')\n",
    "plt.ylabel('True Positive Rate')\n",
    "plt.title('ROC Curve')\n",
    "plt.show()"
   ]
  },
  {
   "cell_type": "markdown",
   "metadata": {},
   "source": [
    "**Salva modelo no disco rigido**"
   ]
  },
  {
   "cell_type": "code",
   "execution_count": null,
   "metadata": {
    "collapsed": true
   },
   "outputs": [],
   "source": [
    "import pickle\n",
    "\n",
    "# Salvando o modelo\n",
    "arquivo = 'modelo_v1.sav'\n",
    "pickle.dump(modelo, open(arquivo, 'wb'))\n",
    "\n",
    "# Carregando o arquivo\n",
    "modelo_v1 = pickle.load(open(arquivo, 'rb'))\n",
    "resultado = modelo_v1.score(X_teste, Y_teste)"
   ]
  },
  {
   "cell_type": "code",
   "execution_count": 118,
   "metadata": {},
   "outputs": [],
   "source": [
    "df_resultado = pd.DataFrame()\n",
    "\n",
    "df_resultado['SK_ID_CURR'] = test['SK_ID_CURR']\n",
    "test_predict = test.drop('SK_ID_CURR', axis=1)\n",
    "\n",
    "test_predict.head()\n",
    "\n",
    "df_resultado['TARGET'] = rf.predict(test_predict)\n",
    "\n",
    "df_resultado.to_csv('resultado.csv', index=False)"
   ]
  },
  {
   "cell_type": "markdown",
   "metadata": {},
   "source": [
    "## RASCUNHO"
   ]
  },
  {
   "cell_type": "code",
   "execution_count": null,
   "metadata": {},
   "outputs": [],
   "source": [
    "temp = train[\"ORGANIZATION_TYPE\"].value_counts()\n",
    "temp.iplot(kind='bar', xTitle = 'Organization Name', yTitle = \"Count\", \n",
    "           title = 'Types of Organizations who applied for loan ', color = 'red')"
   ]
  },
  {
   "cell_type": "code",
   "execution_count": null,
   "metadata": {
    "collapsed": true
   },
   "outputs": [],
   "source": [
    "# Criando o data set por Tipo de Organização\n",
    "\n",
    "def create_score_organization_type():\n",
    "\n",
    "    temp = pd.DataFrame(train.groupby(['ORGANIZATION_TYPE', 'TARGET']).size())\n",
    "    temp.reset_index(inplace=True)\n",
    "    temp.rename(columns = {0:'Qtde'}, inplace = True)\n",
    "\n",
    "    score_organization = pd.pivot_table(temp,index=['ORGANIZATION_TYPE'], columns=['TARGET'], \n",
    "                                        values=['Qtde'], aggfunc=[np.sum], fill_value=0, margins=True)\n",
    "    score_organization.reset_index(inplace=True)\n",
    "    score_organization.rename(columns={ 0:'good_credit', 1:'bad_credit'}, inplace=True)\n",
    "    score_organization = score_organization.sort_values(by=[('sum', 'Qtde', 'All')], ascending=False)[1:len(score_organization)]\n",
    "\n",
    "    return score_organization\n",
    "\n",
    "score_organization = create_score_organization_type()\n"
   ]
  },
  {
   "cell_type": "code",
   "execution_count": null,
   "metadata": {},
   "outputs": [],
   "source": [
    "trace1 = go.Bar(\n",
    "    x = score_organization['ORGANIZATION_TYPE'],\n",
    "    y = score_organization[('sum', 'Qtde', 'good_credit')],\n",
    "    name = 'Good'\n",
    ")\n",
    "trace2 = go.Bar(\n",
    "    x = score_organization['ORGANIZATION_TYPE'],\n",
    "    y = score_organization[('sum', 'Qtde', 'bad_credit')],\n",
    "    name = 'Bad'\n",
    ")\n",
    "\n",
    "data = [trace1, trace2]\n",
    "layout = go.Layout(\n",
    "    barmode='stack', \n",
    "    title='Contratos por Tipo de Organização'\n",
    ")\n",
    "\n",
    "fig = go.Figure(data=data, layout=layout)\n",
    "py.iplot(fig, filename='stacked-bar')"
   ]
  },
  {
   "cell_type": "code",
   "execution_count": null,
   "metadata": {
    "collapsed": true
   },
   "outputs": [],
   "source": []
  },
  {
   "cell_type": "code",
   "execution_count": null,
   "metadata": {},
   "outputs": [],
   "source": [
    "temp = train[\"OCCUPATION_TYPE\"].value_counts()\n",
    "temp.iplot(kind='bar', xTitle = 'Occupation', yTitle = \"Count\", title = 'Occupation of Applicant\\'s who applied for loan', color = 'green')"
   ]
  },
  {
   "cell_type": "code",
   "execution_count": null,
   "metadata": {
    "collapsed": true
   },
   "outputs": [],
   "source": []
  }
 ],
 "metadata": {
  "kernelspec": {
   "display_name": "Python 3",
   "language": "python",
   "name": "python3"
  },
  "language_info": {
   "codemirror_mode": {
    "name": "ipython",
    "version": 3
   },
   "file_extension": ".py",
   "mimetype": "text/x-python",
   "name": "python",
   "nbconvert_exporter": "python",
   "pygments_lexer": "ipython3",
   "version": "3.6.3"
  }
 },
 "nbformat": 4,
 "nbformat_minor": 2
}
